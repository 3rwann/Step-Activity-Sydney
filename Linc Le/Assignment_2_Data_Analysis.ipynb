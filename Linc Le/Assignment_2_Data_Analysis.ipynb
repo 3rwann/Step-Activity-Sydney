{
  "nbformat": 4,
  "nbformat_minor": 0,
  "metadata": {
    "colab": {
      "provenance": []
    },
    "kernelspec": {
      "name": "python3",
      "display_name": "Python 3"
    },
    "language_info": {
      "name": "python"
    }
  },
  "cells": [
    {
      "cell_type": "markdown",
      "source": [
        "## Initial Assumptions and Predictions:\n",
        "\n",
        "### Assumptions:\n",
        "1. Each user will have varying levels of activity based on their lifestyle and usage of Fitbit.\n",
        "2. Inactivity is defined as any hour with fewer than 100 steps, and users should aim to stay active for at least 10 hours per day.\n",
        "3. Minute-level data will reveal bursts of activity, while hourly data will help identify extended periods of inactivity.\n",
        "\n",
        "### Predictions:\n",
        "- At least one of the users will likely exceed 10 hours of inactivity per day.\n",
        "- Users will exhibit varying step patterns, with some showing consistent activity and others displaying sporadic bursts."
      ],
      "metadata": {
        "id": "DB5QWiiQNVJz"
      }
    },
    {
      "cell_type": "code",
      "source": [
        "# prompt: Access My Drive/DATA3406 and get all  csv\n",
        "\n",
        "from google.colab import drive\n",
        "import os\n",
        "import pandas as pd\n",
        "\n",
        "drive.mount('/content/drive')\n",
        "\n",
        "data_dir = '/content/drive/MyDrive/DATA3406'  # Replace with your actual directory path\n",
        "\n"
      ],
      "metadata": {
        "colab": {
          "base_uri": "https://localhost:8080/"
        },
        "id": "H0mRnd6YOkxt",
        "outputId": "b31545bc-0228-4d6a-8237-ed67105fc28a"
      },
      "execution_count": 8,
      "outputs": [
        {
          "output_type": "stream",
          "name": "stdout",
          "text": [
            "Drive already mounted at /content/drive; to attempt to forcibly remount, call drive.mount(\"/content/drive\", force_remount=True).\n"
          ]
        }
      ]
    },
    {
      "cell_type": "code",
      "source": [],
      "metadata": {
        "colab": {
          "base_uri": "https://localhost:8080/"
        },
        "id": "6ADhKuQkPwFm",
        "outputId": "83aeb5dc-349e-4d7d-d1e4-0645faa78371"
      },
      "execution_count": 9,
      "outputs": [
        {
          "output_type": "stream",
          "name": "stdout",
          "text": [
            "['/content/drive/MyDrive/DATA3406/dailySteps_merged.csv', '/content/drive/MyDrive/DATA3406/hourlySteps_merged.csv', '/content/drive/MyDrive/DATA3406/minuteStepsWide_merged.csv']\n"
          ]
        }
      ]
    },
    {
      "cell_type": "markdown",
      "source": [
        "## Daily Step Count Analysis\n",
        "\n",
        "This section calculates the daily step statistics for each user. For each person, I will calculate:\n",
        "1. The total number of days for which we have data.\n",
        "2. The average step count per day.\n",
        "3. The maximum and minimum step count.\n",
        "4. An additional observation on the consistency of their daily activity levels."
      ],
      "metadata": {
        "id": "OjDr8wo0NdoA"
      }
    },
    {
      "cell_type": "markdown",
      "source": [
        "## Step 1: Data Loading and Filtering\n",
        "\n",
        "We begin by loading the data for each of the three selected users and filtering out their specific daily, hourly, and minute-level step data."
      ],
      "metadata": {
        "id": "ZXWmRzM3KVQv"
      }
    },
    {
      "cell_type": "code",
      "source": [
        "import pandas as pd\n",
        "daily_steps = pd.read_csv(str(data_dir) + '/dailySteps_merged.csv')\n",
        "hourly_steps = pd.read_csv(str(data_dir) + '/hourlySteps_merged.csv')\n",
        "minute_steps = pd.read_csv(str(data_dir)+ '/minuteStepsWide_merged.csv')\n",
        "\n",
        "print(daily_steps.head())\n",
        "print(hourly_steps.head())\n",
        "print(minute_steps.head())\n"
      ],
      "metadata": {
        "colab": {
          "base_uri": "https://localhost:8080/"
        },
        "id": "OnTuM3wv-3PE",
        "outputId": "6d23e07e-30d0-4c3b-94f0-c6649c50f8e9"
      },
      "execution_count": 12,
      "outputs": [
        {
          "output_type": "stream",
          "name": "stdout",
          "text": [
            "           Id ActivityDay  StepTotal\n",
            "0  1503960366   4/12/2016      13162\n",
            "1  1503960366   4/13/2016      10735\n",
            "2  1503960366   4/14/2016      10460\n",
            "3  1503960366   4/15/2016       9762\n",
            "4  1503960366   4/16/2016      12669\n",
            "           Id           ActivityHour  StepTotal\n",
            "0  1503960366  4/12/2016 12:00:00 AM        373\n",
            "1  1503960366   4/12/2016 1:00:00 AM        160\n",
            "2  1503960366   4/12/2016 2:00:00 AM        151\n",
            "3  1503960366   4/12/2016 3:00:00 AM          0\n",
            "4  1503960366   4/12/2016 4:00:00 AM          0\n",
            "           Id           ActivityHour  Steps00  Steps01  Steps02  Steps03  \\\n",
            "0  1503960366  4/13/2016 12:00:00 AM        4       16        0        0   \n",
            "1  1503960366   4/13/2016 1:00:00 AM        0        0        0        0   \n",
            "2  1503960366   4/13/2016 2:00:00 AM        0        0        0        0   \n",
            "3  1503960366   4/13/2016 3:00:00 AM        0        0        0        0   \n",
            "4  1503960366   4/13/2016 4:00:00 AM        0        0        0        0   \n",
            "\n",
            "   Steps04  Steps05  Steps06  Steps07  ...  Steps50  Steps51  Steps52  \\\n",
            "0        0        9        0       17  ...        0        9        8   \n",
            "1        0        0        0        0  ...        0        0        0   \n",
            "2        0        0        0        0  ...        0        0        0   \n",
            "3        0        0        0        0  ...        0        0        0   \n",
            "4        0        0        0        0  ...        0        0        0   \n",
            "\n",
            "   Steps53  Steps54  Steps55  Steps56  Steps57  Steps58  Steps59  \n",
            "0        0       20        1        0        0        0        0  \n",
            "1        0        0        0        0        0        0        0  \n",
            "2        0        0        0        0        0        0        0  \n",
            "3        0        0        0        0        0        0        0  \n",
            "4        0        0        0        0        0        0        0  \n",
            "\n",
            "[5 rows x 62 columns]\n"
          ]
        }
      ]
    },
    {
      "cell_type": "markdown",
      "source": [],
      "metadata": {
        "id": "nkuuM9KI_ZZk"
      }
    },
    {
      "cell_type": "code",
      "source": [
        "\n",
        "import random\n",
        "\n",
        "#Get seed\n",
        "random.seed(42)\n",
        "\n",
        "unique_ids = daily_steps['Id'].unique().tolist()\n",
        "\n",
        "selected_ids = random.sample(unique_ids, 3)\n",
        "print(selected_ids)\n",
        "\n",
        "# Define the inactivity threshold (e.g., fewer than 100 steps per hour is considered inactive)\n",
        "inactivity_threshold = 100"
      ],
      "metadata": {
        "colab": {
          "base_uri": "https://localhost:8080/"
        },
        "id": "sNhNwflsBCeO",
        "outputId": "dba3da56-10db-4ff3-ba8d-0cfb7c32d9ee"
      },
      "execution_count": 13,
      "outputs": [
        {
          "output_type": "stream",
          "name": "stdout",
          "text": [
            "[2320127002, 1624580081, 4558609924]\n"
          ]
        }
      ]
    },
    {
      "cell_type": "code",
      "source": [
        "user_analysis = {}\n",
        "\n",
        "# Loop through each of the selected users for detailed analysis\n",
        "for user_id in selected_ids:\n",
        "\n",
        "    # Filter the daily, hourly, and minute-level data for the specific user\n",
        "    user_daily_data = daily_steps[daily_steps['Id'] == user_id]\n",
        "    user_hourly_data = hourly_steps[hourly_steps['Id'] == user_id]\n",
        "    user_minute_data = minute_steps[minute_steps['Id'] == user_id]\n",
        "\n",
        "    # Proceed to analyze each user"
      ],
      "metadata": {
        "id": "dt45xT8nKNEZ"
      },
      "execution_count": 14,
      "outputs": []
    },
    {
      "cell_type": "code",
      "source": [],
      "metadata": {
        "id": "k752fIGbKO4m"
      },
      "execution_count": null,
      "outputs": []
    },
    {
      "cell_type": "markdown",
      "source": [
        "## Step 2: Daily Step Count Analysis\n",
        "\n",
        "In this step, we calculate the total number of days of data for the user, along with the average, maximum, and minimum number of steps per day."
      ],
      "metadata": {
        "id": "KDUTNOUKKSjs"
      }
    },
    {
      "cell_type": "code",
      "source": [],
      "metadata": {
        "id": "hbriIh9_K8kP"
      },
      "execution_count": null,
      "outputs": []
    },
    {
      "cell_type": "code",
      "source": [
        "# Loop through each user for daily step count analysis\n",
        "for user_id in selected_ids:\n",
        "    user_daily_data = daily_steps[daily_steps['Id'] == user_id]\n",
        "\n",
        "    # Step 1: Calculate daily statistics\n",
        "    total_days = len(user_daily_data)  # Total number of days of data\n",
        "    daily_avg = user_daily_data['StepTotal'].mean()  # Average steps per day\n",
        "    daily_max = user_daily_data['StepTotal'].max()  # Maximum steps on a day\n",
        "    daily_min = user_daily_data['StepTotal'].min()  # Minimum steps on a day\n",
        "\n",
        "    # Store results in the dictionary\n",
        "    if user_id not in user_analysis:\n",
        "        user_analysis[user_id] = {}\n",
        "\n",
        "    user_analysis[user_id]['total_days'] = total_days\n",
        "    user_analysis[user_id]['daily_avg'] = daily_avg\n",
        "    user_analysis[user_id]['daily_max'] = daily_max\n",
        "    user_analysis[user_id]['daily_min'] = daily_min"
      ],
      "metadata": {
        "id": "q4W4r2ScKc-W"
      },
      "execution_count": 15,
      "outputs": []
    },
    {
      "cell_type": "markdown",
      "source": [
        "## Step 3: Minute-Level Step Count Analysis\n",
        "\n",
        "Now we analyze minute-level data, focusing on the number of active (non-zero) minutes, missing data, and the average, maximum, and minimum steps taken in a minute. We also make an additional observation about burst activity based on the maximum steps in a minute."
      ],
      "metadata": {
        "id": "ZvoHh06EKkSu"
      }
    },
    {
      "cell_type": "code",
      "source": [
        "# Loop through each user for minute-level step count analysis\n",
        "for user_id in selected_ids:\n",
        "    user_minute_data = minute_steps[minute_steps['Id'] == user_id]\n",
        "    user_minute_steps = user_minute_data.iloc[:, 2:]  # Step columns are from index 2 onwards\n",
        "\n",
        "    total_non_zero_minutes = (user_minute_steps > 0).sum().sum()  # Total non-zero minutes\n",
        "    missing_data = user_minute_steps.isnull().sum().sum()  # Missing data\n",
        "    avg_steps_per_minute = user_minute_steps.mean().mean()  # Average steps per minute\n",
        "    max_steps_per_minute = user_minute_steps.max().max()  # Maximum steps in a minute\n",
        "    min_steps_per_minute = user_minute_steps.min().min()  # Minimum steps in a minute\n",
        "\n",
        "    # Additional observation: Analyze burst activity\n",
        "    active_periods_observation = \"User shows frequent bursts of activity.\" \\\n",
        "        if max_steps_per_minute > 150 else \"User's activity is more spread out throughout the day.\"\n",
        "\n",
        "    # Store minute-level data in the user dictionary\n",
        "    user_analysis[user_id]['non_zero_minutes'] = total_non_zero_minutes\n",
        "    user_analysis[user_id]['missing_data'] = missing_data\n",
        "    user_analysis[user_id]['avg_steps_per_minute'] = avg_steps_per_minute\n",
        "    user_analysis[user_id]['max_steps_per_minute'] = max_steps_per_minute\n",
        "    user_analysis[user_id]['min_steps_per_minute'] = min_steps_per_minute\n",
        "    user_analysis[user_id]['active_periods_observation'] = active_periods_observation"
      ],
      "metadata": {
        "id": "fBIXvJ8DKkxj"
      },
      "execution_count": 16,
      "outputs": []
    },
    {
      "cell_type": "code",
      "source": [],
      "metadata": {
        "id": "JRRWGeyGKtHi"
      },
      "execution_count": null,
      "outputs": []
    },
    {
      "cell_type": "code",
      "source": [
        "# Loop through each user for inactive hours calculation\n",
        "for user_id in selected_ids:\n",
        "    user_hourly_data = hourly_steps[hourly_steps['Id'] == user_id]\n",
        "\n",
        "    # Step 3: Calculate inactive hours (hours where steps < inactivity threshold)\n",
        "    inactive_hours = (user_hourly_data['StepTotal'] < inactivity_threshold).sum()\n",
        "\n",
        "    # Store the inactive hours in the user dictionary\n",
        "    user_analysis[user_id]['inactive_hours'] = inactive_hours"
      ],
      "metadata": {
        "id": "RNTUbXK3K0Lj"
      },
      "execution_count": 17,
      "outputs": []
    },
    {
      "cell_type": "code",
      "source": [
        "# Convert the results into a DataFrame for easier viewing and interpretation\n",
        "user_analysis_df = pd.DataFrame(user_analysis).T\n",
        "\n",
        "user_analysis_df"
      ],
      "metadata": {
        "colab": {
          "base_uri": "https://localhost:8080/",
          "height": 215
        },
        "id": "3Fm124Dp8xjC",
        "outputId": "f43007d9-aed0-4069-a600-5c7e888656b0"
      },
      "execution_count": 18,
      "outputs": [
        {
          "output_type": "execute_result",
          "data": {
            "text/plain": [
              "           total_days    daily_avg daily_max daily_min non_zero_minutes  \\\n",
              "2320127002         31  4716.870968     10725       772             6079   \n",
              "1624580081         31  5743.903226     36019      1510             3679   \n",
              "4558609924         31  7685.129032     13743      3428             9193   \n",
              "\n",
              "           missing_data avg_steps_per_minute max_steps_per_minute  \\\n",
              "2320127002            0             3.161614                  123   \n",
              "1624580081            0             3.975217                  184   \n",
              "4558609924            0             5.503231                  207   \n",
              "\n",
              "           min_steps_per_minute  \\\n",
              "2320127002                    0   \n",
              "1624580081                    0   \n",
              "4558609924                    0   \n",
              "\n",
              "                                   active_periods_observation inactive_hours  \n",
              "2320127002  User's activity is more spread out throughout ...            394  \n",
              "1624580081            User shows frequent bursts of activity.            461  \n",
              "4558609924            User shows frequent bursts of activity.            336  "
            ],
            "text/html": [
              "\n",
              "  <div id=\"df-63c03c4c-4c51-4f94-ba45-0275b806993d\" class=\"colab-df-container\">\n",
              "    <div>\n",
              "<style scoped>\n",
              "    .dataframe tbody tr th:only-of-type {\n",
              "        vertical-align: middle;\n",
              "    }\n",
              "\n",
              "    .dataframe tbody tr th {\n",
              "        vertical-align: top;\n",
              "    }\n",
              "\n",
              "    .dataframe thead th {\n",
              "        text-align: right;\n",
              "    }\n",
              "</style>\n",
              "<table border=\"1\" class=\"dataframe\">\n",
              "  <thead>\n",
              "    <tr style=\"text-align: right;\">\n",
              "      <th></th>\n",
              "      <th>total_days</th>\n",
              "      <th>daily_avg</th>\n",
              "      <th>daily_max</th>\n",
              "      <th>daily_min</th>\n",
              "      <th>non_zero_minutes</th>\n",
              "      <th>missing_data</th>\n",
              "      <th>avg_steps_per_minute</th>\n",
              "      <th>max_steps_per_minute</th>\n",
              "      <th>min_steps_per_minute</th>\n",
              "      <th>active_periods_observation</th>\n",
              "      <th>inactive_hours</th>\n",
              "    </tr>\n",
              "  </thead>\n",
              "  <tbody>\n",
              "    <tr>\n",
              "      <th>2320127002</th>\n",
              "      <td>31</td>\n",
              "      <td>4716.870968</td>\n",
              "      <td>10725</td>\n",
              "      <td>772</td>\n",
              "      <td>6079</td>\n",
              "      <td>0</td>\n",
              "      <td>3.161614</td>\n",
              "      <td>123</td>\n",
              "      <td>0</td>\n",
              "      <td>User's activity is more spread out throughout ...</td>\n",
              "      <td>394</td>\n",
              "    </tr>\n",
              "    <tr>\n",
              "      <th>1624580081</th>\n",
              "      <td>31</td>\n",
              "      <td>5743.903226</td>\n",
              "      <td>36019</td>\n",
              "      <td>1510</td>\n",
              "      <td>3679</td>\n",
              "      <td>0</td>\n",
              "      <td>3.975217</td>\n",
              "      <td>184</td>\n",
              "      <td>0</td>\n",
              "      <td>User shows frequent bursts of activity.</td>\n",
              "      <td>461</td>\n",
              "    </tr>\n",
              "    <tr>\n",
              "      <th>4558609924</th>\n",
              "      <td>31</td>\n",
              "      <td>7685.129032</td>\n",
              "      <td>13743</td>\n",
              "      <td>3428</td>\n",
              "      <td>9193</td>\n",
              "      <td>0</td>\n",
              "      <td>5.503231</td>\n",
              "      <td>207</td>\n",
              "      <td>0</td>\n",
              "      <td>User shows frequent bursts of activity.</td>\n",
              "      <td>336</td>\n",
              "    </tr>\n",
              "  </tbody>\n",
              "</table>\n",
              "</div>\n",
              "    <div class=\"colab-df-buttons\">\n",
              "\n",
              "  <div class=\"colab-df-container\">\n",
              "    <button class=\"colab-df-convert\" onclick=\"convertToInteractive('df-63c03c4c-4c51-4f94-ba45-0275b806993d')\"\n",
              "            title=\"Convert this dataframe to an interactive table.\"\n",
              "            style=\"display:none;\">\n",
              "\n",
              "  <svg xmlns=\"http://www.w3.org/2000/svg\" height=\"24px\" viewBox=\"0 -960 960 960\">\n",
              "    <path d=\"M120-120v-720h720v720H120Zm60-500h600v-160H180v160Zm220 220h160v-160H400v160Zm0 220h160v-160H400v160ZM180-400h160v-160H180v160Zm440 0h160v-160H620v160ZM180-180h160v-160H180v160Zm440 0h160v-160H620v160Z\"/>\n",
              "  </svg>\n",
              "    </button>\n",
              "\n",
              "  <style>\n",
              "    .colab-df-container {\n",
              "      display:flex;\n",
              "      gap: 12px;\n",
              "    }\n",
              "\n",
              "    .colab-df-convert {\n",
              "      background-color: #E8F0FE;\n",
              "      border: none;\n",
              "      border-radius: 50%;\n",
              "      cursor: pointer;\n",
              "      display: none;\n",
              "      fill: #1967D2;\n",
              "      height: 32px;\n",
              "      padding: 0 0 0 0;\n",
              "      width: 32px;\n",
              "    }\n",
              "\n",
              "    .colab-df-convert:hover {\n",
              "      background-color: #E2EBFA;\n",
              "      box-shadow: 0px 1px 2px rgba(60, 64, 67, 0.3), 0px 1px 3px 1px rgba(60, 64, 67, 0.15);\n",
              "      fill: #174EA6;\n",
              "    }\n",
              "\n",
              "    .colab-df-buttons div {\n",
              "      margin-bottom: 4px;\n",
              "    }\n",
              "\n",
              "    [theme=dark] .colab-df-convert {\n",
              "      background-color: #3B4455;\n",
              "      fill: #D2E3FC;\n",
              "    }\n",
              "\n",
              "    [theme=dark] .colab-df-convert:hover {\n",
              "      background-color: #434B5C;\n",
              "      box-shadow: 0px 1px 3px 1px rgba(0, 0, 0, 0.15);\n",
              "      filter: drop-shadow(0px 1px 2px rgba(0, 0, 0, 0.3));\n",
              "      fill: #FFFFFF;\n",
              "    }\n",
              "  </style>\n",
              "\n",
              "    <script>\n",
              "      const buttonEl =\n",
              "        document.querySelector('#df-63c03c4c-4c51-4f94-ba45-0275b806993d button.colab-df-convert');\n",
              "      buttonEl.style.display =\n",
              "        google.colab.kernel.accessAllowed ? 'block' : 'none';\n",
              "\n",
              "      async function convertToInteractive(key) {\n",
              "        const element = document.querySelector('#df-63c03c4c-4c51-4f94-ba45-0275b806993d');\n",
              "        const dataTable =\n",
              "          await google.colab.kernel.invokeFunction('convertToInteractive',\n",
              "                                                    [key], {});\n",
              "        if (!dataTable) return;\n",
              "\n",
              "        const docLinkHtml = 'Like what you see? Visit the ' +\n",
              "          '<a target=\"_blank\" href=https://colab.research.google.com/notebooks/data_table.ipynb>data table notebook</a>'\n",
              "          + ' to learn more about interactive tables.';\n",
              "        element.innerHTML = '';\n",
              "        dataTable['output_type'] = 'display_data';\n",
              "        await google.colab.output.renderOutput(dataTable, element);\n",
              "        const docLink = document.createElement('div');\n",
              "        docLink.innerHTML = docLinkHtml;\n",
              "        element.appendChild(docLink);\n",
              "      }\n",
              "    </script>\n",
              "  </div>\n",
              "\n",
              "\n",
              "<div id=\"df-3cb98e85-416b-40d3-a2e2-8bec0b7a4643\">\n",
              "  <button class=\"colab-df-quickchart\" onclick=\"quickchart('df-3cb98e85-416b-40d3-a2e2-8bec0b7a4643')\"\n",
              "            title=\"Suggest charts\"\n",
              "            style=\"display:none;\">\n",
              "\n",
              "<svg xmlns=\"http://www.w3.org/2000/svg\" height=\"24px\"viewBox=\"0 0 24 24\"\n",
              "     width=\"24px\">\n",
              "    <g>\n",
              "        <path d=\"M19 3H5c-1.1 0-2 .9-2 2v14c0 1.1.9 2 2 2h14c1.1 0 2-.9 2-2V5c0-1.1-.9-2-2-2zM9 17H7v-7h2v7zm4 0h-2V7h2v10zm4 0h-2v-4h2v4z\"/>\n",
              "    </g>\n",
              "</svg>\n",
              "  </button>\n",
              "\n",
              "<style>\n",
              "  .colab-df-quickchart {\n",
              "      --bg-color: #E8F0FE;\n",
              "      --fill-color: #1967D2;\n",
              "      --hover-bg-color: #E2EBFA;\n",
              "      --hover-fill-color: #174EA6;\n",
              "      --disabled-fill-color: #AAA;\n",
              "      --disabled-bg-color: #DDD;\n",
              "  }\n",
              "\n",
              "  [theme=dark] .colab-df-quickchart {\n",
              "      --bg-color: #3B4455;\n",
              "      --fill-color: #D2E3FC;\n",
              "      --hover-bg-color: #434B5C;\n",
              "      --hover-fill-color: #FFFFFF;\n",
              "      --disabled-bg-color: #3B4455;\n",
              "      --disabled-fill-color: #666;\n",
              "  }\n",
              "\n",
              "  .colab-df-quickchart {\n",
              "    background-color: var(--bg-color);\n",
              "    border: none;\n",
              "    border-radius: 50%;\n",
              "    cursor: pointer;\n",
              "    display: none;\n",
              "    fill: var(--fill-color);\n",
              "    height: 32px;\n",
              "    padding: 0;\n",
              "    width: 32px;\n",
              "  }\n",
              "\n",
              "  .colab-df-quickchart:hover {\n",
              "    background-color: var(--hover-bg-color);\n",
              "    box-shadow: 0 1px 2px rgba(60, 64, 67, 0.3), 0 1px 3px 1px rgba(60, 64, 67, 0.15);\n",
              "    fill: var(--button-hover-fill-color);\n",
              "  }\n",
              "\n",
              "  .colab-df-quickchart-complete:disabled,\n",
              "  .colab-df-quickchart-complete:disabled:hover {\n",
              "    background-color: var(--disabled-bg-color);\n",
              "    fill: var(--disabled-fill-color);\n",
              "    box-shadow: none;\n",
              "  }\n",
              "\n",
              "  .colab-df-spinner {\n",
              "    border: 2px solid var(--fill-color);\n",
              "    border-color: transparent;\n",
              "    border-bottom-color: var(--fill-color);\n",
              "    animation:\n",
              "      spin 1s steps(1) infinite;\n",
              "  }\n",
              "\n",
              "  @keyframes spin {\n",
              "    0% {\n",
              "      border-color: transparent;\n",
              "      border-bottom-color: var(--fill-color);\n",
              "      border-left-color: var(--fill-color);\n",
              "    }\n",
              "    20% {\n",
              "      border-color: transparent;\n",
              "      border-left-color: var(--fill-color);\n",
              "      border-top-color: var(--fill-color);\n",
              "    }\n",
              "    30% {\n",
              "      border-color: transparent;\n",
              "      border-left-color: var(--fill-color);\n",
              "      border-top-color: var(--fill-color);\n",
              "      border-right-color: var(--fill-color);\n",
              "    }\n",
              "    40% {\n",
              "      border-color: transparent;\n",
              "      border-right-color: var(--fill-color);\n",
              "      border-top-color: var(--fill-color);\n",
              "    }\n",
              "    60% {\n",
              "      border-color: transparent;\n",
              "      border-right-color: var(--fill-color);\n",
              "    }\n",
              "    80% {\n",
              "      border-color: transparent;\n",
              "      border-right-color: var(--fill-color);\n",
              "      border-bottom-color: var(--fill-color);\n",
              "    }\n",
              "    90% {\n",
              "      border-color: transparent;\n",
              "      border-bottom-color: var(--fill-color);\n",
              "    }\n",
              "  }\n",
              "</style>\n",
              "\n",
              "  <script>\n",
              "    async function quickchart(key) {\n",
              "      const quickchartButtonEl =\n",
              "        document.querySelector('#' + key + ' button');\n",
              "      quickchartButtonEl.disabled = true;  // To prevent multiple clicks.\n",
              "      quickchartButtonEl.classList.add('colab-df-spinner');\n",
              "      try {\n",
              "        const charts = await google.colab.kernel.invokeFunction(\n",
              "            'suggestCharts', [key], {});\n",
              "      } catch (error) {\n",
              "        console.error('Error during call to suggestCharts:', error);\n",
              "      }\n",
              "      quickchartButtonEl.classList.remove('colab-df-spinner');\n",
              "      quickchartButtonEl.classList.add('colab-df-quickchart-complete');\n",
              "    }\n",
              "    (() => {\n",
              "      let quickchartButtonEl =\n",
              "        document.querySelector('#df-3cb98e85-416b-40d3-a2e2-8bec0b7a4643 button');\n",
              "      quickchartButtonEl.style.display =\n",
              "        google.colab.kernel.accessAllowed ? 'block' : 'none';\n",
              "    })();\n",
              "  </script>\n",
              "</div>\n",
              "\n",
              "  <div id=\"id_554b3750-2be8-4130-b3a1-c75164b3b8d0\">\n",
              "    <style>\n",
              "      .colab-df-generate {\n",
              "        background-color: #E8F0FE;\n",
              "        border: none;\n",
              "        border-radius: 50%;\n",
              "        cursor: pointer;\n",
              "        display: none;\n",
              "        fill: #1967D2;\n",
              "        height: 32px;\n",
              "        padding: 0 0 0 0;\n",
              "        width: 32px;\n",
              "      }\n",
              "\n",
              "      .colab-df-generate:hover {\n",
              "        background-color: #E2EBFA;\n",
              "        box-shadow: 0px 1px 2px rgba(60, 64, 67, 0.3), 0px 1px 3px 1px rgba(60, 64, 67, 0.15);\n",
              "        fill: #174EA6;\n",
              "      }\n",
              "\n",
              "      [theme=dark] .colab-df-generate {\n",
              "        background-color: #3B4455;\n",
              "        fill: #D2E3FC;\n",
              "      }\n",
              "\n",
              "      [theme=dark] .colab-df-generate:hover {\n",
              "        background-color: #434B5C;\n",
              "        box-shadow: 0px 1px 3px 1px rgba(0, 0, 0, 0.15);\n",
              "        filter: drop-shadow(0px 1px 2px rgba(0, 0, 0, 0.3));\n",
              "        fill: #FFFFFF;\n",
              "      }\n",
              "    </style>\n",
              "    <button class=\"colab-df-generate\" onclick=\"generateWithVariable('user_analysis_df')\"\n",
              "            title=\"Generate code using this dataframe.\"\n",
              "            style=\"display:none;\">\n",
              "\n",
              "  <svg xmlns=\"http://www.w3.org/2000/svg\" height=\"24px\"viewBox=\"0 0 24 24\"\n",
              "       width=\"24px\">\n",
              "    <path d=\"M7,19H8.4L18.45,9,17,7.55,7,17.6ZM5,21V16.75L18.45,3.32a2,2,0,0,1,2.83,0l1.4,1.43a1.91,1.91,0,0,1,.58,1.4,1.91,1.91,0,0,1-.58,1.4L9.25,21ZM18.45,9,17,7.55Zm-12,3A5.31,5.31,0,0,0,4.9,8.1,5.31,5.31,0,0,0,1,6.5,5.31,5.31,0,0,0,4.9,4.9,5.31,5.31,0,0,0,6.5,1,5.31,5.31,0,0,0,8.1,4.9,5.31,5.31,0,0,0,12,6.5,5.46,5.46,0,0,0,6.5,12Z\"/>\n",
              "  </svg>\n",
              "    </button>\n",
              "    <script>\n",
              "      (() => {\n",
              "      const buttonEl =\n",
              "        document.querySelector('#id_554b3750-2be8-4130-b3a1-c75164b3b8d0 button.colab-df-generate');\n",
              "      buttonEl.style.display =\n",
              "        google.colab.kernel.accessAllowed ? 'block' : 'none';\n",
              "\n",
              "      buttonEl.onclick = () => {\n",
              "        google.colab.notebook.generateWithVariable('user_analysis_df');\n",
              "      }\n",
              "      })();\n",
              "    </script>\n",
              "  </div>\n",
              "\n",
              "    </div>\n",
              "  </div>\n"
            ],
            "application/vnd.google.colaboratory.intrinsic+json": {
              "type": "dataframe",
              "variable_name": "user_analysis_df",
              "repr_error": "0"
            }
          },
          "metadata": {},
          "execution_count": 18
        }
      ]
    },
    {
      "cell_type": "code",
      "source": [
        "# Identifying sleep patterns byn year\n",
        "# Identify when hours inactive when they are awake\n",
        "# Identify hours inactive when including sleep\n",
        "# # Identify trends through the years - increaings /decreasing inactivity\n",
        "\n",
        "\n",
        "# Filter data for one user (example user: '1503960366')\n",
        "user_id = 1503960366\n",
        "daily_steps_user = daily_steps[daily_steps['Id'] == user_id]\n",
        "hourly_steps_user = hourly_steps[hourly_steps['Id'] == user_id]\n",
        "minute_steps_user = minute_steps[minute_steps['Id'] == user_id]\n",
        "\n",
        "# print(daily_steps_user)\n",
        "print(hourly_steps_user) # This is the most useful data set for this task\n",
        "# print(minute_steps_user)\n",
        "\n",
        "\n"
      ],
      "metadata": {
        "colab": {
          "base_uri": "https://localhost:8080/"
        },
        "id": "ZUskrXwYdAm4",
        "outputId": "3934104d-ed0e-4a4c-dd69-afb4002cd06d"
      },
      "execution_count": 19,
      "outputs": [
        {
          "output_type": "stream",
          "name": "stdout",
          "text": [
            "             Id           ActivityHour  StepTotal\n",
            "0    1503960366  4/12/2016 12:00:00 AM        373\n",
            "1    1503960366   4/12/2016 1:00:00 AM        160\n",
            "2    1503960366   4/12/2016 2:00:00 AM        151\n",
            "3    1503960366   4/12/2016 3:00:00 AM          0\n",
            "4    1503960366   4/12/2016 4:00:00 AM          0\n",
            "..          ...                    ...        ...\n",
            "712  1503960366   5/11/2016 4:00:00 PM        289\n",
            "713  1503960366   5/11/2016 5:00:00 PM        245\n",
            "714  1503960366   5/11/2016 6:00:00 PM       3449\n",
            "715  1503960366   5/11/2016 7:00:00 PM        293\n",
            "716  1503960366   5/11/2016 8:00:00 PM       1209\n",
            "\n",
            "[717 rows x 3 columns]\n"
          ]
        }
      ]
    },
    {
      "cell_type": "code",
      "source": [
        "#Identifying sleeping hours!!\n",
        "\n",
        "# Filter data for one user (example user: '1503960366')\n",
        "user_id = 1503960366\n",
        "hourly_steps_user = hourly_steps[hourly_steps['Id'] == user_id]\n",
        "\n",
        "# Create a copy of the DataFrame to work with, so the original is not altered\n",
        "hourly_steps_user_copy = hourly_steps_user.copy()\n",
        "\n",
        "# Convert 'ActivityHour' to datetime in the copy of the DataFrame\n",
        "hourly_steps_user_copy['ActivityHour'] = pd.to_datetime(hourly_steps_user_copy['ActivityHour'], format='%m/%d/%Y %I:%M:%S %p')\n",
        "\n",
        "# Define night hours (sleep hours: 10:00 PM to 6:00 AM)\n",
        "sleep_hours_start = '22:00:00'  # 10:00 PM\n",
        "sleep_hours_end = '07:00:00'    # 6:00 AM\n"
      ],
      "metadata": {
        "id": "keGyZuhJgOvK"
      },
      "execution_count": 20,
      "outputs": []
    },
    {
      "cell_type": "code",
      "source": [
        "# Filter for night hours in the copy\n",
        "hourly_steps_user_copy['hour'] = hourly_steps_user_copy['ActivityHour'].dt.time\n",
        "night_hours_filter = (hourly_steps_user_copy['ActivityHour'].dt.time >= pd.to_datetime(sleep_hours_start).time()) | \\\n",
        "                     (hourly_steps_user_copy['ActivityHour'].dt.time <= pd.to_datetime(sleep_hours_end).time())\n",
        "\n",
        "\n",
        "hourly_steps_night = hourly_steps_user_copy[night_hours_filter]\n",
        "print(hourly_steps_night)\n"
      ],
      "metadata": {
        "colab": {
          "base_uri": "https://localhost:8080/"
        },
        "id": "xnbL6t1EjeYQ",
        "outputId": "740cbc3f-cc59-4227-93e5-e3ba964028f7"
      },
      "execution_count": 21,
      "outputs": [
        {
          "output_type": "stream",
          "name": "stdout",
          "text": [
            "             Id        ActivityHour  StepTotal      hour\n",
            "0    1503960366 2016-04-12 00:00:00        373  00:00:00\n",
            "1    1503960366 2016-04-12 01:00:00        160  01:00:00\n",
            "2    1503960366 2016-04-12 02:00:00        151  02:00:00\n",
            "3    1503960366 2016-04-12 03:00:00          0  03:00:00\n",
            "4    1503960366 2016-04-12 04:00:00          0  04:00:00\n",
            "..          ...                 ...        ...       ...\n",
            "699  1503960366 2016-05-11 03:00:00         10  03:00:00\n",
            "700  1503960366 2016-05-11 04:00:00          0  04:00:00\n",
            "701  1503960366 2016-05-11 05:00:00          0  05:00:00\n",
            "702  1503960366 2016-05-11 06:00:00          0  06:00:00\n",
            "703  1503960366 2016-05-11 07:00:00         47  07:00:00\n",
            "\n",
            "[298 rows x 4 columns]\n"
          ]
        }
      ]
    },
    {
      "cell_type": "code",
      "source": [
        "# Define inactivity as zero or very low step count (e.g., < 100 steps)\n",
        "inactive_sleep_hours = hourly_steps_night[hourly_steps_night['StepTotal'] < 100]\n",
        "\n",
        "# Print out the identified inactive sleep hours\n",
        "print(\"Identified sleep hours for user with inactivity:\")\n",
        "print(inactive_sleep_hours[['ActivityHour', 'StepTotal']])\n"
      ],
      "metadata": {
        "colab": {
          "base_uri": "https://localhost:8080/"
        },
        "id": "76qXLAczkA3E",
        "outputId": "f1cf85be-74b9-4374-9268-569dd2d21b2f"
      },
      "execution_count": 22,
      "outputs": [
        {
          "output_type": "stream",
          "name": "stdout",
          "text": [
            "Identified sleep hours for user with inactivity:\n",
            "           ActivityHour  StepTotal\n",
            "3   2016-04-12 03:00:00          0\n",
            "4   2016-04-12 04:00:00          0\n",
            "5   2016-04-12 05:00:00          0\n",
            "6   2016-04-12 06:00:00          0\n",
            "7   2016-04-12 07:00:00          0\n",
            "..                  ...        ...\n",
            "699 2016-05-11 03:00:00         10\n",
            "700 2016-05-11 04:00:00          0\n",
            "701 2016-05-11 05:00:00          0\n",
            "702 2016-05-11 06:00:00          0\n",
            "703 2016-05-11 07:00:00         47\n",
            "\n",
            "[230 rows x 2 columns]\n"
          ]
        }
      ]
    },
    {
      "cell_type": "code",
      "source": [
        "import matplotlib.pyplot as plt\n",
        "\n",
        "# Filter data for one user (example user: '1503960366')\n",
        "user_id = 1503960366\n",
        "hourly_steps_user = hourly_steps[hourly_steps['Id'] == user_id].copy()\n",
        "\n",
        "# Convert 'ActivityHour' to datetime\n",
        "hourly_steps_user['ActivityHour'] = pd.to_datetime(hourly_steps_user['ActivityHour'], format='%m/%d/%Y %I:%M:%S %p')\n",
        "\n",
        "# Plotting activity patterns\n",
        "plt.figure(figsize=(10, 6))\n",
        "plt.plot(hourly_steps_user['ActivityHour'], hourly_steps_user['StepTotal'], label='Steps', color='b')\n",
        "\n",
        "# Formatting the plot\n",
        "plt.title(f\"User {user_id}'s Activity Patterns\", fontsize=16)\n",
        "plt.xlabel('Time (Activity Hour)', fontsize=12)\n",
        "plt.ylabel('Step Total', fontsize=12)\n",
        "plt.xticks(rotation=45)  # Rotate x-axis labels for better readability\n",
        "plt.grid(True)\n",
        "plt.legend()\n",
        "\n",
        "# Show the plot\n",
        "plt.tight_layout()\n",
        "plt.show()"
      ],
      "metadata": {
        "colab": {
          "base_uri": "https://localhost:8080/",
          "height": 526
        },
        "id": "7SHUScudkX1r",
        "outputId": "56ed8a2e-849d-46fd-eaff-4f5920ee3003"
      },
      "execution_count": 23,
      "outputs": [
        {
          "output_type": "display_data",
          "data": {
            "text/plain": [
              "<Figure size 1000x600 with 1 Axes>"
            ],
            "image/png": "[encoded data removed]"
          },
          "metadata": {}
        }
      ]
    },
    {
      "cell_type": "code",
      "source": [
        "import pandas as pd\n",
        "import matplotlib.pyplot as plt\n",
        "\n",
        "\n",
        "\n",
        "# Filter data for one user (example user: '1503960366')\n",
        "user_id = 1503960366\n",
        "hourly_steps_user = hourly_steps[hourly_steps['Id'] == user_id].copy()\n",
        "\n",
        "# Convert 'ActivityHour' to datetime\n",
        "hourly_steps_user['ActivityHour'] = pd.to_datetime(hourly_steps_user['ActivityHour'], format='%m/%d/%Y %I:%M:%S %p')\n",
        "\n",
        "# Define threshold for inactivity (e.g., less than 100 steps is considered inactive)\n",
        "inactive_threshold = 100\n",
        "\n",
        "# Create a new column 'ActivityStatus' to classify activity vs inactivity\n",
        "hourly_steps_user['ActivityStatus'] = hourly_steps_user['StepTotal'].apply(lambda x: 'Active' if x >= inactive_threshold else 'Inactive')\n",
        "\n",
        "# Plotting active vs inactive periods\n",
        "plt.figure(figsize=(10, 6))\n",
        "\n",
        "# Plot inactive periods (steps below threshold)\n",
        "inactive_periods = hourly_steps_user[hourly_steps_user['ActivityStatus'] == 'Inactive']\n",
        "plt.plot(inactive_periods['ActivityHour'], inactive_periods['StepTotal'], 'ro', label='Inactive', markersize=5)\n",
        "\n",
        "# Plot active periods (steps above threshold)\n",
        "active_periods = hourly_steps_user[hourly_steps_user['ActivityStatus'] == 'Active']\n",
        "plt.plot(active_periods['ActivityHour'], active_periods['StepTotal'], 'bo', label='Active', markersize=5)\n",
        "\n",
        "# Formatting the plot\n",
        "plt.title(f\"User {user_id}'s Activity vs Inactivity Patterns\", fontsize=16)\n",
        "plt.xlabel('Time (Activity Hour)', fontsize=12)\n",
        "plt.ylabel('Step Total', fontsize=12)\n",
        "plt.xticks(rotation=45)  # Rotate x-axis labels for better readability\n",
        "plt.grid(True)\n",
        "plt.legend()\n",
        "\n",
        "# Show the plot\n",
        "plt.tight_layout()\n",
        "plt.show()"
      ],
      "metadata": {
        "colab": {
          "base_uri": "https://localhost:8080/",
          "height": 627
        },
        "id": "rT--XSkpkov6",
        "outputId": "d81f69fe-ac84-4e5a-bcf9-d11dc2e7fef5"
      },
      "execution_count": 24,
      "outputs": [
        {
          "output_type": "display_data",
          "data": {
            "text/plain": [
              "<Figure size 1000x600 with 1 Axes>"
            ],
            "image/png": "[encoded data removed]"
          },
          "metadata": {}
        }
      ]
    },
    {
      "cell_type": "code",
      "source": [
        "\n",
        "# Function to calculate average daily step count for a specific user\n",
        "def calculate_inactivity_including_sleep(user_id, daily_steps):\n",
        "    \"\"\"\n",
        "    This function calculates the average daily step count for a given user\n",
        "    and determines if it is less than 100 steps per day, including all periods (including sleep).\n",
        "\n",
        "    Parameters:\n",
        "    user_id (int): The ID of the user to analyze\n",
        "    daily_steps (DataFrame): The daily steps dataset containing 'Id' and 'StepTotal'\n",
        "\n",
        "    Returns:\n",
        "    average_daily_steps (float): The average daily step count for the user\n",
        "    is_inactive (bool): True if the average daily step count is less than 100, False otherwise\n",
        "    \"\"\"\n",
        "    # Filter data for the specific user\n",
        "    daily_steps_user = daily_steps[daily_steps['Id'] == user_id].copy()\n",
        "\n",
        "    # Calculate the average daily step count\n",
        "    average_daily_steps = daily_steps_user['StepTotal'].mean()\n",
        "\n",
        "    # Determine if the user is inactive (average steps < 100)\n",
        "    is_inactive = average_daily_steps < 100\n",
        "\n",
        "    # Return the result\n",
        "    return average_daily_steps, is_inactive\n",
        "\n",
        "# Example usage\n",
        "user_id = 1503960366  # Replace with the user ID of your choice\n",
        "average_steps, inactive_including_sleep = calculate_inactivity_including_sleep(user_id, daily_steps)\n",
        "\n",
        "# Output the result\n",
        "print(f\"User {user_id}'s average daily step count is {average_steps:.2f}\")\n",
        "if inactive_including_sleep:\n",
        "    print(f\"User {user_id} is inactive (average daily step count is less than 100), including sleep periods.\")\n",
        "else:\n",
        "    print(f\"User {user_id} is active (average daily step count is 100 or more), including sleep periods.\")"
      ],
      "metadata": {
        "colab": {
          "base_uri": "https://localhost:8080/"
        },
        "id": "z3_bTIcgvTUu",
        "outputId": "0a96430d-82e2-4a36-98e4-cf3a3fb5a401"
      },
      "execution_count": 31,
      "outputs": [
        {
          "output_type": "stream",
          "name": "stdout",
          "text": [
            "User 1503960366's average daily step count is 12116.74\n",
            "User 1503960366 is active (average daily step count is 100 or more), including sleep periods.\n"
          ]
        }
      ]
    },
    {
      "cell_type": "markdown",
      "source": [],
      "metadata": {
        "id": "REUJLLWLSVHn"
      }
    },
    {
      "cell_type": "markdown",
      "source": [
        "#CREATES RANDOM USERS\n"
      ],
      "metadata": {
        "id": "YVlE7xsTSLz1"
      }
    },
    {
      "cell_type": "code",
      "source": [
        "def get_random_users(df, num_users=1, seed=None):\n",
        "    \"\"\"\n",
        "    This function selects random users from the dataset.\n",
        "\n",
        "    Parameters:\n",
        "    df (DataFrame): The DataFrame containing the data with user 'Id' column.\n",
        "    num_users (int): The number of random users to select (default is 1).\n",
        "    seed (int): Random seed for reproducibility (optional).\n",
        "\n",
        "    Returns:\n",
        "    List of random user IDs.\n",
        "    \"\"\"\n",
        "    # Set the random seed if provided (optional for reproducibility)\n",
        "    if seed is not None:\n",
        "        random.seed(seed)\n",
        "\n",
        "    # Get the unique user IDs from the dataset\n",
        "    unique_users = df['Id'].unique()\n",
        "\n",
        "    # Select the random users\n",
        "    random_users = random.sample(list(unique_users), num_users)\n",
        "\n",
        "    return random_users\n",
        "\n",
        "# Example usage\n",
        "random_users = get_random_users(daily_steps, num_users=3, seed=42)  # Select 3 random users\n",
        "print(\"Randomly selected user IDs:\", random_users)"
      ],
      "metadata": {
        "colab": {
          "base_uri": "https://localhost:8080/"
        },
        "id": "EEPvHMy_SLHB",
        "outputId": "3f135da6-c0f7-469d-989f-51a9c20766fa"
      },
      "execution_count": 29,
      "outputs": [
        {
          "output_type": "stream",
          "name": "stdout",
          "text": [
            "Randomly selected user IDs: [2320127002, 1624580081, 4558609924]\n"
          ]
        }
      ]
    },
    {
      "cell_type": "code",
      "source": [
        "import pandas as pd\n",
        "\n",
        "# Function to calculate average daily step count excluding sleep periods\n",
        "def calculate_inactivity_excluding_sleep(user_id, hourly_steps, sleep_start='22:00:00', sleep_end='06:00:00'):\n",
        "    \"\"\"\n",
        "    This function calculates the average daily step count for a given user\n",
        "    and determines if it is less than 100 steps per day, excluding sleep periods.\n",
        "\n",
        "    Parameters:\n",
        "    user_id (int): The ID of the user to analyze\n",
        "    hourly_steps (DataFrame): The hourly steps dataset containing 'Id', 'ActivityHour', and 'StepTotal'\n",
        "    sleep_start (str): Start time of the sleep period (default: 10:00 PM)\n",
        "    sleep_end (str): End time of the sleep period (default: 6:00 AM)\n",
        "\n",
        "    Returns:\n",
        "    average_daily_steps (float): The average daily step count for the user excluding sleep\n",
        "    is_inactive (bool): True if the average daily step count is less than 100, False otherwise\n",
        "    \"\"\"\n",
        "    # Filter data for the specific user\n",
        "    hourly_steps_user = hourly_steps[hourly_steps['Id'] == user_id].copy()\n",
        "\n",
        "    # Convert 'ActivityHour' to datetime\n",
        "    hourly_steps_user['ActivityHour'] = pd.to_datetime(hourly_steps_user['ActivityHour'], format='%m/%d/%Y %I:%M:%S %p')\n",
        "\n",
        "    # Define night hours (sleep hours: 10:00 PM to 6:00 AM)\n",
        "    sleep_hours_start = pd.to_datetime(sleep_start).time()\n",
        "    sleep_hours_end = pd.to_datetime(sleep_end).time()\n",
        "\n",
        "    # Filter out the hours that are during the sleep period\n",
        "    waking_hours = hourly_steps_user[\n",
        "        (hourly_steps_user['ActivityHour'].dt.time < sleep_hours_start) &\n",
        "        (hourly_steps_user['ActivityHour'].dt.time > sleep_hours_end)]\n",
        "\n",
        "    # Calculate total steps per day excluding sleep periods\n",
        "    daily_steps_excluding_sleep = waking_hours.groupby(waking_hours['ActivityHour'].dt.date)['StepTotal'].sum()\n",
        "    print(daily_steps_excluding_sleep)\n",
        "\n",
        "    # Calculate the average daily steps excluding sleep periods\n",
        "    average_daily_steps_excluding_sleep = daily_steps_excluding_sleep.mean()\n",
        "\n",
        "    # Determine if the user is inactive (average steps < 100)\n",
        "    is_inactive_excluding_sleep = average_daily_steps_excluding_sleep < 100\n",
        "\n",
        "    # Return the result\n",
        "    return average_daily_steps_excluding_sleep, is_inactive_excluding_sleep\n",
        "\n",
        "# Example usage\n",
        "user_id = 2320127002  # Replace with the user ID of your choice\n",
        "average_steps_excluding_sleep, inactive_excluding_sleep = calculate_inactivity_excluding_sleep(user_id, hourly_steps)\n",
        "\n",
        "# Output the result\n",
        "print(f\"User {user_id}'s average daily step count excluding sleep is {average_steps_excluding_sleep:.2f}\")\n",
        "if inactive_excluding_sleep:\n",
        "    print(f\"User {user_id} is inactive (average daily step count is less than 100), excluding sleep periods.\")\n",
        "else:\n",
        "    print(f\"User {user_id} is active (average daily step count is 100 or more), excluding sleep periods.\")"
      ],
      "metadata": {
        "colab": {
          "base_uri": "https://localhost:8080/"
        },
        "id": "YO5T0hhBRgKG",
        "outputId": "49ffa7ad-ef95-40e5-910e-7ec203d8f8bb"
      },
      "execution_count": 30,
      "outputs": [
        {
          "output_type": "stream",
          "name": "stdout",
          "text": [
            "ActivityHour\n",
            "2016-04-12    10121\n",
            "2016-04-13     5150\n",
            "2016-04-14     3614\n",
            "2016-04-15     5088\n",
            "2016-04-16     3820\n",
            "2016-04-17     5688\n",
            "2016-04-18     6030\n",
            "2016-04-19     3756\n",
            "2016-04-20     6179\n",
            "2016-04-21     2526\n",
            "2016-04-22     3301\n",
            "2016-04-23     3842\n",
            "2016-04-24     2985\n",
            "2016-04-25     2449\n",
            "2016-04-26     2314\n",
            "2016-04-27     1480\n",
            "2016-04-28      251\n",
            "2016-04-29      683\n",
            "2016-04-30     2404\n",
            "2016-05-01        0\n",
            "2016-05-02     2065\n",
            "2016-05-03     5152\n",
            "2016-05-04      874\n",
            "2016-05-05     4761\n",
            "2016-05-06     3679\n",
            "2016-05-07     6136\n",
            "2016-05-08     4529\n",
            "2016-05-09     2064\n",
            "2016-05-10     6156\n",
            "2016-05-11     5391\n",
            "2016-05-12     2564\n",
            "Name: StepTotal, dtype: int64\n",
            "User 2320127002's average daily step count excluding sleep is 3711.35\n",
            "User 2320127002 is active (average daily step count is 100 or more), excluding sleep periods.\n"
          ]
        }
      ]
    }
  ]
}