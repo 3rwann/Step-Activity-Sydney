{
 "cells": [
  {
   "cell_type": "code",
   "execution_count": 66,
   "metadata": {},
   "outputs": [],
   "source": [
    "import warnings\n",
    "\n",
    "# Suppress all warnings\n",
    "warnings.filterwarnings(\"ignore\")\n",
    "\n",
    "import random\n",
    "import pandas as pd\n",
    "import plotly.express as px\n",
    "import plotly.graph_objects as go\n",
    "import seaborn as sns\n",
    "import matplotlib.pyplot as plt\n",
    "from scipy.stats import ttest_1samp\n",
    "from scipy.stats import shapiro"
   ]
  },
  {
   "cell_type": "markdown",
   "metadata": {
    "id": "t7t0W3UVewCx"
   },
   "source": [
    "# Monitoring Hours of Inactivity in Individuals Per Day Using Fitbit Data\n",
    "\n",
    "**Author:** Jingwei Lin, Erwann Le Poul, Teng Yong Khoo, Gabriel Timothy, Hanchen Wang, Lincoln Le  \n",
    "  \n",
    "**Group:** CC08-3  \n",
    "  \n",
    "**Driving Problem:** Do they avoid inactivity in at least 10 hours a day?  \n",
    "  \n",
    "\n"
   ]
  },
  {
   "cell_type": "markdown",
   "metadata": {
    "id": "VoM43updewC0"
   },
   "source": [
    "## Introduction\n",
    "This analysis explores the driving question: \"Do the individuals in the dataset avoid inactivity for at least 10 hours a day?\" This driving question is important as it involves the public's health and well-being. This would allow our stakeholders to determine how to approach the issue."
   ]
  },
  {
   "cell_type": "markdown",
   "metadata": {},
   "source": [
    "## Stakeholders\n",
    "\n",
    "Our analysis identifies two primary stakeholders: **individual participants** and **government and health officials**, both of whom have significant interests in the findings of inactivity data. Each group stands to gain from understanding activity trends, allowing for both personal and public health advancements.\n",
    "\n",
    "The first key stakeholder is the **individual users**, whose step data is tracked and analyzed to determine if they avoid inactivity for at least 10 hours daily. These participants, who are likely using step tracking technology with a motivation to improve their health, provide essential data that shapes our analysis. The assumption is that their demographics such as gender, ethnicity, and activity levels, are representative of the broader population. Since their daily habits and consent are integral to data collection, they are a critical part of this process. The insights generated from their data can offer users valuable knowledge about their own activity levels, helping them to stay consistently active and make informed wellness decisions. However, potential risks include **privacy concerns** if data is not securely stored or used without consent, which could lead to harmful outcomes such as increased insurance premiums or hiring biases. Ethical data handling and a focus on secure storage are essential to mitigate these risks.\n",
    "\n",
    "The second key stakeholder is the **government and health sector**, which includes public health agencies and healthcare organizations dedicated to improving population health. These institutions depend on **population-level health data** to shape health initiatives, monitor trends, and manage healthcare resources effectively. Wearable devices provide a wealth of real-time data that can inform public health policy and targeted campaigns aimed at reducing inactivity. Aggregated insights from this data enable governments to develop **targeted health policies** or public campaigns to promote physical activity. The real-time aspect of this data also allows for more efficient resource allocation within healthcare systems. However, there are **privacy risks** if governments access data without clear public consent, as this could lead to public mistrust and resistance. Misuse of data for surveillance could also raise legal and ethical concerns, while unrepresentative data could skew public health campaigns, leading to ineffective or potentially biased policies.\n",
    "\n",
    "Our study aims to serve these stakeholders by providing accurate, data-driven insights that help individuals enhance their personal health and support public health efforts to foster an active population."
   ]
  },
  {
   "cell_type": "markdown",
   "metadata": {},
   "source": [
    "## Motivation\n",
    "Heart disease has been the number one killer in Australia for decades. One of the many reasons why heart attack occurs is a lack of physical activity. Being inactive for a substantial period can cause fatty material to build up in the individual's arteries. If these arteries that carry blood to the heart get clogged, it can lead to a heart attack which could have fatal consequences. In this analysis, we will explore whether Fitbit users included in the dataset avoid inactivity at least 10 hours a day.\n",
    "\n",
    "### Hypothesis\n",
    "**Null Hypothesis (H₀):** The average number of inactive hours per day is not greater than 10 hours.   \n",
    "There is no statistically significant difference between the observed mean inactivity and 10 hours per day.  \n",
    "$H_0: \\mu < 10$\n",
    "\n",
    "**Alternative Hypothesis (H₁):** The average number of inactive hours per day is greater than and equal to 10 hours.  \n",
    "There is a statistically significant difference between the observed mean inactivity and the 10-hour threshold.  \n",
    "$H_1: \\mu \\geq 10$ \n"
   ]
  },
  {
   "cell_type": "markdown",
   "metadata": {},
   "source": [
    "## Explanation of the data:\n",
    "There are two datasets that will be used for this analysis, namely the hourly step count dataset, and the minute step count dataset. The hourly step count dataset contains a list of user IDs, the hour of the activity, and the step count recorded for each and every hour. The minute step count dataset forms a wide dataset where each ID occupies its own row, and the variables which are the step count for every minute occupy a single column.  \n",
    "  \n",
    "Hour and Minute data were chosen because they provide a clear insight into the number of steps taken by selected individuals based on days, hours, or minutes, which could fit well into our driving problem. For example, there are a substantial number of zeros in all of the three datasets. We have noticed that the majority of zeros are concentrated between a certain period of time during the night. In this case, we would be using the hourly step count dataset to do a thorough analysis of whether the zero values are a true representation of the user’s activity level and therefore should be kept in the dataset.  \n",
    "  \n",
    "The datasets used in this report were provided by the University of Sydney as part of the specification in Assignment 2 for the course DATA3406 Human-in-the-Loop Data Analytics. It originally came from Kaggle and its license is CC0 (Public domain)\n"
   ]
  },
  {
   "cell_type": "markdown",
   "metadata": {
    "id": "KQispPRSewC0"
   },
   "source": [
    "## Exploratory Data Analysis\n"
   ]
  },
  {
   "cell_type": "markdown",
   "metadata": {
    "id": "ALLuKVveewC1"
   },
   "source": [
    "### Loading Data"
   ]
  },
  {
   "cell_type": "markdown",
   "metadata": {},
   "source": [
    "Use read_csv function in pandas to read daily, hour and minute datasets.\n",
    "Extract dimension of three datasets and glimpse to their head rows.\n",
    "\n",
    "Prediction: This dataset will be successfully loaded."
   ]
  },
  {
   "cell_type": "code",
   "execution_count": 67,
   "metadata": {
    "colab": {
     "base_uri": "https://localhost:8080/"
    },
    "id": "Wmzqn3eXewC1",
    "outputId": "db02a358-ecaa-4ebe-ec0b-7ffea00e10e5"
   },
   "outputs": [
    {
     "name": "stdout",
     "output_type": "stream",
     "text": [
      "Daily Data Dimension: 940 x 3\n",
      "Daily Data Sample:\n"
     ]
    },
    {
     "data": {
      "text/html": [
       "<div>\n",
       "<style scoped>\n",
       "    .dataframe tbody tr th:only-of-type {\n",
       "        vertical-align: middle;\n",
       "    }\n",
       "\n",
       "    .dataframe tbody tr th {\n",
       "        vertical-align: top;\n",
       "    }\n",
       "\n",
       "    .dataframe thead th {\n",
       "        text-align: right;\n",
       "    }\n",
       "</style>\n",
       "<table border=\"1\" class=\"dataframe\">\n",
       "  <thead>\n",
       "    <tr style=\"text-align: right;\">\n",
       "      <th></th>\n",
       "      <th>Id</th>\n",
       "      <th>ActivityDay</th>\n",
       "      <th>StepTotal</th>\n",
       "    </tr>\n",
       "  </thead>\n",
       "  <tbody>\n",
       "    <tr>\n",
       "      <th>0</th>\n",
       "      <td>1503960366</td>\n",
       "      <td>4/12/2016</td>\n",
       "      <td>13162</td>\n",
       "    </tr>\n",
       "    <tr>\n",
       "      <th>1</th>\n",
       "      <td>1503960366</td>\n",
       "      <td>4/13/2016</td>\n",
       "      <td>10735</td>\n",
       "    </tr>\n",
       "    <tr>\n",
       "      <th>2</th>\n",
       "      <td>1503960366</td>\n",
       "      <td>4/14/2016</td>\n",
       "      <td>10460</td>\n",
       "    </tr>\n",
       "    <tr>\n",
       "      <th>3</th>\n",
       "      <td>1503960366</td>\n",
       "      <td>4/15/2016</td>\n",
       "      <td>9762</td>\n",
       "    </tr>\n",
       "    <tr>\n",
       "      <th>4</th>\n",
       "      <td>1503960366</td>\n",
       "      <td>4/16/2016</td>\n",
       "      <td>12669</td>\n",
       "    </tr>\n",
       "  </tbody>\n",
       "</table>\n",
       "</div>"
      ],
      "text/plain": [
       "           Id ActivityDay  StepTotal\n",
       "0  1503960366   4/12/2016      13162\n",
       "1  1503960366   4/13/2016      10735\n",
       "2  1503960366   4/14/2016      10460\n",
       "3  1503960366   4/15/2016       9762\n",
       "4  1503960366   4/16/2016      12669"
      ]
     },
     "metadata": {},
     "output_type": "display_data"
    },
    {
     "name": "stdout",
     "output_type": "stream",
     "text": [
      "Hourly Data Dimension: 22099 x 3\n",
      "Hourly Data Sample:\n"
     ]
    },
    {
     "data": {
      "text/html": [
       "<div>\n",
       "<style scoped>\n",
       "    .dataframe tbody tr th:only-of-type {\n",
       "        vertical-align: middle;\n",
       "    }\n",
       "\n",
       "    .dataframe tbody tr th {\n",
       "        vertical-align: top;\n",
       "    }\n",
       "\n",
       "    .dataframe thead th {\n",
       "        text-align: right;\n",
       "    }\n",
       "</style>\n",
       "<table border=\"1\" class=\"dataframe\">\n",
       "  <thead>\n",
       "    <tr style=\"text-align: right;\">\n",
       "      <th></th>\n",
       "      <th>Id</th>\n",
       "      <th>ActivityHour</th>\n",
       "      <th>StepTotal</th>\n",
       "    </tr>\n",
       "  </thead>\n",
       "  <tbody>\n",
       "    <tr>\n",
       "      <th>0</th>\n",
       "      <td>1503960366</td>\n",
       "      <td>4/12/2016 12:00:00 AM</td>\n",
       "      <td>373</td>\n",
       "    </tr>\n",
       "    <tr>\n",
       "      <th>1</th>\n",
       "      <td>1503960366</td>\n",
       "      <td>4/12/2016 1:00:00 AM</td>\n",
       "      <td>160</td>\n",
       "    </tr>\n",
       "    <tr>\n",
       "      <th>2</th>\n",
       "      <td>1503960366</td>\n",
       "      <td>4/12/2016 2:00:00 AM</td>\n",
       "      <td>151</td>\n",
       "    </tr>\n",
       "    <tr>\n",
       "      <th>3</th>\n",
       "      <td>1503960366</td>\n",
       "      <td>4/12/2016 3:00:00 AM</td>\n",
       "      <td>0</td>\n",
       "    </tr>\n",
       "    <tr>\n",
       "      <th>4</th>\n",
       "      <td>1503960366</td>\n",
       "      <td>4/12/2016 4:00:00 AM</td>\n",
       "      <td>0</td>\n",
       "    </tr>\n",
       "  </tbody>\n",
       "</table>\n",
       "</div>"
      ],
      "text/plain": [
       "           Id           ActivityHour  StepTotal\n",
       "0  1503960366  4/12/2016 12:00:00 AM        373\n",
       "1  1503960366   4/12/2016 1:00:00 AM        160\n",
       "2  1503960366   4/12/2016 2:00:00 AM        151\n",
       "3  1503960366   4/12/2016 3:00:00 AM          0\n",
       "4  1503960366   4/12/2016 4:00:00 AM          0"
      ]
     },
     "metadata": {},
     "output_type": "display_data"
    },
    {
     "name": "stdout",
     "output_type": "stream",
     "text": [
      "Minute Data Dimension: 21645 x 62\n",
      "Minute Data Sample:\n"
     ]
    },
    {
     "data": {
      "text/html": [
       "<div>\n",
       "<style scoped>\n",
       "    .dataframe tbody tr th:only-of-type {\n",
       "        vertical-align: middle;\n",
       "    }\n",
       "\n",
       "    .dataframe tbody tr th {\n",
       "        vertical-align: top;\n",
       "    }\n",
       "\n",
       "    .dataframe thead th {\n",
       "        text-align: right;\n",
       "    }\n",
       "</style>\n",
       "<table border=\"1\" class=\"dataframe\">\n",
       "  <thead>\n",
       "    <tr style=\"text-align: right;\">\n",
       "      <th></th>\n",
       "      <th>Id</th>\n",
       "      <th>ActivityHour</th>\n",
       "      <th>Steps00</th>\n",
       "      <th>Steps01</th>\n",
       "      <th>Steps02</th>\n",
       "      <th>Steps03</th>\n",
       "      <th>Steps04</th>\n",
       "      <th>Steps05</th>\n",
       "      <th>Steps06</th>\n",
       "      <th>Steps07</th>\n",
       "      <th>...</th>\n",
       "      <th>Steps50</th>\n",
       "      <th>Steps51</th>\n",
       "      <th>Steps52</th>\n",
       "      <th>Steps53</th>\n",
       "      <th>Steps54</th>\n",
       "      <th>Steps55</th>\n",
       "      <th>Steps56</th>\n",
       "      <th>Steps57</th>\n",
       "      <th>Steps58</th>\n",
       "      <th>Steps59</th>\n",
       "    </tr>\n",
       "  </thead>\n",
       "  <tbody>\n",
       "    <tr>\n",
       "      <th>0</th>\n",
       "      <td>1503960366</td>\n",
       "      <td>4/13/2016 12:00:00 AM</td>\n",
       "      <td>4</td>\n",
       "      <td>16</td>\n",
       "      <td>0</td>\n",
       "      <td>0</td>\n",
       "      <td>0</td>\n",
       "      <td>9</td>\n",
       "      <td>0</td>\n",
       "      <td>17</td>\n",
       "      <td>...</td>\n",
       "      <td>0</td>\n",
       "      <td>9</td>\n",
       "      <td>8</td>\n",
       "      <td>0</td>\n",
       "      <td>20</td>\n",
       "      <td>1</td>\n",
       "      <td>0</td>\n",
       "      <td>0</td>\n",
       "      <td>0</td>\n",
       "      <td>0</td>\n",
       "    </tr>\n",
       "    <tr>\n",
       "      <th>1</th>\n",
       "      <td>1503960366</td>\n",
       "      <td>4/13/2016 1:00:00 AM</td>\n",
       "      <td>0</td>\n",
       "      <td>0</td>\n",
       "      <td>0</td>\n",
       "      <td>0</td>\n",
       "      <td>0</td>\n",
       "      <td>0</td>\n",
       "      <td>0</td>\n",
       "      <td>0</td>\n",
       "      <td>...</td>\n",
       "      <td>0</td>\n",
       "      <td>0</td>\n",
       "      <td>0</td>\n",
       "      <td>0</td>\n",
       "      <td>0</td>\n",
       "      <td>0</td>\n",
       "      <td>0</td>\n",
       "      <td>0</td>\n",
       "      <td>0</td>\n",
       "      <td>0</td>\n",
       "    </tr>\n",
       "    <tr>\n",
       "      <th>2</th>\n",
       "      <td>1503960366</td>\n",
       "      <td>4/13/2016 2:00:00 AM</td>\n",
       "      <td>0</td>\n",
       "      <td>0</td>\n",
       "      <td>0</td>\n",
       "      <td>0</td>\n",
       "      <td>0</td>\n",
       "      <td>0</td>\n",
       "      <td>0</td>\n",
       "      <td>0</td>\n",
       "      <td>...</td>\n",
       "      <td>0</td>\n",
       "      <td>0</td>\n",
       "      <td>0</td>\n",
       "      <td>0</td>\n",
       "      <td>0</td>\n",
       "      <td>0</td>\n",
       "      <td>0</td>\n",
       "      <td>0</td>\n",
       "      <td>0</td>\n",
       "      <td>0</td>\n",
       "    </tr>\n",
       "    <tr>\n",
       "      <th>3</th>\n",
       "      <td>1503960366</td>\n",
       "      <td>4/13/2016 3:00:00 AM</td>\n",
       "      <td>0</td>\n",
       "      <td>0</td>\n",
       "      <td>0</td>\n",
       "      <td>0</td>\n",
       "      <td>0</td>\n",
       "      <td>0</td>\n",
       "      <td>0</td>\n",
       "      <td>0</td>\n",
       "      <td>...</td>\n",
       "      <td>0</td>\n",
       "      <td>0</td>\n",
       "      <td>0</td>\n",
       "      <td>0</td>\n",
       "      <td>0</td>\n",
       "      <td>0</td>\n",
       "      <td>0</td>\n",
       "      <td>0</td>\n",
       "      <td>0</td>\n",
       "      <td>0</td>\n",
       "    </tr>\n",
       "    <tr>\n",
       "      <th>4</th>\n",
       "      <td>1503960366</td>\n",
       "      <td>4/13/2016 4:00:00 AM</td>\n",
       "      <td>0</td>\n",
       "      <td>0</td>\n",
       "      <td>0</td>\n",
       "      <td>0</td>\n",
       "      <td>0</td>\n",
       "      <td>0</td>\n",
       "      <td>0</td>\n",
       "      <td>0</td>\n",
       "      <td>...</td>\n",
       "      <td>0</td>\n",
       "      <td>0</td>\n",
       "      <td>0</td>\n",
       "      <td>0</td>\n",
       "      <td>0</td>\n",
       "      <td>0</td>\n",
       "      <td>0</td>\n",
       "      <td>0</td>\n",
       "      <td>0</td>\n",
       "      <td>0</td>\n",
       "    </tr>\n",
       "  </tbody>\n",
       "</table>\n",
       "<p>5 rows × 62 columns</p>\n",
       "</div>"
      ],
      "text/plain": [
       "           Id           ActivityHour  Steps00  Steps01  Steps02  Steps03  \\\n",
       "0  1503960366  4/13/2016 12:00:00 AM        4       16        0        0   \n",
       "1  1503960366   4/13/2016 1:00:00 AM        0        0        0        0   \n",
       "2  1503960366   4/13/2016 2:00:00 AM        0        0        0        0   \n",
       "3  1503960366   4/13/2016 3:00:00 AM        0        0        0        0   \n",
       "4  1503960366   4/13/2016 4:00:00 AM        0        0        0        0   \n",
       "\n",
       "   Steps04  Steps05  Steps06  Steps07  ...  Steps50  Steps51  Steps52  \\\n",
       "0        0        9        0       17  ...        0        9        8   \n",
       "1        0        0        0        0  ...        0        0        0   \n",
       "2        0        0        0        0  ...        0        0        0   \n",
       "3        0        0        0        0  ...        0        0        0   \n",
       "4        0        0        0        0  ...        0        0        0   \n",
       "\n",
       "   Steps53  Steps54  Steps55  Steps56  Steps57  Steps58  Steps59  \n",
       "0        0       20        1        0        0        0        0  \n",
       "1        0        0        0        0        0        0        0  \n",
       "2        0        0        0        0        0        0        0  \n",
       "3        0        0        0        0        0        0        0  \n",
       "4        0        0        0        0        0        0        0  \n",
       "\n",
       "[5 rows x 62 columns]"
      ]
     },
     "metadata": {},
     "output_type": "display_data"
    }
   ],
   "source": [
    "daily_steps = pd.read_csv('data/dailySteps_merged.csv')\n",
    "hourly_steps = pd.read_csv('data/hourlySteps_merged.csv')\n",
    "minute_steps = pd.read_csv('data/minuteStepsWide_merged.csv')\n",
    "\n",
    "# Displaying the first few rows of each dataset\n",
    "print(f\"Daily Data Dimension: {daily_steps.shape[0]} x {daily_steps.shape[1]}\")\n",
    "print(\"Daily Data Sample:\")\n",
    "display(daily_steps.head())\n",
    "\n",
    "print(f\"Hourly Data Dimension: {hourly_steps.shape[0]} x {hourly_steps.shape[1]}\")\n",
    "print(\"Hourly Data Sample:\")\n",
    "display(hourly_steps.head())\n",
    "\n",
    "print(f\"Minute Data Dimension: {minute_steps.shape[0]} x {minute_steps.shape[1]}\")\n",
    "print(\"Minute Data Sample:\")\n",
    "display(minute_steps.head())\n",
    "\n",
    "# Author: Jingwei Lin\n",
    "# Acknowledgment: Individual checkpoint 1 from Jingwei Lin\n",
    "# Detail of Contribution: Load datasets and display their dimension with sample data \n",
    "# Start date: 27/10/2024 - End date: 29/10/2024"
   ]
  },
  {
   "cell_type": "markdown",
   "metadata": {},
   "source": [
    "Considering our driving problem, we will mainly focus on the Hourly Dataset by determining the number of active hours for all Ids. The more-accurate Minute Dataset will be analysed too."
   ]
  },
  {
   "cell_type": "markdown",
   "metadata": {},
   "source": [
    "### Check Missing Value"
   ]
  },
  {
   "cell_type": "markdown",
   "metadata": {},
   "source": [
    "Before doing the data analysis, we should check missing values for hourly dataset to make sure we handle the data properly.\n",
    "\n",
    "Prediction: This might be missing values in the dataset. If any, we will handle them properly."
   ]
  },
  {
   "cell_type": "code",
   "execution_count": 68,
   "metadata": {},
   "outputs": [
    {
     "name": "stdout",
     "output_type": "stream",
     "text": [
      "Daily Data:\n",
      "Id             0\n",
      "ActivityDay    0\n",
      "StepTotal      0\n",
      "dtype: int64\n",
      "----------------------------------------\n",
      "Hourly Data:\n",
      "Id              0\n",
      "ActivityHour    0\n",
      "StepTotal       0\n",
      "dtype: int64\n",
      "----------------------------------------\n",
      "Minite Data:\n",
      "Id              0\n",
      "ActivityHour    0\n",
      "Steps00         0\n",
      "Steps01         0\n",
      "Steps02         0\n",
      "               ..\n",
      "Steps55         0\n",
      "Steps56         0\n",
      "Steps57         0\n",
      "Steps58         0\n",
      "Steps59         0\n",
      "Length: 62, dtype: int64\n",
      "----------------------------------------\n"
     ]
    }
   ],
   "source": [
    "# print the sum of null value for each column of all 3 dataframes\n",
    "print(\"Daily Data:\")\n",
    "print(daily_steps.isnull().sum())\n",
    "print(\"-\" * 40)  # Separator line\n",
    "print(\"Hourly Data:\")\n",
    "print(hourly_steps.isnull().sum())\n",
    "print(\"-\" * 40)  # Separator line\n",
    "print(\"Minite Data:\")\n",
    "print(minute_steps.isnull().sum())\n",
    "print(\"-\" * 40)  # Separator line\n",
    "\n",
    "# Author: Jingwei Lin\n",
    "# Acknowledgment: Individual checkpoint 1 from Jingwei Lin\n",
    "# Detail of Contribution: Make sure there is no missing value in the datasets\n",
    "# Start date: 27/10/2024 - End date: 29/10/2024"
   ]
  },
  {
   "cell_type": "markdown",
   "metadata": {},
   "source": [
    "No missing values appears in the dataset, as the column counts for missing data all show 0."
   ]
  },
  {
   "cell_type": "markdown",
   "metadata": {},
   "source": [
    "### Data Cleaning"
   ]
  },
  {
   "cell_type": "markdown",
   "metadata": {},
   "source": [
    "We perform usual data cleaning process to three datasets including conversion of date, drop of duplicates and remove Na.\n",
    "\n",
    "Prediction: The data cleaning can be done successfully."
   ]
  },
  {
   "cell_type": "code",
   "execution_count": 69,
   "metadata": {
    "id": "F_OUYdKd1reN"
   },
   "outputs": [],
   "source": [
    "# Changing the ActivityHour to datetime, accounting for AM/PM\n",
    "hourly_steps['ActivityHour'] = pd.to_datetime(hourly_steps['ActivityHour'], format='%m/%d/%Y %I:%M:%S %p')\n",
    "\n",
    "# Changing the ActivityDay to datetime\n",
    "daily_steps['ActivityDay'] = pd.to_datetime(daily_steps['ActivityDay'], format=\"%m/%d/%Y\")\n",
    "\n",
    "# Convert `ActivityHour` to datetime format\n",
    "minute_steps['ActivityHour'] = pd.to_datetime(minute_steps['ActivityHour'])\n",
    "\n",
    "# Remove Duplicates\n",
    "daily_steps.drop_duplicates(inplace=True)\n",
    "hourly_steps.drop_duplicates(inplace=True)\n",
    "minute_steps.drop_duplicates(inplace=True)\n",
    "\n",
    "# Remove Na\n",
    "daily_steps.fillna(0, inplace=True)\n",
    "hourly_steps.fillna(0, inplace=True)\n",
    "minute_steps.drop_duplicates(inplace=True)\n",
    "\n",
    "# Author: Jingwei Lin & Lincoln Le\n",
    "# Acknowledgement: Modified from Individual checkpoint 2 from Lincoln Le\n",
    "# Detail of Contribution: Convert date and time columns to datetime format across multiple dataframes, removes duplicates, and fills missing values to ensure data consistency for further analysis.\n",
    "# Start date: 27/10/2024 - End date: 29/10/2024"
   ]
  },
  {
   "cell_type": "markdown",
   "metadata": {},
   "source": [
    "All datasets are ready for analysis!"
   ]
  },
  {
   "cell_type": "markdown",
   "metadata": {},
   "source": [
    "### Statistical Summaries of each dataset\n"
   ]
  },
  {
   "cell_type": "markdown",
   "metadata": {},
   "source": [
    "To better understand the datasets, we start with statistical summary for all user Ids in the dataset.\n",
    "Prediction: There might be a variation between different individuals, which needs to be taken into account when anwsering our driving problem."
   ]
  },
  {
   "cell_type": "markdown",
   "metadata": {},
   "source": [
    "#### Number of days of data for every individual"
   ]
  },
  {
   "cell_type": "code",
   "execution_count": 70,
   "metadata": {},
   "outputs": [
    {
     "data": {
      "text/html": [
       "<div>\n",
       "<style scoped>\n",
       "    .dataframe tbody tr th:only-of-type {\n",
       "        vertical-align: middle;\n",
       "    }\n",
       "\n",
       "    .dataframe tbody tr th {\n",
       "        vertical-align: top;\n",
       "    }\n",
       "\n",
       "    .dataframe thead th {\n",
       "        text-align: right;\n",
       "    }\n",
       "</style>\n",
       "<table border=\"1\" class=\"dataframe\">\n",
       "  <thead>\n",
       "    <tr style=\"text-align: right;\">\n",
       "      <th></th>\n",
       "      <th>User ID</th>\n",
       "      <th>Days of Data</th>\n",
       "    </tr>\n",
       "  </thead>\n",
       "  <tbody>\n",
       "    <tr>\n",
       "      <th>0</th>\n",
       "      <td>1503960366</td>\n",
       "      <td>31</td>\n",
       "    </tr>\n",
       "    <tr>\n",
       "      <th>1</th>\n",
       "      <td>1624580081</td>\n",
       "      <td>31</td>\n",
       "    </tr>\n",
       "    <tr>\n",
       "      <th>2</th>\n",
       "      <td>1644430081</td>\n",
       "      <td>30</td>\n",
       "    </tr>\n",
       "    <tr>\n",
       "      <th>3</th>\n",
       "      <td>1844505072</td>\n",
       "      <td>31</td>\n",
       "    </tr>\n",
       "    <tr>\n",
       "      <th>4</th>\n",
       "      <td>1927972279</td>\n",
       "      <td>31</td>\n",
       "    </tr>\n",
       "    <tr>\n",
       "      <th>5</th>\n",
       "      <td>2022484408</td>\n",
       "      <td>31</td>\n",
       "    </tr>\n",
       "    <tr>\n",
       "      <th>6</th>\n",
       "      <td>2026352035</td>\n",
       "      <td>31</td>\n",
       "    </tr>\n",
       "    <tr>\n",
       "      <th>7</th>\n",
       "      <td>2320127002</td>\n",
       "      <td>31</td>\n",
       "    </tr>\n",
       "    <tr>\n",
       "      <th>8</th>\n",
       "      <td>2347167796</td>\n",
       "      <td>18</td>\n",
       "    </tr>\n",
       "    <tr>\n",
       "      <th>9</th>\n",
       "      <td>2873212765</td>\n",
       "      <td>31</td>\n",
       "    </tr>\n",
       "    <tr>\n",
       "      <th>10</th>\n",
       "      <td>3372868164</td>\n",
       "      <td>20</td>\n",
       "    </tr>\n",
       "    <tr>\n",
       "      <th>11</th>\n",
       "      <td>3977333714</td>\n",
       "      <td>30</td>\n",
       "    </tr>\n",
       "    <tr>\n",
       "      <th>12</th>\n",
       "      <td>4020332650</td>\n",
       "      <td>31</td>\n",
       "    </tr>\n",
       "    <tr>\n",
       "      <th>13</th>\n",
       "      <td>4057192912</td>\n",
       "      <td>4</td>\n",
       "    </tr>\n",
       "    <tr>\n",
       "      <th>14</th>\n",
       "      <td>4319703577</td>\n",
       "      <td>31</td>\n",
       "    </tr>\n",
       "    <tr>\n",
       "      <th>15</th>\n",
       "      <td>4388161847</td>\n",
       "      <td>31</td>\n",
       "    </tr>\n",
       "    <tr>\n",
       "      <th>16</th>\n",
       "      <td>4445114986</td>\n",
       "      <td>31</td>\n",
       "    </tr>\n",
       "    <tr>\n",
       "      <th>17</th>\n",
       "      <td>4558609924</td>\n",
       "      <td>31</td>\n",
       "    </tr>\n",
       "    <tr>\n",
       "      <th>18</th>\n",
       "      <td>4702921684</td>\n",
       "      <td>31</td>\n",
       "    </tr>\n",
       "    <tr>\n",
       "      <th>19</th>\n",
       "      <td>5553957443</td>\n",
       "      <td>31</td>\n",
       "    </tr>\n",
       "    <tr>\n",
       "      <th>20</th>\n",
       "      <td>5577150313</td>\n",
       "      <td>30</td>\n",
       "    </tr>\n",
       "    <tr>\n",
       "      <th>21</th>\n",
       "      <td>6117666160</td>\n",
       "      <td>28</td>\n",
       "    </tr>\n",
       "    <tr>\n",
       "      <th>22</th>\n",
       "      <td>6290855005</td>\n",
       "      <td>29</td>\n",
       "    </tr>\n",
       "    <tr>\n",
       "      <th>23</th>\n",
       "      <td>6775888955</td>\n",
       "      <td>26</td>\n",
       "    </tr>\n",
       "    <tr>\n",
       "      <th>24</th>\n",
       "      <td>6962181067</td>\n",
       "      <td>31</td>\n",
       "    </tr>\n",
       "    <tr>\n",
       "      <th>25</th>\n",
       "      <td>7007744171</td>\n",
       "      <td>26</td>\n",
       "    </tr>\n",
       "    <tr>\n",
       "      <th>26</th>\n",
       "      <td>7086361926</td>\n",
       "      <td>31</td>\n",
       "    </tr>\n",
       "    <tr>\n",
       "      <th>27</th>\n",
       "      <td>8053475328</td>\n",
       "      <td>31</td>\n",
       "    </tr>\n",
       "    <tr>\n",
       "      <th>28</th>\n",
       "      <td>8253242879</td>\n",
       "      <td>19</td>\n",
       "    </tr>\n",
       "    <tr>\n",
       "      <th>29</th>\n",
       "      <td>8378563200</td>\n",
       "      <td>31</td>\n",
       "    </tr>\n",
       "    <tr>\n",
       "      <th>30</th>\n",
       "      <td>8583815059</td>\n",
       "      <td>31</td>\n",
       "    </tr>\n",
       "    <tr>\n",
       "      <th>31</th>\n",
       "      <td>8792009665</td>\n",
       "      <td>29</td>\n",
       "    </tr>\n",
       "    <tr>\n",
       "      <th>32</th>\n",
       "      <td>8877689391</td>\n",
       "      <td>31</td>\n",
       "    </tr>\n",
       "  </tbody>\n",
       "</table>\n",
       "</div>"
      ],
      "text/plain": [
       "       User ID  Days of Data\n",
       "0   1503960366            31\n",
       "1   1624580081            31\n",
       "2   1644430081            30\n",
       "3   1844505072            31\n",
       "4   1927972279            31\n",
       "5   2022484408            31\n",
       "6   2026352035            31\n",
       "7   2320127002            31\n",
       "8   2347167796            18\n",
       "9   2873212765            31\n",
       "10  3372868164            20\n",
       "11  3977333714            30\n",
       "12  4020332650            31\n",
       "13  4057192912             4\n",
       "14  4319703577            31\n",
       "15  4388161847            31\n",
       "16  4445114986            31\n",
       "17  4558609924            31\n",
       "18  4702921684            31\n",
       "19  5553957443            31\n",
       "20  5577150313            30\n",
       "21  6117666160            28\n",
       "22  6290855005            29\n",
       "23  6775888955            26\n",
       "24  6962181067            31\n",
       "25  7007744171            26\n",
       "26  7086361926            31\n",
       "27  8053475328            31\n",
       "28  8253242879            19\n",
       "29  8378563200            31\n",
       "30  8583815059            31\n",
       "31  8792009665            29\n",
       "32  8877689391            31"
      ]
     },
     "execution_count": 70,
     "metadata": {},
     "output_type": "execute_result"
    }
   ],
   "source": [
    "# Create an empty list to store each user's data count\n",
    "user_data = []\n",
    "\n",
    "# Loop through each unique user_id and count days of data\n",
    "for user_id in daily_steps['Id'].unique():\n",
    "    day_num = len(daily_steps[daily_steps['Id'] == user_id])\n",
    "    user_data.append({'User ID': user_id, 'Days of Data': day_num})\n",
    "\n",
    "# Convert the list to a DataFrame\n",
    "user_data_df = pd.DataFrame(user_data)\n",
    "\n",
    "# Display the DataFrame as a table\n",
    "user_data_df\n",
    "\n",
    "# Author: Jingwei Lin\n",
    "# Acknowledgment: Individual checkpoint 1 from Jingwei Lin (modified to all user in the datasets)\n",
    "# Detail of Contribution: Display the days of data for each individual in the dataset\n",
    "# Start date: 27/10/2024 - End date: 29/10/2024"
   ]
  },
  {
   "cell_type": "markdown",
   "metadata": {},
   "source": [
    "While most participants has record of 31 days of data, there are a few outliers such as id 4057192912 with 4 days of data and id 8253242879\twith 19 days of data."
   ]
  },
  {
   "cell_type": "markdown",
   "metadata": {},
   "source": [
    "#### Hourly Step Count Information"
   ]
  },
  {
   "cell_type": "code",
   "execution_count": 71,
   "metadata": {},
   "outputs": [
    {
     "data": {
      "text/html": [
       "<div>\n",
       "<style scoped>\n",
       "    .dataframe tbody tr th:only-of-type {\n",
       "        vertical-align: middle;\n",
       "    }\n",
       "\n",
       "    .dataframe tbody tr th {\n",
       "        vertical-align: top;\n",
       "    }\n",
       "\n",
       "    .dataframe thead th {\n",
       "        text-align: right;\n",
       "    }\n",
       "</style>\n",
       "<table border=\"1\" class=\"dataframe\">\n",
       "  <thead>\n",
       "    <tr style=\"text-align: right;\">\n",
       "      <th></th>\n",
       "      <th>User ID</th>\n",
       "      <th>Non-Zero Hours</th>\n",
       "      <th>Missing Data</th>\n",
       "      <th>Average Steps</th>\n",
       "      <th>Maximum Steps</th>\n",
       "      <th>Minimum Steps</th>\n",
       "      <th>Median Steps</th>\n",
       "      <th>Standard Deviation</th>\n",
       "    </tr>\n",
       "  </thead>\n",
       "  <tbody>\n",
       "    <tr>\n",
       "      <th>0</th>\n",
       "      <td>1503960366</td>\n",
       "      <td>553</td>\n",
       "      <td>0</td>\n",
       "      <td>522</td>\n",
       "      <td>5934</td>\n",
       "      <td>0</td>\n",
       "      <td>178</td>\n",
       "      <td>836</td>\n",
       "    </tr>\n",
       "    <tr>\n",
       "      <th>1</th>\n",
       "      <td>1624580081</td>\n",
       "      <td>420</td>\n",
       "      <td>0</td>\n",
       "      <td>241</td>\n",
       "      <td>8976</td>\n",
       "      <td>0</td>\n",
       "      <td>28</td>\n",
       "      <td>760</td>\n",
       "    </tr>\n",
       "    <tr>\n",
       "      <th>2</th>\n",
       "      <td>1644430081</td>\n",
       "      <td>433</td>\n",
       "      <td>0</td>\n",
       "      <td>307</td>\n",
       "      <td>4660</td>\n",
       "      <td>0</td>\n",
       "      <td>22</td>\n",
       "      <td>589</td>\n",
       "    </tr>\n",
       "    <tr>\n",
       "      <th>3</th>\n",
       "      <td>1844505072</td>\n",
       "      <td>208</td>\n",
       "      <td>0</td>\n",
       "      <td>109</td>\n",
       "      <td>2043</td>\n",
       "      <td>0</td>\n",
       "      <td>0</td>\n",
       "      <td>232</td>\n",
       "    </tr>\n",
       "    <tr>\n",
       "      <th>4</th>\n",
       "      <td>1927972279</td>\n",
       "      <td>135</td>\n",
       "      <td>0</td>\n",
       "      <td>38</td>\n",
       "      <td>2109</td>\n",
       "      <td>0</td>\n",
       "      <td>0</td>\n",
       "      <td>164</td>\n",
       "    </tr>\n",
       "    <tr>\n",
       "      <th>5</th>\n",
       "      <td>2022484408</td>\n",
       "      <td>391</td>\n",
       "      <td>0</td>\n",
       "      <td>477</td>\n",
       "      <td>5596</td>\n",
       "      <td>0</td>\n",
       "      <td>101</td>\n",
       "      <td>861</td>\n",
       "    </tr>\n",
       "    <tr>\n",
       "      <th>6</th>\n",
       "      <td>2026352035</td>\n",
       "      <td>537</td>\n",
       "      <td>0</td>\n",
       "      <td>233</td>\n",
       "      <td>2375</td>\n",
       "      <td>0</td>\n",
       "      <td>117</td>\n",
       "      <td>321</td>\n",
       "    </tr>\n",
       "    <tr>\n",
       "      <th>7</th>\n",
       "      <td>2320127002</td>\n",
       "      <td>376</td>\n",
       "      <td>0</td>\n",
       "      <td>198</td>\n",
       "      <td>2208</td>\n",
       "      <td>0</td>\n",
       "      <td>35</td>\n",
       "      <td>277</td>\n",
       "    </tr>\n",
       "    <tr>\n",
       "      <th>8</th>\n",
       "      <td>2347167796</td>\n",
       "      <td>295</td>\n",
       "      <td>0</td>\n",
       "      <td>413</td>\n",
       "      <td>5291</td>\n",
       "      <td>0</td>\n",
       "      <td>130</td>\n",
       "      <td>749</td>\n",
       "    </tr>\n",
       "    <tr>\n",
       "      <th>9</th>\n",
       "      <td>2873212765</td>\n",
       "      <td>484</td>\n",
       "      <td>0</td>\n",
       "      <td>318</td>\n",
       "      <td>4534</td>\n",
       "      <td>0</td>\n",
       "      <td>125</td>\n",
       "      <td>497</td>\n",
       "    </tr>\n",
       "    <tr>\n",
       "      <th>10</th>\n",
       "      <td>3372868164</td>\n",
       "      <td>328</td>\n",
       "      <td>0</td>\n",
       "      <td>290</td>\n",
       "      <td>3084</td>\n",
       "      <td>0</td>\n",
       "      <td>147</td>\n",
       "      <td>430</td>\n",
       "    </tr>\n",
       "    <tr>\n",
       "      <th>11</th>\n",
       "      <td>3977333714</td>\n",
       "      <td>509</td>\n",
       "      <td>0</td>\n",
       "      <td>471</td>\n",
       "      <td>5414</td>\n",
       "      <td>0</td>\n",
       "      <td>79</td>\n",
       "      <td>907</td>\n",
       "    </tr>\n",
       "    <tr>\n",
       "      <th>12</th>\n",
       "      <td>4020332650</td>\n",
       "      <td>163</td>\n",
       "      <td>0</td>\n",
       "      <td>93</td>\n",
       "      <td>2737</td>\n",
       "      <td>0</td>\n",
       "      <td>0</td>\n",
       "      <td>262</td>\n",
       "    </tr>\n",
       "    <tr>\n",
       "      <th>13</th>\n",
       "      <td>4057192912</td>\n",
       "      <td>41</td>\n",
       "      <td>0</td>\n",
       "      <td>173</td>\n",
       "      <td>1115</td>\n",
       "      <td>0</td>\n",
       "      <td>0</td>\n",
       "      <td>269</td>\n",
       "    </tr>\n",
       "    <tr>\n",
       "      <th>14</th>\n",
       "      <td>4319703577</td>\n",
       "      <td>471</td>\n",
       "      <td>0</td>\n",
       "      <td>289</td>\n",
       "      <td>3547</td>\n",
       "      <td>0</td>\n",
       "      <td>49</td>\n",
       "      <td>461</td>\n",
       "    </tr>\n",
       "    <tr>\n",
       "      <th>15</th>\n",
       "      <td>4388161847</td>\n",
       "      <td>549</td>\n",
       "      <td>0</td>\n",
       "      <td>435</td>\n",
       "      <td>5237</td>\n",
       "      <td>0</td>\n",
       "      <td>186</td>\n",
       "      <td>703</td>\n",
       "    </tr>\n",
       "    <tr>\n",
       "      <th>16</th>\n",
       "      <td>4445114986</td>\n",
       "      <td>528</td>\n",
       "      <td>0</td>\n",
       "      <td>202</td>\n",
       "      <td>4379</td>\n",
       "      <td>0</td>\n",
       "      <td>83</td>\n",
       "      <td>409</td>\n",
       "    </tr>\n",
       "    <tr>\n",
       "      <th>17</th>\n",
       "      <td>4558609924</td>\n",
       "      <td>476</td>\n",
       "      <td>0</td>\n",
       "      <td>323</td>\n",
       "      <td>4688</td>\n",
       "      <td>0</td>\n",
       "      <td>148</td>\n",
       "      <td>546</td>\n",
       "    </tr>\n",
       "    <tr>\n",
       "      <th>18</th>\n",
       "      <td>4702921684</td>\n",
       "      <td>475</td>\n",
       "      <td>0</td>\n",
       "      <td>363</td>\n",
       "      <td>3962</td>\n",
       "      <td>0</td>\n",
       "      <td>149</td>\n",
       "      <td>525</td>\n",
       "    </tr>\n",
       "    <tr>\n",
       "      <th>19</th>\n",
       "      <td>5553957443</td>\n",
       "      <td>546</td>\n",
       "      <td>0</td>\n",
       "      <td>365</td>\n",
       "      <td>5808</td>\n",
       "      <td>0</td>\n",
       "      <td>83</td>\n",
       "      <td>672</td>\n",
       "    </tr>\n",
       "    <tr>\n",
       "      <th>20</th>\n",
       "      <td>5577150313</td>\n",
       "      <td>504</td>\n",
       "      <td>0</td>\n",
       "      <td>351</td>\n",
       "      <td>4181</td>\n",
       "      <td>0</td>\n",
       "      <td>93</td>\n",
       "      <td>613</td>\n",
       "    </tr>\n",
       "    <tr>\n",
       "      <th>21</th>\n",
       "      <td>6117666160</td>\n",
       "      <td>349</td>\n",
       "      <td>0</td>\n",
       "      <td>281</td>\n",
       "      <td>2448</td>\n",
       "      <td>0</td>\n",
       "      <td>7</td>\n",
       "      <td>405</td>\n",
       "    </tr>\n",
       "    <tr>\n",
       "      <th>22</th>\n",
       "      <td>6290855005</td>\n",
       "      <td>309</td>\n",
       "      <td>0</td>\n",
       "      <td>246</td>\n",
       "      <td>3258</td>\n",
       "      <td>0</td>\n",
       "      <td>0</td>\n",
       "      <td>409</td>\n",
       "    </tr>\n",
       "    <tr>\n",
       "      <th>23</th>\n",
       "      <td>6775888955</td>\n",
       "      <td>92</td>\n",
       "      <td>0</td>\n",
       "      <td>107</td>\n",
       "      <td>3629</td>\n",
       "      <td>0</td>\n",
       "      <td>0</td>\n",
       "      <td>376</td>\n",
       "    </tr>\n",
       "    <tr>\n",
       "      <th>24</th>\n",
       "      <td>6962181067</td>\n",
       "      <td>516</td>\n",
       "      <td>0</td>\n",
       "      <td>414</td>\n",
       "      <td>5890</td>\n",
       "      <td>0</td>\n",
       "      <td>76</td>\n",
       "      <td>772</td>\n",
       "    </tr>\n",
       "    <tr>\n",
       "      <th>25</th>\n",
       "      <td>7007744171</td>\n",
       "      <td>356</td>\n",
       "      <td>0</td>\n",
       "      <td>489</td>\n",
       "      <td>6017</td>\n",
       "      <td>0</td>\n",
       "      <td>114</td>\n",
       "      <td>922</td>\n",
       "    </tr>\n",
       "    <tr>\n",
       "      <th>26</th>\n",
       "      <td>7086361926</td>\n",
       "      <td>443</td>\n",
       "      <td>0</td>\n",
       "      <td>392</td>\n",
       "      <td>6357</td>\n",
       "      <td>0</td>\n",
       "      <td>45</td>\n",
       "      <td>885</td>\n",
       "    </tr>\n",
       "    <tr>\n",
       "      <th>27</th>\n",
       "      <td>8053475328</td>\n",
       "      <td>422</td>\n",
       "      <td>0</td>\n",
       "      <td>622</td>\n",
       "      <td>7643</td>\n",
       "      <td>0</td>\n",
       "      <td>53</td>\n",
       "      <td>1305</td>\n",
       "    </tr>\n",
       "    <tr>\n",
       "      <th>28</th>\n",
       "      <td>8253242879</td>\n",
       "      <td>207</td>\n",
       "      <td>0</td>\n",
       "      <td>285</td>\n",
       "      <td>7652</td>\n",
       "      <td>0</td>\n",
       "      <td>0</td>\n",
       "      <td>878</td>\n",
       "    </tr>\n",
       "    <tr>\n",
       "      <th>29</th>\n",
       "      <td>8378563200</td>\n",
       "      <td>577</td>\n",
       "      <td>0</td>\n",
       "      <td>366</td>\n",
       "      <td>5661</td>\n",
       "      <td>0</td>\n",
       "      <td>172</td>\n",
       "      <td>685</td>\n",
       "    </tr>\n",
       "    <tr>\n",
       "      <th>30</th>\n",
       "      <td>8583815059</td>\n",
       "      <td>343</td>\n",
       "      <td>0</td>\n",
       "      <td>245</td>\n",
       "      <td>6554</td>\n",
       "      <td>0</td>\n",
       "      <td>0</td>\n",
       "      <td>612</td>\n",
       "    </tr>\n",
       "    <tr>\n",
       "      <th>31</th>\n",
       "      <td>8792009665</td>\n",
       "      <td>268</td>\n",
       "      <td>0</td>\n",
       "      <td>79</td>\n",
       "      <td>1332</td>\n",
       "      <td>0</td>\n",
       "      <td>0</td>\n",
       "      <td>180</td>\n",
       "    </tr>\n",
       "    <tr>\n",
       "      <th>32</th>\n",
       "      <td>8877689391</td>\n",
       "      <td>498</td>\n",
       "      <td>0</td>\n",
       "      <td>674</td>\n",
       "      <td>10554</td>\n",
       "      <td>0</td>\n",
       "      <td>309</td>\n",
       "      <td>1322</td>\n",
       "    </tr>\n",
       "  </tbody>\n",
       "</table>\n",
       "</div>"
      ],
      "text/plain": [
       "       User ID  Non-Zero Hours  Missing Data  Average Steps  Maximum Steps  \\\n",
       "0   1503960366             553             0            522           5934   \n",
       "1   1624580081             420             0            241           8976   \n",
       "2   1644430081             433             0            307           4660   \n",
       "3   1844505072             208             0            109           2043   \n",
       "4   1927972279             135             0             38           2109   \n",
       "5   2022484408             391             0            477           5596   \n",
       "6   2026352035             537             0            233           2375   \n",
       "7   2320127002             376             0            198           2208   \n",
       "8   2347167796             295             0            413           5291   \n",
       "9   2873212765             484             0            318           4534   \n",
       "10  3372868164             328             0            290           3084   \n",
       "11  3977333714             509             0            471           5414   \n",
       "12  4020332650             163             0             93           2737   \n",
       "13  4057192912              41             0            173           1115   \n",
       "14  4319703577             471             0            289           3547   \n",
       "15  4388161847             549             0            435           5237   \n",
       "16  4445114986             528             0            202           4379   \n",
       "17  4558609924             476             0            323           4688   \n",
       "18  4702921684             475             0            363           3962   \n",
       "19  5553957443             546             0            365           5808   \n",
       "20  5577150313             504             0            351           4181   \n",
       "21  6117666160             349             0            281           2448   \n",
       "22  6290855005             309             0            246           3258   \n",
       "23  6775888955              92             0            107           3629   \n",
       "24  6962181067             516             0            414           5890   \n",
       "25  7007744171             356             0            489           6017   \n",
       "26  7086361926             443             0            392           6357   \n",
       "27  8053475328             422             0            622           7643   \n",
       "28  8253242879             207             0            285           7652   \n",
       "29  8378563200             577             0            366           5661   \n",
       "30  8583815059             343             0            245           6554   \n",
       "31  8792009665             268             0             79           1332   \n",
       "32  8877689391             498             0            674          10554   \n",
       "\n",
       "    Minimum Steps  Median Steps  Standard Deviation  \n",
       "0               0           178                 836  \n",
       "1               0            28                 760  \n",
       "2               0            22                 589  \n",
       "3               0             0                 232  \n",
       "4               0             0                 164  \n",
       "5               0           101                 861  \n",
       "6               0           117                 321  \n",
       "7               0            35                 277  \n",
       "8               0           130                 749  \n",
       "9               0           125                 497  \n",
       "10              0           147                 430  \n",
       "11              0            79                 907  \n",
       "12              0             0                 262  \n",
       "13              0             0                 269  \n",
       "14              0            49                 461  \n",
       "15              0           186                 703  \n",
       "16              0            83                 409  \n",
       "17              0           148                 546  \n",
       "18              0           149                 525  \n",
       "19              0            83                 672  \n",
       "20              0            93                 613  \n",
       "21              0             7                 405  \n",
       "22              0             0                 409  \n",
       "23              0             0                 376  \n",
       "24              0            76                 772  \n",
       "25              0           114                 922  \n",
       "26              0            45                 885  \n",
       "27              0            53                1305  \n",
       "28              0             0                 878  \n",
       "29              0           172                 685  \n",
       "30              0             0                 612  \n",
       "31              0             0                 180  \n",
       "32              0           309                1322  "
      ]
     },
     "execution_count": 71,
     "metadata": {},
     "output_type": "execute_result"
    }
   ],
   "source": [
    "# Define the function to calculate hourly statistics\n",
    "def calculate_hourly_stats(df):\n",
    "    \"\"\"\n",
    "    This function calculates hourly statistics for the step count data.\n",
    "    It returns the number of non-zero hours, missing data, average, max, min, and standard deviation of steps.\n",
    "    \"\"\"\n",
    "    # Non-zero hours are those where StepTotal > 0\n",
    "    non_zero_hours = (df['StepTotal'] > 0).sum()\n",
    "    \n",
    "    # Missing data is assumed as NaN values in 'StepTotal'\n",
    "    missing_data = df['StepTotal'].isnull().sum()\n",
    "    \n",
    "    avg_steps = int(df['StepTotal'].mean())\n",
    "    max_steps = int(df['StepTotal'].max())\n",
    "    min_steps = int(df['StepTotal'].min())\n",
    "    median_steps = int(df['StepTotal'].median())\n",
    "    std_steps = int(df['StepTotal'].std())\n",
    "    \n",
    "    return non_zero_hours, missing_data, avg_steps, max_steps, min_steps, median_steps, std_steps\n",
    "\n",
    "# Calculate statistics for each user\n",
    "hourly_stats = []\n",
    "for user_id in hourly_steps['Id'].unique():\n",
    "    user_data = hourly_steps[hourly_steps['Id'] == user_id]\n",
    "    non_zero, missing, avg, max_val, min_val, median, std_dev = calculate_hourly_stats(user_data)\n",
    "    \n",
    "    # Append the statistics as a dictionary to the list\n",
    "    hourly_stats.append({\n",
    "        'User ID': user_id,\n",
    "        'Non-Zero Hours': non_zero,\n",
    "        'Missing Data': missing,\n",
    "        'Average Steps': avg,\n",
    "        'Maximum Steps': max_val,\n",
    "        'Minimum Steps': min_val,\n",
    "        'Median Steps': median,\n",
    "        'Standard Deviation': std_dev\n",
    "    })\n",
    "\n",
    "# Convert the list of dictionaries into a DataFrame\n",
    "hourly_stats_df = pd.DataFrame(hourly_stats)\n",
    "\n",
    "# Display the DataFrame as a table\n",
    "hourly_stats_df\n",
    "\n",
    "# Author: Jingwei Lin\n",
    "# Acknowledgment: Individual checkpoint 1 from Jingwei Lin (modified to all user in the datasets)\n",
    "# Details of contribution: A summary of hourly Step Count Information for all individuals\n",
    "# Start date: 27/10/2024 - End date: 29/10/2024"
   ]
  },
  {
   "cell_type": "markdown",
   "metadata": {},
   "source": [
    "After running this code above, the resulting DataFrame displays hourly statistics for all users. The columns include the User ID, Non-Zero Hours, Missing Data, Average Steps, Maximum Steps, Minimum Steps, Median steps taken by each user and Standard Deviation."
   ]
  },
  {
   "cell_type": "markdown",
   "metadata": {},
   "source": [
    "#### Minute Step Count Information"
   ]
  },
  {
   "cell_type": "code",
   "execution_count": 72,
   "metadata": {},
   "outputs": [
    {
     "data": {
      "text/html": [
       "<div>\n",
       "<style scoped>\n",
       "    .dataframe tbody tr th:only-of-type {\n",
       "        vertical-align: middle;\n",
       "    }\n",
       "\n",
       "    .dataframe tbody tr th {\n",
       "        vertical-align: top;\n",
       "    }\n",
       "\n",
       "    .dataframe thead th {\n",
       "        text-align: right;\n",
       "    }\n",
       "</style>\n",
       "<table border=\"1\" class=\"dataframe\">\n",
       "  <thead>\n",
       "    <tr style=\"text-align: right;\">\n",
       "      <th></th>\n",
       "      <th>User ID</th>\n",
       "      <th>Non-Zero Minutes</th>\n",
       "      <th>Missing Data</th>\n",
       "      <th>Average Steps</th>\n",
       "      <th>Maximum Steps</th>\n",
       "      <th>Minimum Steps</th>\n",
       "      <th>Median Steps</th>\n",
       "      <th>Standard Deviation</th>\n",
       "    </tr>\n",
       "  </thead>\n",
       "  <tbody>\n",
       "    <tr>\n",
       "      <th>0</th>\n",
       "      <td>1503960366</td>\n",
       "      <td>537</td>\n",
       "      <td>0</td>\n",
       "      <td>8</td>\n",
       "      <td>165</td>\n",
       "      <td>0</td>\n",
       "      <td>24</td>\n",
       "      <td>25</td>\n",
       "    </tr>\n",
       "    <tr>\n",
       "      <th>1</th>\n",
       "      <td>1624580081</td>\n",
       "      <td>414</td>\n",
       "      <td>0</td>\n",
       "      <td>3</td>\n",
       "      <td>184</td>\n",
       "      <td>0</td>\n",
       "      <td>17</td>\n",
       "      <td>17</td>\n",
       "    </tr>\n",
       "    <tr>\n",
       "      <th>2</th>\n",
       "      <td>1644430081</td>\n",
       "      <td>415</td>\n",
       "      <td>0</td>\n",
       "      <td>5</td>\n",
       "      <td>134</td>\n",
       "      <td>0</td>\n",
       "      <td>17</td>\n",
       "      <td>17</td>\n",
       "    </tr>\n",
       "    <tr>\n",
       "      <th>3</th>\n",
       "      <td>1844505072</td>\n",
       "      <td>192</td>\n",
       "      <td>0</td>\n",
       "      <td>1</td>\n",
       "      <td>115</td>\n",
       "      <td>0</td>\n",
       "      <td>7</td>\n",
       "      <td>7</td>\n",
       "    </tr>\n",
       "    <tr>\n",
       "      <th>4</th>\n",
       "      <td>1927972279</td>\n",
       "      <td>123</td>\n",
       "      <td>0</td>\n",
       "      <td>0</td>\n",
       "      <td>117</td>\n",
       "      <td>0</td>\n",
       "      <td>5</td>\n",
       "      <td>5</td>\n",
       "    </tr>\n",
       "    <tr>\n",
       "      <th>5</th>\n",
       "      <td>2022484408</td>\n",
       "      <td>386</td>\n",
       "      <td>0</td>\n",
       "      <td>7</td>\n",
       "      <td>176</td>\n",
       "      <td>0</td>\n",
       "      <td>21</td>\n",
       "      <td>21</td>\n",
       "    </tr>\n",
       "    <tr>\n",
       "      <th>6</th>\n",
       "      <td>2026352035</td>\n",
       "      <td>534</td>\n",
       "      <td>0</td>\n",
       "      <td>3</td>\n",
       "      <td>125</td>\n",
       "      <td>0</td>\n",
       "      <td>11</td>\n",
       "      <td>11</td>\n",
       "    </tr>\n",
       "    <tr>\n",
       "      <th>7</th>\n",
       "      <td>2320127002</td>\n",
       "      <td>367</td>\n",
       "      <td>0</td>\n",
       "      <td>3</td>\n",
       "      <td>123</td>\n",
       "      <td>0</td>\n",
       "      <td>9</td>\n",
       "      <td>9</td>\n",
       "    </tr>\n",
       "    <tr>\n",
       "      <th>8</th>\n",
       "      <td>2347167796</td>\n",
       "      <td>279</td>\n",
       "      <td>0</td>\n",
       "      <td>6</td>\n",
       "      <td>167</td>\n",
       "      <td>0</td>\n",
       "      <td>19</td>\n",
       "      <td>20</td>\n",
       "    </tr>\n",
       "    <tr>\n",
       "      <th>9</th>\n",
       "      <td>2873212765</td>\n",
       "      <td>473</td>\n",
       "      <td>0</td>\n",
       "      <td>5</td>\n",
       "      <td>164</td>\n",
       "      <td>0</td>\n",
       "      <td>16</td>\n",
       "      <td>16</td>\n",
       "    </tr>\n",
       "    <tr>\n",
       "      <th>10</th>\n",
       "      <td>3372868164</td>\n",
       "      <td>311</td>\n",
       "      <td>0</td>\n",
       "      <td>4</td>\n",
       "      <td>164</td>\n",
       "      <td>0</td>\n",
       "      <td>14</td>\n",
       "      <td>14</td>\n",
       "    </tr>\n",
       "    <tr>\n",
       "      <th>11</th>\n",
       "      <td>3977333714</td>\n",
       "      <td>532</td>\n",
       "      <td>0</td>\n",
       "      <td>7</td>\n",
       "      <td>190</td>\n",
       "      <td>0</td>\n",
       "      <td>22</td>\n",
       "      <td>22</td>\n",
       "    </tr>\n",
       "    <tr>\n",
       "      <th>12</th>\n",
       "      <td>4020332650</td>\n",
       "      <td>155</td>\n",
       "      <td>0</td>\n",
       "      <td>1</td>\n",
       "      <td>170</td>\n",
       "      <td>0</td>\n",
       "      <td>8</td>\n",
       "      <td>8</td>\n",
       "    </tr>\n",
       "    <tr>\n",
       "      <th>13</th>\n",
       "      <td>4057192912</td>\n",
       "      <td>23</td>\n",
       "      <td>0</td>\n",
       "      <td>2</td>\n",
       "      <td>123</td>\n",
       "      <td>0</td>\n",
       "      <td>12</td>\n",
       "      <td>11</td>\n",
       "    </tr>\n",
       "    <tr>\n",
       "      <th>14</th>\n",
       "      <td>4319703577</td>\n",
       "      <td>471</td>\n",
       "      <td>0</td>\n",
       "      <td>4</td>\n",
       "      <td>177</td>\n",
       "      <td>0</td>\n",
       "      <td>14</td>\n",
       "      <td>14</td>\n",
       "    </tr>\n",
       "    <tr>\n",
       "      <th>15</th>\n",
       "      <td>4388161847</td>\n",
       "      <td>553</td>\n",
       "      <td>0</td>\n",
       "      <td>7</td>\n",
       "      <td>168</td>\n",
       "      <td>0</td>\n",
       "      <td>20</td>\n",
       "      <td>20</td>\n",
       "    </tr>\n",
       "    <tr>\n",
       "      <th>16</th>\n",
       "      <td>4445114986</td>\n",
       "      <td>520</td>\n",
       "      <td>0</td>\n",
       "      <td>3</td>\n",
       "      <td>153</td>\n",
       "      <td>0</td>\n",
       "      <td>12</td>\n",
       "      <td>12</td>\n",
       "    </tr>\n",
       "    <tr>\n",
       "      <th>17</th>\n",
       "      <td>4558609924</td>\n",
       "      <td>464</td>\n",
       "      <td>0</td>\n",
       "      <td>5</td>\n",
       "      <td>207</td>\n",
       "      <td>0</td>\n",
       "      <td>15</td>\n",
       "      <td>15</td>\n",
       "    </tr>\n",
       "    <tr>\n",
       "      <th>18</th>\n",
       "      <td>4702921684</td>\n",
       "      <td>470</td>\n",
       "      <td>0</td>\n",
       "      <td>6</td>\n",
       "      <td>136</td>\n",
       "      <td>0</td>\n",
       "      <td>16</td>\n",
       "      <td>16</td>\n",
       "    </tr>\n",
       "    <tr>\n",
       "      <th>19</th>\n",
       "      <td>5553957443</td>\n",
       "      <td>528</td>\n",
       "      <td>0</td>\n",
       "      <td>6</td>\n",
       "      <td>151</td>\n",
       "      <td>0</td>\n",
       "      <td>19</td>\n",
       "      <td>19</td>\n",
       "    </tr>\n",
       "    <tr>\n",
       "      <th>20</th>\n",
       "      <td>5577150313</td>\n",
       "      <td>486</td>\n",
       "      <td>0</td>\n",
       "      <td>5</td>\n",
       "      <td>155</td>\n",
       "      <td>0</td>\n",
       "      <td>17</td>\n",
       "      <td>17</td>\n",
       "    </tr>\n",
       "    <tr>\n",
       "      <th>21</th>\n",
       "      <td>6117666160</td>\n",
       "      <td>349</td>\n",
       "      <td>0</td>\n",
       "      <td>4</td>\n",
       "      <td>171</td>\n",
       "      <td>0</td>\n",
       "      <td>12</td>\n",
       "      <td>12</td>\n",
       "    </tr>\n",
       "    <tr>\n",
       "      <th>22</th>\n",
       "      <td>6290855005</td>\n",
       "      <td>298</td>\n",
       "      <td>0</td>\n",
       "      <td>4</td>\n",
       "      <td>118</td>\n",
       "      <td>0</td>\n",
       "      <td>14</td>\n",
       "      <td>14</td>\n",
       "    </tr>\n",
       "    <tr>\n",
       "      <th>23</th>\n",
       "      <td>6775888955</td>\n",
       "      <td>92</td>\n",
       "      <td>0</td>\n",
       "      <td>1</td>\n",
       "      <td>154</td>\n",
       "      <td>0</td>\n",
       "      <td>11</td>\n",
       "      <td>11</td>\n",
       "    </tr>\n",
       "    <tr>\n",
       "      <th>24</th>\n",
       "      <td>6962181067</td>\n",
       "      <td>512</td>\n",
       "      <td>0</td>\n",
       "      <td>6</td>\n",
       "      <td>155</td>\n",
       "      <td>0</td>\n",
       "      <td>19</td>\n",
       "      <td>19</td>\n",
       "    </tr>\n",
       "    <tr>\n",
       "      <th>25</th>\n",
       "      <td>7007744171</td>\n",
       "      <td>342</td>\n",
       "      <td>0</td>\n",
       "      <td>8</td>\n",
       "      <td>121</td>\n",
       "      <td>0</td>\n",
       "      <td>20</td>\n",
       "      <td>20</td>\n",
       "    </tr>\n",
       "    <tr>\n",
       "      <th>26</th>\n",
       "      <td>7086361926</td>\n",
       "      <td>440</td>\n",
       "      <td>0</td>\n",
       "      <td>6</td>\n",
       "      <td>175</td>\n",
       "      <td>0</td>\n",
       "      <td>23</td>\n",
       "      <td>22</td>\n",
       "    </tr>\n",
       "    <tr>\n",
       "      <th>27</th>\n",
       "      <td>8053475328</td>\n",
       "      <td>421</td>\n",
       "      <td>0</td>\n",
       "      <td>10</td>\n",
       "      <td>220</td>\n",
       "      <td>0</td>\n",
       "      <td>31</td>\n",
       "      <td>30</td>\n",
       "    </tr>\n",
       "    <tr>\n",
       "      <th>28</th>\n",
       "      <td>8253242879</td>\n",
       "      <td>193</td>\n",
       "      <td>0</td>\n",
       "      <td>4</td>\n",
       "      <td>172</td>\n",
       "      <td>0</td>\n",
       "      <td>20</td>\n",
       "      <td>20</td>\n",
       "    </tr>\n",
       "    <tr>\n",
       "      <th>29</th>\n",
       "      <td>8378563200</td>\n",
       "      <td>568</td>\n",
       "      <td>0</td>\n",
       "      <td>6</td>\n",
       "      <td>129</td>\n",
       "      <td>0</td>\n",
       "      <td>20</td>\n",
       "      <td>20</td>\n",
       "    </tr>\n",
       "    <tr>\n",
       "      <th>30</th>\n",
       "      <td>8583815059</td>\n",
       "      <td>329</td>\n",
       "      <td>0</td>\n",
       "      <td>4</td>\n",
       "      <td>126</td>\n",
       "      <td>0</td>\n",
       "      <td>14</td>\n",
       "      <td>14</td>\n",
       "    </tr>\n",
       "    <tr>\n",
       "      <th>31</th>\n",
       "      <td>8792009665</td>\n",
       "      <td>252</td>\n",
       "      <td>0</td>\n",
       "      <td>1</td>\n",
       "      <td>110</td>\n",
       "      <td>0</td>\n",
       "      <td>6</td>\n",
       "      <td>6</td>\n",
       "    </tr>\n",
       "    <tr>\n",
       "      <th>32</th>\n",
       "      <td>8877689391</td>\n",
       "      <td>491</td>\n",
       "      <td>0</td>\n",
       "      <td>11</td>\n",
       "      <td>187</td>\n",
       "      <td>0</td>\n",
       "      <td>30</td>\n",
       "      <td>30</td>\n",
       "    </tr>\n",
       "  </tbody>\n",
       "</table>\n",
       "</div>"
      ],
      "text/plain": [
       "       User ID  Non-Zero Minutes  Missing Data  Average Steps  Maximum Steps  \\\n",
       "0   1503960366               537             0              8            165   \n",
       "1   1624580081               414             0              3            184   \n",
       "2   1644430081               415             0              5            134   \n",
       "3   1844505072               192             0              1            115   \n",
       "4   1927972279               123             0              0            117   \n",
       "5   2022484408               386             0              7            176   \n",
       "6   2026352035               534             0              3            125   \n",
       "7   2320127002               367             0              3            123   \n",
       "8   2347167796               279             0              6            167   \n",
       "9   2873212765               473             0              5            164   \n",
       "10  3372868164               311             0              4            164   \n",
       "11  3977333714               532             0              7            190   \n",
       "12  4020332650               155             0              1            170   \n",
       "13  4057192912                23             0              2            123   \n",
       "14  4319703577               471             0              4            177   \n",
       "15  4388161847               553             0              7            168   \n",
       "16  4445114986               520             0              3            153   \n",
       "17  4558609924               464             0              5            207   \n",
       "18  4702921684               470             0              6            136   \n",
       "19  5553957443               528             0              6            151   \n",
       "20  5577150313               486             0              5            155   \n",
       "21  6117666160               349             0              4            171   \n",
       "22  6290855005               298             0              4            118   \n",
       "23  6775888955                92             0              1            154   \n",
       "24  6962181067               512             0              6            155   \n",
       "25  7007744171               342             0              8            121   \n",
       "26  7086361926               440             0              6            175   \n",
       "27  8053475328               421             0             10            220   \n",
       "28  8253242879               193             0              4            172   \n",
       "29  8378563200               568             0              6            129   \n",
       "30  8583815059               329             0              4            126   \n",
       "31  8792009665               252             0              1            110   \n",
       "32  8877689391               491             0             11            187   \n",
       "\n",
       "    Minimum Steps  Median Steps  Standard Deviation  \n",
       "0               0            24                  25  \n",
       "1               0            17                  17  \n",
       "2               0            17                  17  \n",
       "3               0             7                   7  \n",
       "4               0             5                   5  \n",
       "5               0            21                  21  \n",
       "6               0            11                  11  \n",
       "7               0             9                   9  \n",
       "8               0            19                  20  \n",
       "9               0            16                  16  \n",
       "10              0            14                  14  \n",
       "11              0            22                  22  \n",
       "12              0             8                   8  \n",
       "13              0            12                  11  \n",
       "14              0            14                  14  \n",
       "15              0            20                  20  \n",
       "16              0            12                  12  \n",
       "17              0            15                  15  \n",
       "18              0            16                  16  \n",
       "19              0            19                  19  \n",
       "20              0            17                  17  \n",
       "21              0            12                  12  \n",
       "22              0            14                  14  \n",
       "23              0            11                  11  \n",
       "24              0            19                  19  \n",
       "25              0            20                  20  \n",
       "26              0            23                  22  \n",
       "27              0            31                  30  \n",
       "28              0            20                  20  \n",
       "29              0            20                  20  \n",
       "30              0            14                  14  \n",
       "31              0             6                   6  \n",
       "32              0            30                  30  "
      ]
     },
     "metadata": {},
     "output_type": "display_data"
    }
   ],
   "source": [
    "def calculate_minute_stats(df):\n",
    "    \"\"\"\n",
    "    This function calculates minute-level statistics for the step count data.\n",
    "    It returns the number of non-zero minutes, missing data, average, max, min, and standard deviation of steps.\n",
    "    \"\"\"\n",
    "    # Assuming non-zero minutes are those where any step column is greater than zero\n",
    "    step_columns = [col for col in df.columns if 'Steps' in col]\n",
    "    non_zero_minutes = (df[step_columns].sum(axis=1) > 0).sum()\n",
    "    \n",
    "    # Missing data can be identified by zero rows\n",
    "    missing_data = df[step_columns].isnull().sum().sum()\n",
    "    \n",
    "    avg_steps = int(df[step_columns].mean().mean())\n",
    "    max_steps = int(df[step_columns].max().max())\n",
    "    min_steps = int(df[step_columns].min().min())\n",
    "    median_steps = int(df[step_columns].std().median())\n",
    "    std_steps = int(df[step_columns].std().mean())\n",
    "    \n",
    "    return non_zero_minutes, missing_data, avg_steps, max_steps, min_steps, median_steps, std_steps\n",
    "\n",
    "minute_stats = []\n",
    "\n",
    "# Calculate minute-level statistics for each user\n",
    "for user_id in minute_steps['Id'].unique():\n",
    "    minute_data = minute_steps[minute_steps['Id'] == user_id]\n",
    "    minute_non_zero, minute_missing, minute_avg, minute_max, minute_min, minute_median, minute_std = calculate_minute_stats(minute_data)\n",
    "    \n",
    "    # Append the statistics as a dictionary to the list\n",
    "    minute_stats.append({\n",
    "        'User ID': user_id,\n",
    "        'Non-Zero Minutes': minute_non_zero,\n",
    "        'Missing Data': minute_missing,\n",
    "        'Average Steps': minute_avg,\n",
    "        'Maximum Steps': minute_max,\n",
    "        'Minimum Steps': minute_min,\n",
    "        'Median Steps': minute_median,\n",
    "        'Standard Deviation': minute_std\n",
    "    })\n",
    "\n",
    "# Convert the list of dictionaries into a DataFrame\n",
    "minute_stats_df = pd.DataFrame(minute_stats)\n",
    "\n",
    "# Display the DataFrame\n",
    "display(minute_stats_df)\n",
    "\n",
    "# Author: Jingwei Lin\n",
    "# Acknowledgment: Individual checkpoint 1 from Jingwei Lin (modified to all user in the datasets)\n",
    "# Details of contribution: A summary of minute Step Count Information for all individuals\n",
    "# Start date: 27/10/2024 - End date: 29/10/2024"
   ]
  },
  {
   "cell_type": "markdown",
   "metadata": {},
   "source": [
    "After running this code above, the resulting DataFrame displays minute statistics for all users. The columns include the User ID, Non-Zero Hours, Missing Data, Average Steps, Maximum Steps, Minimum Steps, Median steps taken by each user and Standard Deviation."
   ]
  },
  {
   "cell_type": "markdown",
   "metadata": {},
   "source": [
    "#### Explore Step Threshold Values"
   ]
  },
  {
   "cell_type": "markdown",
   "metadata": {},
   "source": [
    "We explored different step threshold values to determine whether an hour is active.\n",
    "\n",
    "When determining a step threshold for inactivity and activity we had a look at various ways to determine to set a step count. From a study by Tudor-Locke et al. (2013), it was determined that 5000 steps in one day was considered inactive.\n",
    "\n",
    "Prediction: There might be obvious differences between thresholds due to varying value of hourly step count required to reach an active hour."
   ]
  },
  {
   "cell_type": "code",
   "execution_count": 73,
   "metadata": {},
   "outputs": [
    {
     "name": "stdout",
     "output_type": "stream",
     "text": [
      "[103, 141, 180, 208, 238, 277, 312]\n"
     ]
    }
   ],
   "source": [
    "# Initialize an empty list for storing threshold values\n",
    "thresholds = []\n",
    "inactivity_count = 5000\n",
    "# Append values considering sleeping hours\n",
    "thresholds.append(int(inactivity_count/24))  # no sleeping hours\n",
    "thresholds.append(int(inactivity_count/(24-6)))  # exclude 6 sleeping hours\n",
    "thresholds.append(int(inactivity_count/(24-8)))  # exclude 8 sleeping hours\n",
    "thresholds.append(int(inactivity_count/21))  # educated estimate for inactive looking at research and doctors recommendation\n",
    "\n",
    "# Filter out rows where StepTotal is 0.\n",
    "filtered_steps = hourly_steps[hourly_steps['StepTotal'] > 0]['StepTotal']\n",
    "\n",
    "# Append values considering quantiles (25%, 31% and 37%)\n",
    "for t in filtered_steps.quantile([0.25, 0.31, 0.37]):\n",
    "    thresholds.append(int(t))\n",
    "\n",
    "# Sort the values\n",
    "thresholds.sort()\n",
    "\n",
    "print(thresholds)\n",
    "\n",
    "# Author: Hanchen WANG\n",
    "# Acknowledgment: Individual checkpoint 2 from Hanchen WANG & Erwann LE POUL\n",
    "# Details of contribution: Threshold values that are either doctors recommendation or quantile-based.\n",
    "# Start date: 23/10/2024 - End date: 24/10/2024"
   ]
  },
  {
   "cell_type": "markdown",
   "metadata": {},
   "source": [
    "We calculated 7 different thresholds and they would be used for visualizations."
   ]
  },
  {
   "cell_type": "code",
   "execution_count": 74,
   "metadata": {},
   "outputs": [
    {
     "data": {
      "application/vnd.plotly.v1+json": {
       "config": {
        "plotlyServerURL": "https://plot.ly"
       },
       "data": [
        {
         "alignmentgroup": "True",
         "hovertemplate": "Inactivity Thresholds=%{x}<br>MedianActiveHours=%{y}<extra></extra>",
         "legendgroup": "",
         "marker": {
          "color": "#636efa"
         },
         "name": "",
         "notched": false,
         "offsetgroup": "",
         "orientation": "v",
         "showlegend": false,
         "type": "box",
         "x": [
          "103 Steps",
          "141 Steps",
          "180 Steps",
          "208 Steps",
          "238 Steps",
          "277 Steps",
          "312 Steps",
          "103 Steps",
          "141 Steps",
          "180 Steps",
          "208 Steps",
          "238 Steps",
          "277 Steps",
          "312 Steps",
          "103 Steps",
          "141 Steps",
          "180 Steps",
          "208 Steps",
          "238 Steps",
          "277 Steps",
          "312 Steps",
          "103 Steps",
          "141 Steps",
          "180 Steps",
          "208 Steps",
          "238 Steps",
          "277 Steps",
          "312 Steps",
          "103 Steps",
          "141 Steps",
          "180 Steps",
          "208 Steps",
          "238 Steps",
          "277 Steps",
          "312 Steps",
          "103 Steps",
          "141 Steps",
          "180 Steps",
          "208 Steps",
          "238 Steps",
          "277 Steps",
          "312 Steps",
          "103 Steps",
          "141 Steps",
          "180 Steps",
          "208 Steps",
          "238 Steps",
          "277 Steps",
          "312 Steps",
          "103 Steps",
          "141 Steps",
          "180 Steps",
          "208 Steps",
          "238 Steps",
          "277 Steps",
          "312 Steps",
          "103 Steps",
          "141 Steps",
          "180 Steps",
          "208 Steps",
          "238 Steps",
          "277 Steps",
          "312 Steps",
          "103 Steps",
          "141 Steps",
          "180 Steps",
          "208 Steps",
          "238 Steps",
          "277 Steps",
          "312 Steps",
          "103 Steps",
          "141 Steps",
          "180 Steps",
          "208 Steps",
          "238 Steps",
          "277 Steps",
          "312 Steps",
          "103 Steps",
          "141 Steps",
          "180 Steps",
          "208 Steps",
          "238 Steps",
          "277 Steps",
          "312 Steps",
          "103 Steps",
          "141 Steps",
          "180 Steps",
          "208 Steps",
          "238 Steps",
          "277 Steps",
          "312 Steps",
          "103 Steps",
          "141 Steps",
          "180 Steps",
          "208 Steps",
          "238 Steps",
          "277 Steps",
          "312 Steps",
          "103 Steps",
          "141 Steps",
          "180 Steps",
          "208 Steps",
          "238 Steps",
          "277 Steps",
          "312 Steps",
          "103 Steps",
          "141 Steps",
          "180 Steps",
          "208 Steps",
          "238 Steps",
          "277 Steps",
          "312 Steps",
          "103 Steps",
          "141 Steps",
          "180 Steps",
          "208 Steps",
          "238 Steps",
          "277 Steps",
          "312 Steps",
          "103 Steps",
          "141 Steps",
          "180 Steps",
          "208 Steps",
          "238 Steps",
          "277 Steps",
          "312 Steps",
          "103 Steps",
          "141 Steps",
          "180 Steps",
          "208 Steps",
          "238 Steps",
          "277 Steps",
          "312 Steps",
          "103 Steps",
          "141 Steps",
          "180 Steps",
          "208 Steps",
          "238 Steps",
          "277 Steps",
          "312 Steps",
          "103 Steps",
          "141 Steps",
          "180 Steps",
          "208 Steps",
          "238 Steps",
          "277 Steps",
          "312 Steps",
          "103 Steps",
          "141 Steps",
          "180 Steps",
          "208 Steps",
          "238 Steps",
          "277 Steps",
          "312 Steps",
          "103 Steps",
          "141 Steps",
          "180 Steps",
          "208 Steps",
          "238 Steps",
          "277 Steps",
          "312 Steps",
          "103 Steps",
          "141 Steps",
          "180 Steps",
          "208 Steps",
          "238 Steps",
          "277 Steps",
          "312 Steps",
          "103 Steps",
          "141 Steps",
          "180 Steps",
          "208 Steps",
          "238 Steps",
          "277 Steps",
          "312 Steps",
          "103 Steps",
          "141 Steps",
          "180 Steps",
          "208 Steps",
          "238 Steps",
          "277 Steps",
          "312 Steps",
          "103 Steps",
          "141 Steps",
          "180 Steps",
          "208 Steps",
          "238 Steps",
          "277 Steps",
          "312 Steps",
          "103 Steps",
          "141 Steps",
          "180 Steps",
          "208 Steps",
          "238 Steps",
          "277 Steps",
          "312 Steps",
          "103 Steps",
          "141 Steps",
          "180 Steps",
          "208 Steps",
          "238 Steps",
          "277 Steps",
          "312 Steps",
          "103 Steps",
          "141 Steps",
          "180 Steps",
          "208 Steps",
          "238 Steps",
          "277 Steps",
          "312 Steps",
          "103 Steps",
          "141 Steps",
          "180 Steps",
          "208 Steps",
          "238 Steps",
          "277 Steps",
          "312 Steps"
         ],
         "x0": " ",
         "xaxis": "x",
         "y": [
          13,
          12,
          10,
          9,
          9,
          9,
          8,
          12,
          10,
          8,
          8,
          8,
          7,
          7,
          13,
          12,
          10,
          10,
          10,
          9,
          9,
          12,
          11,
          10,
          9,
          9,
          8,
          7,
          12,
          11,
          9,
          8,
          8,
          8,
          7,
          11,
          11,
          10,
          9,
          9,
          8,
          8,
          11,
          10,
          11,
          10,
          8,
          8,
          7,
          12,
          11,
          11,
          10,
          10,
          9,
          8,
          12,
          11,
          11,
          11,
          10,
          9,
          9,
          12,
          10,
          10,
          9,
          9,
          8,
          8,
          11,
          11,
          10,
          10,
          9,
          8,
          8,
          13,
          12,
          10,
          9,
          9,
          8,
          7,
          11,
          10,
          9,
          7,
          7,
          7,
          6,
          11,
          11,
          11,
          10,
          10,
          9,
          8,
          12,
          11,
          11,
          10,
          9,
          8,
          8,
          12,
          11,
          10,
          9,
          9,
          8,
          8,
          13,
          11,
          10,
          9,
          8,
          8,
          7,
          13,
          13,
          11,
          11,
          10,
          9,
          8,
          13,
          11,
          11,
          11,
          10,
          9,
          9,
          11,
          10,
          8,
          8,
          8,
          7,
          6,
          12,
          10,
          10,
          9,
          8,
          8,
          8,
          13,
          12,
          11,
          10,
          10,
          9,
          8,
          12,
          11,
          10,
          10,
          9,
          9,
          8,
          13,
          12,
          11,
          11,
          9,
          9,
          8,
          12,
          11,
          10,
          10,
          9,
          8,
          7,
          12,
          11,
          10,
          9,
          8,
          8,
          7,
          12,
          10,
          9,
          9,
          9,
          8,
          8,
          13,
          11,
          10,
          10,
          9,
          8,
          8,
          12,
          12,
          11,
          10,
          9,
          9,
          8,
          12,
          12,
          12,
          11,
          10,
          9,
          9,
          5,
          5,
          4,
          5,
          5,
          4,
          4
         ],
         "y0": " ",
         "yaxis": "y"
        }
       ],
       "layout": {
        "boxmode": "group",
        "legend": {
         "tracegroupgap": 0
        },
        "template": {
         "data": {
          "bar": [
           {
            "error_x": {
             "color": "#2a3f5f"
            },
            "error_y": {
             "color": "#2a3f5f"
            },
            "marker": {
             "line": {
              "color": "#E5ECF6",
              "width": 0.5
             },
             "pattern": {
              "fillmode": "overlay",
              "size": 10,
              "solidity": 0.2
             }
            },
            "type": "bar"
           }
          ],
          "barpolar": [
           {
            "marker": {
             "line": {
              "color": "#E5ECF6",
              "width": 0.5
             },
             "pattern": {
              "fillmode": "overlay",
              "size": 10,
              "solidity": 0.2
             }
            },
            "type": "barpolar"
           }
          ],
          "carpet": [
           {
            "aaxis": {
             "endlinecolor": "#2a3f5f",
             "gridcolor": "white",
             "linecolor": "white",
             "minorgridcolor": "white",
             "startlinecolor": "#2a3f5f"
            },
            "baxis": {
             "endlinecolor": "#2a3f5f",
             "gridcolor": "white",
             "linecolor": "white",
             "minorgridcolor": "white",
             "startlinecolor": "#2a3f5f"
            },
            "type": "carpet"
           }
          ],
          "choropleth": [
           {
            "colorbar": {
             "outlinewidth": 0,
             "ticks": ""
            },
            "type": "choropleth"
           }
          ],
          "contour": [
           {
            "colorbar": {
             "outlinewidth": 0,
             "ticks": ""
            },
            "colorscale": [
             [
              0,
              "#0d0887"
             ],
             [
              0.1111111111111111,
              "#46039f"
             ],
             [
              0.2222222222222222,
              "#7201a8"
             ],
             [
              0.3333333333333333,
              "#9c179e"
             ],
             [
              0.4444444444444444,
              "#bd3786"
             ],
             [
              0.5555555555555556,
              "#d8576b"
             ],
             [
              0.6666666666666666,
              "#ed7953"
             ],
             [
              0.7777777777777778,
              "#fb9f3a"
             ],
             [
              0.8888888888888888,
              "#fdca26"
             ],
             [
              1,
              "#f0f921"
             ]
            ],
            "type": "contour"
           }
          ],
          "contourcarpet": [
           {
            "colorbar": {
             "outlinewidth": 0,
             "ticks": ""
            },
            "type": "contourcarpet"
           }
          ],
          "heatmap": [
           {
            "colorbar": {
             "outlinewidth": 0,
             "ticks": ""
            },
            "colorscale": [
             [
              0,
              "#0d0887"
             ],
             [
              0.1111111111111111,
              "#46039f"
             ],
             [
              0.2222222222222222,
              "#7201a8"
             ],
             [
              0.3333333333333333,
              "#9c179e"
             ],
             [
              0.4444444444444444,
              "#bd3786"
             ],
             [
              0.5555555555555556,
              "#d8576b"
             ],
             [
              0.6666666666666666,
              "#ed7953"
             ],
             [
              0.7777777777777778,
              "#fb9f3a"
             ],
             [
              0.8888888888888888,
              "#fdca26"
             ],
             [
              1,
              "#f0f921"
             ]
            ],
            "type": "heatmap"
           }
          ],
          "heatmapgl": [
           {
            "colorbar": {
             "outlinewidth": 0,
             "ticks": ""
            },
            "colorscale": [
             [
              0,
              "#0d0887"
             ],
             [
              0.1111111111111111,
              "#46039f"
             ],
             [
              0.2222222222222222,
              "#7201a8"
             ],
             [
              0.3333333333333333,
              "#9c179e"
             ],
             [
              0.4444444444444444,
              "#bd3786"
             ],
             [
              0.5555555555555556,
              "#d8576b"
             ],
             [
              0.6666666666666666,
              "#ed7953"
             ],
             [
              0.7777777777777778,
              "#fb9f3a"
             ],
             [
              0.8888888888888888,
              "#fdca26"
             ],
             [
              1,
              "#f0f921"
             ]
            ],
            "type": "heatmapgl"
           }
          ],
          "histogram": [
           {
            "marker": {
             "pattern": {
              "fillmode": "overlay",
              "size": 10,
              "solidity": 0.2
             }
            },
            "type": "histogram"
           }
          ],
          "histogram2d": [
           {
            "colorbar": {
             "outlinewidth": 0,
             "ticks": ""
            },
            "colorscale": [
             [
              0,
              "#0d0887"
             ],
             [
              0.1111111111111111,
              "#46039f"
             ],
             [
              0.2222222222222222,
              "#7201a8"
             ],
             [
              0.3333333333333333,
              "#9c179e"
             ],
             [
              0.4444444444444444,
              "#bd3786"
             ],
             [
              0.5555555555555556,
              "#d8576b"
             ],
             [
              0.6666666666666666,
              "#ed7953"
             ],
             [
              0.7777777777777778,
              "#fb9f3a"
             ],
             [
              0.8888888888888888,
              "#fdca26"
             ],
             [
              1,
              "#f0f921"
             ]
            ],
            "type": "histogram2d"
           }
          ],
          "histogram2dcontour": [
           {
            "colorbar": {
             "outlinewidth": 0,
             "ticks": ""
            },
            "colorscale": [
             [
              0,
              "#0d0887"
             ],
             [
              0.1111111111111111,
              "#46039f"
             ],
             [
              0.2222222222222222,
              "#7201a8"
             ],
             [
              0.3333333333333333,
              "#9c179e"
             ],
             [
              0.4444444444444444,
              "#bd3786"
             ],
             [
              0.5555555555555556,
              "#d8576b"
             ],
             [
              0.6666666666666666,
              "#ed7953"
             ],
             [
              0.7777777777777778,
              "#fb9f3a"
             ],
             [
              0.8888888888888888,
              "#fdca26"
             ],
             [
              1,
              "#f0f921"
             ]
            ],
            "type": "histogram2dcontour"
           }
          ],
          "mesh3d": [
           {
            "colorbar": {
             "outlinewidth": 0,
             "ticks": ""
            },
            "type": "mesh3d"
           }
          ],
          "parcoords": [
           {
            "line": {
             "colorbar": {
              "outlinewidth": 0,
              "ticks": ""
             }
            },
            "type": "parcoords"
           }
          ],
          "pie": [
           {
            "automargin": true,
            "type": "pie"
           }
          ],
          "scatter": [
           {
            "fillpattern": {
             "fillmode": "overlay",
             "size": 10,
             "solidity": 0.2
            },
            "type": "scatter"
           }
          ],
          "scatter3d": [
           {
            "line": {
             "colorbar": {
              "outlinewidth": 0,
              "ticks": ""
             }
            },
            "marker": {
             "colorbar": {
              "outlinewidth": 0,
              "ticks": ""
             }
            },
            "type": "scatter3d"
           }
          ],
          "scattercarpet": [
           {
            "marker": {
             "colorbar": {
              "outlinewidth": 0,
              "ticks": ""
             }
            },
            "type": "scattercarpet"
           }
          ],
          "scattergeo": [
           {
            "marker": {
             "colorbar": {
              "outlinewidth": 0,
              "ticks": ""
             }
            },
            "type": "scattergeo"
           }
          ],
          "scattergl": [
           {
            "marker": {
             "colorbar": {
              "outlinewidth": 0,
              "ticks": ""
             }
            },
            "type": "scattergl"
           }
          ],
          "scattermapbox": [
           {
            "marker": {
             "colorbar": {
              "outlinewidth": 0,
              "ticks": ""
             }
            },
            "type": "scattermapbox"
           }
          ],
          "scatterpolar": [
           {
            "marker": {
             "colorbar": {
              "outlinewidth": 0,
              "ticks": ""
             }
            },
            "type": "scatterpolar"
           }
          ],
          "scatterpolargl": [
           {
            "marker": {
             "colorbar": {
              "outlinewidth": 0,
              "ticks": ""
             }
            },
            "type": "scatterpolargl"
           }
          ],
          "scatterternary": [
           {
            "marker": {
             "colorbar": {
              "outlinewidth": 0,
              "ticks": ""
             }
            },
            "type": "scatterternary"
           }
          ],
          "surface": [
           {
            "colorbar": {
             "outlinewidth": 0,
             "ticks": ""
            },
            "colorscale": [
             [
              0,
              "#0d0887"
             ],
             [
              0.1111111111111111,
              "#46039f"
             ],
             [
              0.2222222222222222,
              "#7201a8"
             ],
             [
              0.3333333333333333,
              "#9c179e"
             ],
             [
              0.4444444444444444,
              "#bd3786"
             ],
             [
              0.5555555555555556,
              "#d8576b"
             ],
             [
              0.6666666666666666,
              "#ed7953"
             ],
             [
              0.7777777777777778,
              "#fb9f3a"
             ],
             [
              0.8888888888888888,
              "#fdca26"
             ],
             [
              1,
              "#f0f921"
             ]
            ],
            "type": "surface"
           }
          ],
          "table": [
           {
            "cells": {
             "fill": {
              "color": "#EBF0F8"
             },
             "line": {
              "color": "white"
             }
            },
            "header": {
             "fill": {
              "color": "#C8D4E3"
             },
             "line": {
              "color": "white"
             }
            },
            "type": "table"
           }
          ]
         },
         "layout": {
          "annotationdefaults": {
           "arrowcolor": "#2a3f5f",
           "arrowhead": 0,
           "arrowwidth": 1
          },
          "autotypenumbers": "strict",
          "coloraxis": {
           "colorbar": {
            "outlinewidth": 0,
            "ticks": ""
           }
          },
          "colorscale": {
           "diverging": [
            [
             0,
             "#8e0152"
            ],
            [
             0.1,
             "#c51b7d"
            ],
            [
             0.2,
             "#de77ae"
            ],
            [
             0.3,
             "#f1b6da"
            ],
            [
             0.4,
             "#fde0ef"
            ],
            [
             0.5,
             "#f7f7f7"
            ],
            [
             0.6,
             "#e6f5d0"
            ],
            [
             0.7,
             "#b8e186"
            ],
            [
             0.8,
             "#7fbc41"
            ],
            [
             0.9,
             "#4d9221"
            ],
            [
             1,
             "#276419"
            ]
           ],
           "sequential": [
            [
             0,
             "#0d0887"
            ],
            [
             0.1111111111111111,
             "#46039f"
            ],
            [
             0.2222222222222222,
             "#7201a8"
            ],
            [
             0.3333333333333333,
             "#9c179e"
            ],
            [
             0.4444444444444444,
             "#bd3786"
            ],
            [
             0.5555555555555556,
             "#d8576b"
            ],
            [
             0.6666666666666666,
             "#ed7953"
            ],
            [
             0.7777777777777778,
             "#fb9f3a"
            ],
            [
             0.8888888888888888,
             "#fdca26"
            ],
            [
             1,
             "#f0f921"
            ]
           ],
           "sequentialminus": [
            [
             0,
             "#0d0887"
            ],
            [
             0.1111111111111111,
             "#46039f"
            ],
            [
             0.2222222222222222,
             "#7201a8"
            ],
            [
             0.3333333333333333,
             "#9c179e"
            ],
            [
             0.4444444444444444,
             "#bd3786"
            ],
            [
             0.5555555555555556,
             "#d8576b"
            ],
            [
             0.6666666666666666,
             "#ed7953"
            ],
            [
             0.7777777777777778,
             "#fb9f3a"
            ],
            [
             0.8888888888888888,
             "#fdca26"
            ],
            [
             1,
             "#f0f921"
            ]
           ]
          },
          "colorway": [
           "#636efa",
           "#EF553B",
           "#00cc96",
           "#ab63fa",
           "#FFA15A",
           "#19d3f3",
           "#FF6692",
           "#B6E880",
           "#FF97FF",
           "#FECB52"
          ],
          "font": {
           "color": "#2a3f5f"
          },
          "geo": {
           "bgcolor": "white",
           "lakecolor": "white",
           "landcolor": "#E5ECF6",
           "showlakes": true,
           "showland": true,
           "subunitcolor": "white"
          },
          "hoverlabel": {
           "align": "left"
          },
          "hovermode": "closest",
          "mapbox": {
           "style": "light"
          },
          "paper_bgcolor": "white",
          "plot_bgcolor": "#E5ECF6",
          "polar": {
           "angularaxis": {
            "gridcolor": "white",
            "linecolor": "white",
            "ticks": ""
           },
           "bgcolor": "#E5ECF6",
           "radialaxis": {
            "gridcolor": "white",
            "linecolor": "white",
            "ticks": ""
           }
          },
          "scene": {
           "xaxis": {
            "backgroundcolor": "#E5ECF6",
            "gridcolor": "white",
            "gridwidth": 2,
            "linecolor": "white",
            "showbackground": true,
            "ticks": "",
            "zerolinecolor": "white"
           },
           "yaxis": {
            "backgroundcolor": "#E5ECF6",
            "gridcolor": "white",
            "gridwidth": 2,
            "linecolor": "white",
            "showbackground": true,
            "ticks": "",
            "zerolinecolor": "white"
           },
           "zaxis": {
            "backgroundcolor": "#E5ECF6",
            "gridcolor": "white",
            "gridwidth": 2,
            "linecolor": "white",
            "showbackground": true,
            "ticks": "",
            "zerolinecolor": "white"
           }
          },
          "shapedefaults": {
           "line": {
            "color": "#2a3f5f"
           }
          },
          "ternary": {
           "aaxis": {
            "gridcolor": "white",
            "linecolor": "white",
            "ticks": ""
           },
           "baxis": {
            "gridcolor": "white",
            "linecolor": "white",
            "ticks": ""
           },
           "bgcolor": "#E5ECF6",
           "caxis": {
            "gridcolor": "white",
            "linecolor": "white",
            "ticks": ""
           }
          },
          "title": {
           "x": 0.05
          },
          "xaxis": {
           "automargin": true,
           "gridcolor": "white",
           "linecolor": "white",
           "ticks": "",
           "title": {
            "standoff": 15
           },
           "zerolinecolor": "white",
           "zerolinewidth": 2
          },
          "yaxis": {
           "automargin": true,
           "gridcolor": "white",
           "linecolor": "white",
           "ticks": "",
           "title": {
            "standoff": 15
           },
           "zerolinecolor": "white",
           "zerolinewidth": 2
          }
         }
        },
        "title": {
         "text": "FIG 1: Distribution of Daily-active-hours across Thresholds for ALL Ids"
        },
        "xaxis": {
         "anchor": "y",
         "domain": [
          0,
          1
         ],
         "title": {
          "text": "Inactivity Thresholds"
         }
        },
        "yaxis": {
         "anchor": "x",
         "domain": [
          0,
          1
         ],
         "title": {
          "text": "MedianActiveHours"
         }
        }
       }
      }
     },
     "metadata": {},
     "output_type": "display_data"
    },
    {
     "data": {
      "application/vnd.plotly.v1+json": {
       "config": {
        "plotlyServerURL": "https://plot.ly"
       },
       "data": [
        {
         "alignmentgroup": "True",
         "hovertemplate": "Step Count Threshold=103 Steps<br>Date=%{x}<br>Median Active Hours Per Day=%{y}<extra></extra>",
         "legendgroup": "103 Steps",
         "marker": {
          "color": "#636efa",
          "pattern": {
           "shape": ""
          }
         },
         "name": "103 Steps",
         "offsetgroup": "103 Steps",
         "orientation": "v",
         "showlegend": true,
         "textposition": "auto",
         "type": "bar",
         "x": [
          "2016-04-12T00:00:00",
          "2016-04-13T00:00:00",
          "2016-04-14T00:00:00",
          "2016-04-15T00:00:00",
          "2016-04-16T00:00:00",
          "2016-04-17T00:00:00",
          "2016-04-18T00:00:00",
          "2016-04-19T00:00:00",
          "2016-04-20T00:00:00",
          "2016-04-21T00:00:00",
          "2016-04-22T00:00:00",
          "2016-04-23T00:00:00",
          "2016-04-24T00:00:00",
          "2016-04-25T00:00:00",
          "2016-04-26T00:00:00",
          "2016-04-27T00:00:00",
          "2016-04-28T00:00:00",
          "2016-04-29T00:00:00",
          "2016-04-30T00:00:00",
          "2016-05-01T00:00:00",
          "2016-05-02T00:00:00",
          "2016-05-03T00:00:00",
          "2016-05-04T00:00:00",
          "2016-05-05T00:00:00",
          "2016-05-06T00:00:00",
          "2016-05-07T00:00:00",
          "2016-05-08T00:00:00",
          "2016-05-09T00:00:00",
          "2016-05-10T00:00:00",
          "2016-05-11T00:00:00",
          "2016-05-12T00:00:00"
         ],
         "xaxis": "x",
         "y": [
          13,
          12,
          13,
          12,
          12,
          11,
          11,
          12,
          12,
          12,
          11,
          13,
          11,
          11,
          12,
          12,
          13,
          13,
          13,
          11,
          12,
          13,
          12,
          13,
          12,
          12,
          12,
          13,
          12,
          12,
          5
         ],
         "yaxis": "y"
        },
        {
         "alignmentgroup": "True",
         "hovertemplate": "Step Count Threshold=141 Steps<br>Date=%{x}<br>Median Active Hours Per Day=%{y}<extra></extra>",
         "legendgroup": "141 Steps",
         "marker": {
          "color": "#EF553B",
          "pattern": {
           "shape": ""
          }
         },
         "name": "141 Steps",
         "offsetgroup": "141 Steps",
         "orientation": "v",
         "showlegend": true,
         "textposition": "auto",
         "type": "bar",
         "x": [
          "2016-04-12T00:00:00",
          "2016-04-13T00:00:00",
          "2016-04-14T00:00:00",
          "2016-04-15T00:00:00",
          "2016-04-16T00:00:00",
          "2016-04-17T00:00:00",
          "2016-04-18T00:00:00",
          "2016-04-19T00:00:00",
          "2016-04-20T00:00:00",
          "2016-04-21T00:00:00",
          "2016-04-22T00:00:00",
          "2016-04-23T00:00:00",
          "2016-04-24T00:00:00",
          "2016-04-25T00:00:00",
          "2016-04-26T00:00:00",
          "2016-04-27T00:00:00",
          "2016-04-28T00:00:00",
          "2016-04-29T00:00:00",
          "2016-04-30T00:00:00",
          "2016-05-01T00:00:00",
          "2016-05-02T00:00:00",
          "2016-05-03T00:00:00",
          "2016-05-04T00:00:00",
          "2016-05-05T00:00:00",
          "2016-05-06T00:00:00",
          "2016-05-07T00:00:00",
          "2016-05-08T00:00:00",
          "2016-05-09T00:00:00",
          "2016-05-10T00:00:00",
          "2016-05-11T00:00:00",
          "2016-05-12T00:00:00"
         ],
         "xaxis": "x",
         "y": [
          12,
          10,
          12,
          11,
          11,
          11,
          10,
          11,
          11,
          10,
          11,
          12,
          10,
          11,
          11,
          11,
          11,
          13,
          11,
          10,
          10,
          12,
          11,
          12,
          11,
          11,
          10,
          11,
          12,
          12,
          5
         ],
         "yaxis": "y"
        },
        {
         "alignmentgroup": "True",
         "hovertemplate": "Step Count Threshold=180 Steps<br>Date=%{x}<br>Median Active Hours Per Day=%{y}<extra></extra>",
         "legendgroup": "180 Steps",
         "marker": {
          "color": "#00cc96",
          "pattern": {
           "shape": ""
          }
         },
         "name": "180 Steps",
         "offsetgroup": "180 Steps",
         "orientation": "v",
         "showlegend": true,
         "textposition": "auto",
         "type": "bar",
         "x": [
          "2016-04-12T00:00:00",
          "2016-04-13T00:00:00",
          "2016-04-14T00:00:00",
          "2016-04-15T00:00:00",
          "2016-04-16T00:00:00",
          "2016-04-17T00:00:00",
          "2016-04-18T00:00:00",
          "2016-04-19T00:00:00",
          "2016-04-20T00:00:00",
          "2016-04-21T00:00:00",
          "2016-04-22T00:00:00",
          "2016-04-23T00:00:00",
          "2016-04-24T00:00:00",
          "2016-04-25T00:00:00",
          "2016-04-26T00:00:00",
          "2016-04-27T00:00:00",
          "2016-04-28T00:00:00",
          "2016-04-29T00:00:00",
          "2016-04-30T00:00:00",
          "2016-05-01T00:00:00",
          "2016-05-02T00:00:00",
          "2016-05-03T00:00:00",
          "2016-05-04T00:00:00",
          "2016-05-05T00:00:00",
          "2016-05-06T00:00:00",
          "2016-05-07T00:00:00",
          "2016-05-08T00:00:00",
          "2016-05-09T00:00:00",
          "2016-05-10T00:00:00",
          "2016-05-11T00:00:00",
          "2016-05-12T00:00:00"
         ],
         "xaxis": "x",
         "y": [
          10,
          8,
          10,
          10,
          9,
          10,
          11,
          11,
          11,
          10,
          10,
          10,
          9,
          11,
          11,
          10,
          10,
          11,
          11,
          8,
          10,
          11,
          10,
          11,
          10,
          10,
          9,
          10,
          11,
          12,
          4
         ],
         "yaxis": "y"
        },
        {
         "alignmentgroup": "True",
         "hovertemplate": "Step Count Threshold=208 Steps<br>Date=%{x}<br>Median Active Hours Per Day=%{y}<extra></extra>",
         "legendgroup": "208 Steps",
         "marker": {
          "color": "#ab63fa",
          "pattern": {
           "shape": ""
          }
         },
         "name": "208 Steps",
         "offsetgroup": "208 Steps",
         "orientation": "v",
         "showlegend": true,
         "textposition": "auto",
         "type": "bar",
         "x": [
          "2016-04-12T00:00:00",
          "2016-04-13T00:00:00",
          "2016-04-14T00:00:00",
          "2016-04-15T00:00:00",
          "2016-04-16T00:00:00",
          "2016-04-17T00:00:00",
          "2016-04-18T00:00:00",
          "2016-04-19T00:00:00",
          "2016-04-20T00:00:00",
          "2016-04-21T00:00:00",
          "2016-04-22T00:00:00",
          "2016-04-23T00:00:00",
          "2016-04-24T00:00:00",
          "2016-04-25T00:00:00",
          "2016-04-26T00:00:00",
          "2016-04-27T00:00:00",
          "2016-04-28T00:00:00",
          "2016-04-29T00:00:00",
          "2016-04-30T00:00:00",
          "2016-05-01T00:00:00",
          "2016-05-02T00:00:00",
          "2016-05-03T00:00:00",
          "2016-05-04T00:00:00",
          "2016-05-05T00:00:00",
          "2016-05-06T00:00:00",
          "2016-05-07T00:00:00",
          "2016-05-08T00:00:00",
          "2016-05-09T00:00:00",
          "2016-05-10T00:00:00",
          "2016-05-11T00:00:00",
          "2016-05-12T00:00:00"
         ],
         "xaxis": "x",
         "y": [
          9,
          8,
          10,
          9,
          8,
          9,
          10,
          10,
          11,
          9,
          10,
          9,
          7,
          10,
          10,
          9,
          9,
          11,
          11,
          8,
          9,
          10,
          10,
          11,
          10,
          9,
          9,
          10,
          10,
          11,
          5
         ],
         "yaxis": "y"
        },
        {
         "alignmentgroup": "True",
         "hovertemplate": "Step Count Threshold=238 Steps<br>Date=%{x}<br>Median Active Hours Per Day=%{y}<extra></extra>",
         "legendgroup": "238 Steps",
         "marker": {
          "color": "#FFA15A",
          "pattern": {
           "shape": ""
          }
         },
         "name": "238 Steps",
         "offsetgroup": "238 Steps",
         "orientation": "v",
         "showlegend": true,
         "textposition": "auto",
         "type": "bar",
         "x": [
          "2016-04-12T00:00:00",
          "2016-04-13T00:00:00",
          "2016-04-14T00:00:00",
          "2016-04-15T00:00:00",
          "2016-04-16T00:00:00",
          "2016-04-17T00:00:00",
          "2016-04-18T00:00:00",
          "2016-04-19T00:00:00",
          "2016-04-20T00:00:00",
          "2016-04-21T00:00:00",
          "2016-04-22T00:00:00",
          "2016-04-23T00:00:00",
          "2016-04-24T00:00:00",
          "2016-04-25T00:00:00",
          "2016-04-26T00:00:00",
          "2016-04-27T00:00:00",
          "2016-04-28T00:00:00",
          "2016-04-29T00:00:00",
          "2016-04-30T00:00:00",
          "2016-05-01T00:00:00",
          "2016-05-02T00:00:00",
          "2016-05-03T00:00:00",
          "2016-05-04T00:00:00",
          "2016-05-05T00:00:00",
          "2016-05-06T00:00:00",
          "2016-05-07T00:00:00",
          "2016-05-08T00:00:00",
          "2016-05-09T00:00:00",
          "2016-05-10T00:00:00",
          "2016-05-11T00:00:00",
          "2016-05-12T00:00:00"
         ],
         "xaxis": "x",
         "y": [
          9,
          8,
          10,
          9,
          8,
          9,
          8,
          10,
          10,
          9,
          9,
          9,
          7,
          10,
          9,
          9,
          8,
          10,
          10,
          8,
          8,
          10,
          9,
          9,
          9,
          8,
          9,
          9,
          9,
          10,
          5
         ],
         "yaxis": "y"
        },
        {
         "alignmentgroup": "True",
         "hovertemplate": "Step Count Threshold=277 Steps<br>Date=%{x}<br>Median Active Hours Per Day=%{y}<extra></extra>",
         "legendgroup": "277 Steps",
         "marker": {
          "color": "#19d3f3",
          "pattern": {
           "shape": ""
          }
         },
         "name": "277 Steps",
         "offsetgroup": "277 Steps",
         "orientation": "v",
         "showlegend": true,
         "textposition": "auto",
         "type": "bar",
         "x": [
          "2016-04-12T00:00:00",
          "2016-04-13T00:00:00",
          "2016-04-14T00:00:00",
          "2016-04-15T00:00:00",
          "2016-04-16T00:00:00",
          "2016-04-17T00:00:00",
          "2016-04-18T00:00:00",
          "2016-04-19T00:00:00",
          "2016-04-20T00:00:00",
          "2016-04-21T00:00:00",
          "2016-04-22T00:00:00",
          "2016-04-23T00:00:00",
          "2016-04-24T00:00:00",
          "2016-04-25T00:00:00",
          "2016-04-26T00:00:00",
          "2016-04-27T00:00:00",
          "2016-04-28T00:00:00",
          "2016-04-29T00:00:00",
          "2016-04-30T00:00:00",
          "2016-05-01T00:00:00",
          "2016-05-02T00:00:00",
          "2016-05-03T00:00:00",
          "2016-05-04T00:00:00",
          "2016-05-05T00:00:00",
          "2016-05-06T00:00:00",
          "2016-05-07T00:00:00",
          "2016-05-08T00:00:00",
          "2016-05-09T00:00:00",
          "2016-05-10T00:00:00",
          "2016-05-11T00:00:00",
          "2016-05-12T00:00:00"
         ],
         "xaxis": "x",
         "y": [
          9,
          7,
          9,
          8,
          8,
          8,
          8,
          9,
          9,
          8,
          8,
          8,
          7,
          9,
          8,
          8,
          8,
          9,
          9,
          7,
          8,
          9,
          9,
          9,
          8,
          8,
          8,
          8,
          9,
          9,
          4
         ],
         "yaxis": "y"
        },
        {
         "alignmentgroup": "True",
         "hovertemplate": "Step Count Threshold=312 Steps<br>Date=%{x}<br>Median Active Hours Per Day=%{y}<extra></extra>",
         "legendgroup": "312 Steps",
         "marker": {
          "color": "#FF6692",
          "pattern": {
           "shape": ""
          }
         },
         "name": "312 Steps",
         "offsetgroup": "312 Steps",
         "orientation": "v",
         "showlegend": true,
         "textposition": "auto",
         "type": "bar",
         "x": [
          "2016-04-12T00:00:00",
          "2016-04-13T00:00:00",
          "2016-04-14T00:00:00",
          "2016-04-15T00:00:00",
          "2016-04-16T00:00:00",
          "2016-04-17T00:00:00",
          "2016-04-18T00:00:00",
          "2016-04-19T00:00:00",
          "2016-04-20T00:00:00",
          "2016-04-21T00:00:00",
          "2016-04-22T00:00:00",
          "2016-04-23T00:00:00",
          "2016-04-24T00:00:00",
          "2016-04-25T00:00:00",
          "2016-04-26T00:00:00",
          "2016-04-27T00:00:00",
          "2016-04-28T00:00:00",
          "2016-04-29T00:00:00",
          "2016-04-30T00:00:00",
          "2016-05-01T00:00:00",
          "2016-05-02T00:00:00",
          "2016-05-03T00:00:00",
          "2016-05-04T00:00:00",
          "2016-05-05T00:00:00",
          "2016-05-06T00:00:00",
          "2016-05-07T00:00:00",
          "2016-05-08T00:00:00",
          "2016-05-09T00:00:00",
          "2016-05-10T00:00:00",
          "2016-05-11T00:00:00",
          "2016-05-12T00:00:00"
         ],
         "xaxis": "x",
         "y": [
          8,
          7,
          9,
          7,
          7,
          8,
          7,
          8,
          9,
          8,
          8,
          7,
          6,
          8,
          8,
          8,
          7,
          8,
          9,
          6,
          8,
          8,
          8,
          8,
          7,
          7,
          8,
          8,
          8,
          9,
          4
         ],
         "yaxis": "y"
        }
       ],
       "layout": {
        "barmode": "group",
        "legend": {
         "title": {
          "text": "Threshold"
         },
         "tracegroupgap": 0
        },
        "shapes": [
         {
          "line": {
           "color": "red",
           "dash": "dash",
           "width": 2
          },
          "type": "line",
          "x0": "2016-04-12T00:00:00",
          "x1": "2016-05-12T00:00:00",
          "y0": 10,
          "y1": 10
         }
        ],
        "template": {
         "data": {
          "bar": [
           {
            "error_x": {
             "color": "#2a3f5f"
            },
            "error_y": {
             "color": "#2a3f5f"
            },
            "marker": {
             "line": {
              "color": "#E5ECF6",
              "width": 0.5
             },
             "pattern": {
              "fillmode": "overlay",
              "size": 10,
              "solidity": 0.2
             }
            },
            "type": "bar"
           }
          ],
          "barpolar": [
           {
            "marker": {
             "line": {
              "color": "#E5ECF6",
              "width": 0.5
             },
             "pattern": {
              "fillmode": "overlay",
              "size": 10,
              "solidity": 0.2
             }
            },
            "type": "barpolar"
           }
          ],
          "carpet": [
           {
            "aaxis": {
             "endlinecolor": "#2a3f5f",
             "gridcolor": "white",
             "linecolor": "white",
             "minorgridcolor": "white",
             "startlinecolor": "#2a3f5f"
            },
            "baxis": {
             "endlinecolor": "#2a3f5f",
             "gridcolor": "white",
             "linecolor": "white",
             "minorgridcolor": "white",
             "startlinecolor": "#2a3f5f"
            },
            "type": "carpet"
           }
          ],
          "choropleth": [
           {
            "colorbar": {
             "outlinewidth": 0,
             "ticks": ""
            },
            "type": "choropleth"
           }
          ],
          "contour": [
           {
            "colorbar": {
             "outlinewidth": 0,
             "ticks": ""
            },
            "colorscale": [
             [
              0,
              "#0d0887"
             ],
             [
              0.1111111111111111,
              "#46039f"
             ],
             [
              0.2222222222222222,
              "#7201a8"
             ],
             [
              0.3333333333333333,
              "#9c179e"
             ],
             [
              0.4444444444444444,
              "#bd3786"
             ],
             [
              0.5555555555555556,
              "#d8576b"
             ],
             [
              0.6666666666666666,
              "#ed7953"
             ],
             [
              0.7777777777777778,
              "#fb9f3a"
             ],
             [
              0.8888888888888888,
              "#fdca26"
             ],
             [
              1,
              "#f0f921"
             ]
            ],
            "type": "contour"
           }
          ],
          "contourcarpet": [
           {
            "colorbar": {
             "outlinewidth": 0,
             "ticks": ""
            },
            "type": "contourcarpet"
           }
          ],
          "heatmap": [
           {
            "colorbar": {
             "outlinewidth": 0,
             "ticks": ""
            },
            "colorscale": [
             [
              0,
              "#0d0887"
             ],
             [
              0.1111111111111111,
              "#46039f"
             ],
             [
              0.2222222222222222,
              "#7201a8"
             ],
             [
              0.3333333333333333,
              "#9c179e"
             ],
             [
              0.4444444444444444,
              "#bd3786"
             ],
             [
              0.5555555555555556,
              "#d8576b"
             ],
             [
              0.6666666666666666,
              "#ed7953"
             ],
             [
              0.7777777777777778,
              "#fb9f3a"
             ],
             [
              0.8888888888888888,
              "#fdca26"
             ],
             [
              1,
              "#f0f921"
             ]
            ],
            "type": "heatmap"
           }
          ],
          "heatmapgl": [
           {
            "colorbar": {
             "outlinewidth": 0,
             "ticks": ""
            },
            "colorscale": [
             [
              0,
              "#0d0887"
             ],
             [
              0.1111111111111111,
              "#46039f"
             ],
             [
              0.2222222222222222,
              "#7201a8"
             ],
             [
              0.3333333333333333,
              "#9c179e"
             ],
             [
              0.4444444444444444,
              "#bd3786"
             ],
             [
              0.5555555555555556,
              "#d8576b"
             ],
             [
              0.6666666666666666,
              "#ed7953"
             ],
             [
              0.7777777777777778,
              "#fb9f3a"
             ],
             [
              0.8888888888888888,
              "#fdca26"
             ],
             [
              1,
              "#f0f921"
             ]
            ],
            "type": "heatmapgl"
           }
          ],
          "histogram": [
           {
            "marker": {
             "pattern": {
              "fillmode": "overlay",
              "size": 10,
              "solidity": 0.2
             }
            },
            "type": "histogram"
           }
          ],
          "histogram2d": [
           {
            "colorbar": {
             "outlinewidth": 0,
             "ticks": ""
            },
            "colorscale": [
             [
              0,
              "#0d0887"
             ],
             [
              0.1111111111111111,
              "#46039f"
             ],
             [
              0.2222222222222222,
              "#7201a8"
             ],
             [
              0.3333333333333333,
              "#9c179e"
             ],
             [
              0.4444444444444444,
              "#bd3786"
             ],
             [
              0.5555555555555556,
              "#d8576b"
             ],
             [
              0.6666666666666666,
              "#ed7953"
             ],
             [
              0.7777777777777778,
              "#fb9f3a"
             ],
             [
              0.8888888888888888,
              "#fdca26"
             ],
             [
              1,
              "#f0f921"
             ]
            ],
            "type": "histogram2d"
           }
          ],
          "histogram2dcontour": [
           {
            "colorbar": {
             "outlinewidth": 0,
             "ticks": ""
            },
            "colorscale": [
             [
              0,
              "#0d0887"
             ],
             [
              0.1111111111111111,
              "#46039f"
             ],
             [
              0.2222222222222222,
              "#7201a8"
             ],
             [
              0.3333333333333333,
              "#9c179e"
             ],
             [
              0.4444444444444444,
              "#bd3786"
             ],
             [
              0.5555555555555556,
              "#d8576b"
             ],
             [
              0.6666666666666666,
              "#ed7953"
             ],
             [
              0.7777777777777778,
              "#fb9f3a"
             ],
             [
              0.8888888888888888,
              "#fdca26"
             ],
             [
              1,
              "#f0f921"
             ]
            ],
            "type": "histogram2dcontour"
           }
          ],
          "mesh3d": [
           {
            "colorbar": {
             "outlinewidth": 0,
             "ticks": ""
            },
            "type": "mesh3d"
           }
          ],
          "parcoords": [
           {
            "line": {
             "colorbar": {
              "outlinewidth": 0,
              "ticks": ""
             }
            },
            "type": "parcoords"
           }
          ],
          "pie": [
           {
            "automargin": true,
            "type": "pie"
           }
          ],
          "scatter": [
           {
            "fillpattern": {
             "fillmode": "overlay",
             "size": 10,
             "solidity": 0.2
            },
            "type": "scatter"
           }
          ],
          "scatter3d": [
           {
            "line": {
             "colorbar": {
              "outlinewidth": 0,
              "ticks": ""
             }
            },
            "marker": {
             "colorbar": {
              "outlinewidth": 0,
              "ticks": ""
             }
            },
            "type": "scatter3d"
           }
          ],
          "scattercarpet": [
           {
            "marker": {
             "colorbar": {
              "outlinewidth": 0,
              "ticks": ""
             }
            },
            "type": "scattercarpet"
           }
          ],
          "scattergeo": [
           {
            "marker": {
             "colorbar": {
              "outlinewidth": 0,
              "ticks": ""
             }
            },
            "type": "scattergeo"
           }
          ],
          "scattergl": [
           {
            "marker": {
             "colorbar": {
              "outlinewidth": 0,
              "ticks": ""
             }
            },
            "type": "scattergl"
           }
          ],
          "scattermapbox": [
           {
            "marker": {
             "colorbar": {
              "outlinewidth": 0,
              "ticks": ""
             }
            },
            "type": "scattermapbox"
           }
          ],
          "scatterpolar": [
           {
            "marker": {
             "colorbar": {
              "outlinewidth": 0,
              "ticks": ""
             }
            },
            "type": "scatterpolar"
           }
          ],
          "scatterpolargl": [
           {
            "marker": {
             "colorbar": {
              "outlinewidth": 0,
              "ticks": ""
             }
            },
            "type": "scatterpolargl"
           }
          ],
          "scatterternary": [
           {
            "marker": {
             "colorbar": {
              "outlinewidth": 0,
              "ticks": ""
             }
            },
            "type": "scatterternary"
           }
          ],
          "surface": [
           {
            "colorbar": {
             "outlinewidth": 0,
             "ticks": ""
            },
            "colorscale": [
             [
              0,
              "#0d0887"
             ],
             [
              0.1111111111111111,
              "#46039f"
             ],
             [
              0.2222222222222222,
              "#7201a8"
             ],
             [
              0.3333333333333333,
              "#9c179e"
             ],
             [
              0.4444444444444444,
              "#bd3786"
             ],
             [
              0.5555555555555556,
              "#d8576b"
             ],
             [
              0.6666666666666666,
              "#ed7953"
             ],
             [
              0.7777777777777778,
              "#fb9f3a"
             ],
             [
              0.8888888888888888,
              "#fdca26"
             ],
             [
              1,
              "#f0f921"
             ]
            ],
            "type": "surface"
           }
          ],
          "table": [
           {
            "cells": {
             "fill": {
              "color": "#EBF0F8"
             },
             "line": {
              "color": "white"
             }
            },
            "header": {
             "fill": {
              "color": "#C8D4E3"
             },
             "line": {
              "color": "white"
             }
            },
            "type": "table"
           }
          ]
         },
         "layout": {
          "annotationdefaults": {
           "arrowcolor": "#2a3f5f",
           "arrowhead": 0,
           "arrowwidth": 1
          },
          "autotypenumbers": "strict",
          "coloraxis": {
           "colorbar": {
            "outlinewidth": 0,
            "ticks": ""
           }
          },
          "colorscale": {
           "diverging": [
            [
             0,
             "#8e0152"
            ],
            [
             0.1,
             "#c51b7d"
            ],
            [
             0.2,
             "#de77ae"
            ],
            [
             0.3,
             "#f1b6da"
            ],
            [
             0.4,
             "#fde0ef"
            ],
            [
             0.5,
             "#f7f7f7"
            ],
            [
             0.6,
             "#e6f5d0"
            ],
            [
             0.7,
             "#b8e186"
            ],
            [
             0.8,
             "#7fbc41"
            ],
            [
             0.9,
             "#4d9221"
            ],
            [
             1,
             "#276419"
            ]
           ],
           "sequential": [
            [
             0,
             "#0d0887"
            ],
            [
             0.1111111111111111,
             "#46039f"
            ],
            [
             0.2222222222222222,
             "#7201a8"
            ],
            [
             0.3333333333333333,
             "#9c179e"
            ],
            [
             0.4444444444444444,
             "#bd3786"
            ],
            [
             0.5555555555555556,
             "#d8576b"
            ],
            [
             0.6666666666666666,
             "#ed7953"
            ],
            [
             0.7777777777777778,
             "#fb9f3a"
            ],
            [
             0.8888888888888888,
             "#fdca26"
            ],
            [
             1,
             "#f0f921"
            ]
           ],
           "sequentialminus": [
            [
             0,
             "#0d0887"
            ],
            [
             0.1111111111111111,
             "#46039f"
            ],
            [
             0.2222222222222222,
             "#7201a8"
            ],
            [
             0.3333333333333333,
             "#9c179e"
            ],
            [
             0.4444444444444444,
             "#bd3786"
            ],
            [
             0.5555555555555556,
             "#d8576b"
            ],
            [
             0.6666666666666666,
             "#ed7953"
            ],
            [
             0.7777777777777778,
             "#fb9f3a"
            ],
            [
             0.8888888888888888,
             "#fdca26"
            ],
            [
             1,
             "#f0f921"
            ]
           ]
          },
          "colorway": [
           "#636efa",
           "#EF553B",
           "#00cc96",
           "#ab63fa",
           "#FFA15A",
           "#19d3f3",
           "#FF6692",
           "#B6E880",
           "#FF97FF",
           "#FECB52"
          ],
          "font": {
           "color": "#2a3f5f"
          },
          "geo": {
           "bgcolor": "white",
           "lakecolor": "white",
           "landcolor": "#E5ECF6",
           "showlakes": true,
           "showland": true,
           "subunitcolor": "white"
          },
          "hoverlabel": {
           "align": "left"
          },
          "hovermode": "closest",
          "mapbox": {
           "style": "light"
          },
          "paper_bgcolor": "white",
          "plot_bgcolor": "#E5ECF6",
          "polar": {
           "angularaxis": {
            "gridcolor": "white",
            "linecolor": "white",
            "ticks": ""
           },
           "bgcolor": "#E5ECF6",
           "radialaxis": {
            "gridcolor": "white",
            "linecolor": "white",
            "ticks": ""
           }
          },
          "scene": {
           "xaxis": {
            "backgroundcolor": "#E5ECF6",
            "gridcolor": "white",
            "gridwidth": 2,
            "linecolor": "white",
            "showbackground": true,
            "ticks": "",
            "zerolinecolor": "white"
           },
           "yaxis": {
            "backgroundcolor": "#E5ECF6",
            "gridcolor": "white",
            "gridwidth": 2,
            "linecolor": "white",
            "showbackground": true,
            "ticks": "",
            "zerolinecolor": "white"
           },
           "zaxis": {
            "backgroundcolor": "#E5ECF6",
            "gridcolor": "white",
            "gridwidth": 2,
            "linecolor": "white",
            "showbackground": true,
            "ticks": "",
            "zerolinecolor": "white"
           }
          },
          "shapedefaults": {
           "line": {
            "color": "#2a3f5f"
           }
          },
          "ternary": {
           "aaxis": {
            "gridcolor": "white",
            "linecolor": "white",
            "ticks": ""
           },
           "baxis": {
            "gridcolor": "white",
            "linecolor": "white",
            "ticks": ""
           },
           "bgcolor": "#E5ECF6",
           "caxis": {
            "gridcolor": "white",
            "linecolor": "white",
            "ticks": ""
           }
          },
          "title": {
           "x": 0.05
          },
          "xaxis": {
           "automargin": true,
           "gridcolor": "white",
           "linecolor": "white",
           "ticks": "",
           "title": {
            "standoff": 15
           },
           "zerolinecolor": "white",
           "zerolinewidth": 2
          },
          "yaxis": {
           "automargin": true,
           "gridcolor": "white",
           "linecolor": "white",
           "ticks": "",
           "title": {
            "standoff": 15
           },
           "zerolinecolor": "white",
           "zerolinewidth": 2
          }
         }
        },
        "title": {
         "text": "FIG 2: Comparison of Median Daily-active-hours across Thresholds for ALL Ids"
        },
        "xaxis": {
         "anchor": "y",
         "domain": [
          0,
          1
         ],
         "tickangle": -45,
         "title": {
          "text": "Date"
         }
        },
        "yaxis": {
         "anchor": "x",
         "domain": [
          0,
          1
         ],
         "title": {
          "text": "Median Daily Active Hours of ALL Ids"
         }
        }
       }
      }
     },
     "metadata": {},
     "output_type": "display_data"
    }
   ],
   "source": [
    "# Function that return active status\n",
    "def determine_active_level(steps, threshold):\n",
    "    # Less than threshold -> Inactive. Otherwise Active.\n",
    "    if steps < threshold:\n",
    "        return 'Inactive'\n",
    "    else:\n",
    "        return 'Active'\n",
    "\n",
    "\n",
    "# Function that restructures the dataframe for counting active hours per day\n",
    "def count_active_hours(df):\n",
    "    # Extract the date from ActivityHour\n",
    "    df['Date'] = pd.to_datetime(df['ActivityHour']).dt.date\n",
    "\n",
    "    # Keep rows where ActiveLevel is \"Active\"\n",
    "    df = df[df['ActiveLevel'] == 'Active']\n",
    "\n",
    "    # Use size() to count the number of \"active\"s grouping by 'Id' and 'Date'\n",
    "    df = df.groupby(['Id', 'Date']).size().reset_index()\n",
    "\n",
    "    # Rename the column names for plotting\n",
    "    df.columns = ['Id', 'Date', 'ActiveHours']\n",
    "\n",
    "    return df\n",
    "\n",
    "\n",
    "# Function that generate a dataframe for selected id\n",
    "def generate_dataframe_for_threshold(df, threshold_value, column_name):\n",
    "    # Create deep copy\n",
    "    df = df.copy()\n",
    "    \n",
    "    # Add a new column showing activity level\n",
    "    df['ActiveLevel'] = df['StepTotal'].apply(determine_active_level, threshold=threshold_value)\n",
    "    \n",
    "    # Count active hours \n",
    "    df = count_active_hours(df)\n",
    "    \n",
    "    # Add threshold column to each dataframe for identification\n",
    "    df['Threshold'] = column_name\n",
    "    \n",
    "    return df\n",
    "\n",
    "\n",
    "# Initialize an empty list for storing dataframes\n",
    "threshold_dataframes_all = []  # Contain all user ids\n",
    "\n",
    "# Run function for all threshold values and concatenate them after for loop\n",
    "for t in thresholds: \n",
    "    df_all = generate_dataframe_for_threshold(hourly_steps, t, str(t) + \" Steps\")\n",
    "    threshold_dataframes_all.append(df_all) \n",
    "df_active_level_all = pd.concat(threshold_dataframes_all)\n",
    "\n",
    "# Group by 'Date' and 'Threshold' to calculate the average ActiveHours per day across all users\n",
    "df_active_level_all = df_active_level_all.groupby(['Date', 'Threshold'])['ActiveHours'].median().reset_index()\n",
    "\n",
    "# Rename columns for clarity\n",
    "df_active_level_all.columns = ['Date', 'Threshold', 'MedianActiveHours']\n",
    "\n",
    "# Convert 'Date' to datetime for better plotting\n",
    "df_active_level_all['Date'] = pd.to_datetime(df_active_level_all['Date'])\n",
    "\n",
    "# Use int() as hours are usually measured in integers\n",
    "df_active_level_all['MedianActiveHours'] = df_active_level_all['MedianActiveHours'].astype(int)\n",
    "\n",
    "\n",
    "# Create an interactive box chart for checking the distribution of active hours\n",
    "fig1_threshold = px.box(df_active_level_all,  \n",
    "             x='Threshold',  # Add Threshold to the x-axis for comparison\n",
    "             y='MedianActiveHours', \n",
    "             title=f'FIG 1: Distribution of Daily-active-hours across Thresholds for ALL Ids',\n",
    "             labels={'ActiveHours': 'Number of Active Hours', 'Threshold': 'Inactivity Thresholds'}\n",
    ")\n",
    "\n",
    "\n",
    "# Create an interactive grouped bar chart for comparing across the dates by thresholds\n",
    "fig2_threshold = px.bar(\n",
    "    df_active_level_all, \n",
    "    x='Date', \n",
    "    y='MedianActiveHours', \n",
    "    color='Threshold',\n",
    "    barmode='group',\n",
    "    title='FIG 2: Comparison of Median Daily-active-hours across Thresholds for ALL Ids',\n",
    "    labels={\n",
    "        'Date': 'Date', \n",
    "        'MedianActiveHours': 'Median Active Hours Per Day',\n",
    "        'Threshold': 'Step Count Threshold'\n",
    "    }\n",
    ")\n",
    "\n",
    "# Customize the x-axis to show all dates clearly\n",
    "fig2_threshold.update_layout(\n",
    "    xaxis_tickangle=-45,\n",
    "    xaxis_title='Date',\n",
    "    yaxis_title='Median Daily Active Hours of ALL Ids',\n",
    "    legend_title='Threshold'\n",
    ")\n",
    "\n",
    "# Add a red horizontal line at y=10 to indicate the 10-hour inactivity threshold\n",
    "fig2_threshold.add_shape(\n",
    "    type=\"line\",\n",
    "    x0=df_active_level_all['Date'].min(), y0=10,\n",
    "    x1=df_active_level_all['Date'].max(), y1=10,\n",
    "    line=dict(color=\"red\", width=2, dash=\"dash\"),\n",
    ")\n",
    "\n",
    "\n",
    "# Display plots\n",
    "fig1_threshold.show()\n",
    "fig2_threshold.show()\n",
    "\n",
    "\n",
    "# Author: Hanchen WANG\n",
    "# Acknowledgment: Individual checkpoint 2 from Hanchen WANG\n",
    "# Detail: Visualization of impact from different thresholds values on number of active hours\n",
    "# Start date: 23/10/2024 - End date: 28/10/2024"
   ]
  },
  {
   "cell_type": "markdown",
   "metadata": {},
   "source": [
    "According to two visualizations above, we found that:\n",
    "-   General Trend: As the threshold increases, the median number of active hours tends to decrease slightly. On average, the 103 and 141 thresholds have a higher amount of active hours. \n",
    "\n",
    "-   Median Shift: The median number of active hours decreases slightly as the step threshold increases, indicating that fewer hours are considered \"active\" as the required step count per hour rises.\n",
    "-   Variability: Lower thresholds (103, 141, 180 and 208) have more variability in the data, while higher thresholds (238, 277 and 312) show a more compact distribution.\n",
    "\n",
    "However, this is not accurate enough since we did not analyse the sleeping time of the actual participants in the datasets but randomly guessing. Therefore, a more accurate method of determining active-hour threshold will be introduced in the following sections.\n"
   ]
  },
  {
   "cell_type": "markdown",
   "metadata": {},
   "source": [
    "## Methodology\n",
    "This analysis uses the highly sophisticated and widely used programming software - Python. Jupyter Notebook is used to document the comments as part of literate programming, and the code is used to conduct the analysis and generate the visualisations. GitHub is used as a repository to store the code and the wiki page that documents each individual’s contributions to the group project and the group meeting minutes. "
   ]
  },
  {
   "cell_type": "markdown",
   "metadata": {},
   "source": [
    "#### Summary\n",
    "This methodology outlines a systematic approach to analyzing adherence and activity patterns in wearable device data. The analysis involves filtering non-adherent users, identifying sleep periods, defining activity thresholds, calculating daily active hours, conducting minute-level analysis, and performing hypothesis testing. The steps taken are as follows:\n",
    "\n",
    "1.\tData Collection and Preprocessing: Convert timestamps, extract date and hour components, and organize data for daily and hourly analysis.\n",
    "2.\tSleep Analysis: Define sleep hours based on step thresholds and calculate the most common sleep start and end times.\n",
    "3.\tAdherence Identification: Identify and exclude users who likely did not adhere to wearing the device, based on unrealistic sleep durations.\n",
    "4.\tActivity Threshold Calculation: Define an hourly activity threshold using the daily step goal and waking hours.\n",
    "5.\tDaily Active Hours Calculation: Calculate total daily active hours per user, summarizing key activity statistics.\n",
    "6.\tMinute-Level Analysis: Conduct detailed adherence analysis at the minute level with a calculated threshold.\n",
    "7.\tComparative Visualization and Hypothesis Testing: Visualize activity data, test normality, and perform hypothesis testing to evaluate adherence."
   ]
  },
  {
   "cell_type": "code",
   "execution_count": 75,
   "metadata": {
    "vscode": {
     "languageId": "ruby"
    }
   },
   "outputs": [],
   "source": [
    "def find_sleep_hours_all_users(hourly_steps, step_threshold=100):\n",
    "    \"\"\"\n",
    "    Calculate the most common sleep duration for each user, based on the longest consecutive low-step period each day,\n",
    "    and return the start and end times of the sleep period.\n",
    "\n",
    "    Parameters:\n",
    "    hourly_steps (DataFrame): DataFrame containing hourly step counts for multiple users and days with columns 'Id', 'ActivityHour', and 'StepTotal'.\n",
    "    step_threshold (int): Threshold below which an hour is considered as part of the sleep period.\n",
    "\n",
    "    Returns:\n",
    "    DataFrame: A DataFrame with each user's ID, most common sleep duration, start, and end times of sleep.\n",
    "    \"\"\"\n",
    "    # Extract hour and date from ActivityHour\n",
    "    hourly_steps['Hour'] = hourly_steps['ActivityHour'].dt.hour\n",
    "    hourly_steps['Date'] = hourly_steps['ActivityHour'].dt.date\n",
    "\n",
    "    # Mark each hour as a sleep hour if StepTotal is below the threshold\n",
    "    hourly_steps['is_sleep_hour'] = hourly_steps['StepTotal'] <= step_threshold\n",
    "\n",
    "    # Identify consecutive low-step hours by grouping with a unique ID for each period of sleep hours\n",
    "    hourly_steps['sleep_period_id'] = (hourly_steps['is_sleep_hour'] != hourly_steps['is_sleep_hour'].shift()).cumsum()\n",
    "\n",
    "    # Create a list to store results\n",
    "    results = []\n",
    "\n",
    "    # Loop over each user in the DataFrame\n",
    "    for user_id, user_data in hourly_steps.groupby('Id'):\n",
    "        # Filter only for sleep hours (StepTotal below threshold)\n",
    "        sleep_periods = user_data[user_data['is_sleep_hour']].groupby(['Date', 'sleep_period_id']).agg(\n",
    "            start_time=('ActivityHour', 'first'),\n",
    "            end_time=('ActivityHour', 'last'),\n",
    "            sleep_hours=('ActivityHour', 'size')\n",
    "        ).reset_index()\n",
    "\n",
    "        # Find the longest sleep period each day for the user\n",
    "        longest_daily_sleep = sleep_periods.loc[sleep_periods.groupby('Date')['sleep_hours'].idxmax()].reset_index(drop=True)\n",
    "\n",
    "        # Calculate the most common sleep duration for this user\n",
    "        most_common_sleep_hours = longest_daily_sleep['sleep_hours'].mode()[0] \n",
    "        most_common_start_time = longest_daily_sleep['start_time'].mode()[0]\n",
    "        most_common_end_time = longest_daily_sleep['end_time'].mode()[0]\n",
    "\n",
    "        # Append results for the user\n",
    "        results.append({\n",
    "            'Id': user_id,\n",
    "            'most_common_sleep_hours': most_common_sleep_hours,\n",
    "            'most_common_start_time': most_common_start_time,\n",
    "            'most_common_end_time': most_common_end_time\n",
    "        })\n",
    "\n",
    "    # Convert results to a DataFrame\n",
    "    sleep_hours_df = pd.DataFrame(results)\n",
    "\n",
    "    return sleep_hours_df\n",
    "\n",
    "all_users_sleep_hours = find_sleep_hours_all_users(hourly_steps)\n",
    "\n",
    "\n",
    "\n",
    "# Author: Lincoln Le\n",
    "# Acknowledgment: Collaboration with ChatGPT for insights on implementing sleep hour detection and optimization techniques\n",
    "# Details of contribution: Developed an algorithm to calculate the most common sleep duration for each user \n",
    "#                          by analyzing longest consecutive low-step periods daily, with guidance from ChatGPT \n",
    "#                          on structuring efficient grouping and aggregation. Adjusted to calculate sleep start and end times\n",
    "#                          to better capture sleep patterns across users.\n",
    "# Start date: 28/10/2024 - End date: 28/10/2024"
   ]
  },
  {
   "cell_type": "markdown",
   "metadata": {
    "id": "Y3suyTKF7v4G"
   },
   "source": [
    "#### Finding the most common sleep time.\n",
    "\n",
    "The goal of this step is to identify sleep periods for each user by analyzing consecutive low step hours. We aim to calculate each user's most common sleep duration, along with typical sleep start and end times, to distinguish between sleep and potential non adherance.\n",
    "\n",
    "\n",
    "1. **Step Threshold Definition**: Hours with step counts ≤ 100 were marked as \"sleep hours\" to distinguish low-activity periods that likely indicate sleep. \n",
    "- For example, a person getting up late at night should not count as active hours!\n",
    "\n",
    "2. **Consecutive Sleep Period Identification**: Using a unique `sleep_period_id`, consecutive sleep hours were grouped into distinct sleep periods, with each period's start time and end time recorded.\n",
    "\n",
    "3. **Daily Longest Sleep Block**: For each user, the longest sleep period per day was selected, assuming this block, time frame, represented the primary sleeping hours.\n",
    "\n",
    "4. **Most Common Sleep Pattern Calculation**:\n",
    "   - The mode was used to find the most common occurance sleeping time, thus describing the typical sleeping time frame. \n",
    "   - The most frequent start and end times across days were identified to approximate each user's typical sleep schedule.\n",
    "   - The mean could have also been used. But this would have introduced biases from outliers.\n",
    "\n",
    "5. **Results**: This process produced each user's **most common sleep duration** and **sleep start and end times**, forming a foundation for identifying adherence by distinguishing genuine sleep from non-wear time.\n",
    "\n"
   ]
  },
  {
   "cell_type": "code",
   "execution_count": 76,
   "metadata": {},
   "outputs": [],
   "source": [
    "def find_sleep_hours_all_users(hourly_steps, step_threshold=100):\n",
    "    \"\"\"\n",
    "    Calculate the most common sleep duration for each user, based on the longest consecutive low-step period each day,\n",
    "    and return the start and end times of the sleep period.\n",
    "\n",
    "    Parameters:\n",
    "    hourly_steps (DataFrame): DataFrame containing hourly step counts for multiple users and days with columns 'Id', 'ActivityHour', and 'StepTotal'.\n",
    "    step_threshold (int): Threshold below which an hour is considered as part of the sleep period.\n",
    "\n",
    "    Returns:\n",
    "    DataFrame: A DataFrame with each user's ID, most common sleep duration, start, and end times of sleep.\n",
    "    \"\"\"\n",
    "    # Extract hour and date from ActivityHour\n",
    "    hourly_steps['Hour'] = hourly_steps['ActivityHour'].dt.hour\n",
    "    hourly_steps['Date'] = hourly_steps['ActivityHour'].dt.date\n",
    "\n",
    "    # Mark each hour as a sleep hour if StepTotal is below the threshold\n",
    "    hourly_steps['is_sleep_hour'] = hourly_steps['StepTotal'] <= step_threshold\n",
    "\n",
    "    # Identify consecutive low-step hours by grouping with a unique ID for each period of sleep hours\n",
    "    hourly_steps['sleep_period_id'] = (hourly_steps['is_sleep_hour'] != hourly_steps['is_sleep_hour'].shift()).cumsum()\n",
    "\n",
    "    # Create a list to store results\n",
    "    results = []\n",
    "\n",
    "    # Loop over each user in the DataFrame\n",
    "    for user_id, user_data in hourly_steps.groupby('Id'):\n",
    "        # Filter only for sleep hours (StepTotal below threshold)\n",
    "        sleep_periods = user_data[user_data['is_sleep_hour']].groupby(['Date', 'sleep_period_id']).agg(\n",
    "            start_time=('ActivityHour', 'first'),\n",
    "            end_time=('ActivityHour', 'last'),\n",
    "            sleep_hours=('ActivityHour', 'size')\n",
    "        ).reset_index()\n",
    "\n",
    "        # Find the longest sleep period each day for the user\n",
    "        longest_daily_sleep = sleep_periods.loc[sleep_periods.groupby('Date')['sleep_hours'].idxmax()].reset_index(drop=True)\n",
    "\n",
    "        # Calculate the most common sleep duration for this user\n",
    "        most_common_sleep_hours = longest_daily_sleep['sleep_hours'].mode()[0] \n",
    "        most_common_start_time = longest_daily_sleep['start_time'].mode()[0]\n",
    "        most_common_end_time = longest_daily_sleep['end_time'].mode()[0]\n",
    "\n",
    "        # Append results for the user\n",
    "        results.append({\n",
    "            'Id': user_id,\n",
    "            'most_common_sleep_hours': most_common_sleep_hours,\n",
    "            'most_common_start_time': most_common_start_time,\n",
    "            'most_common_end_time': most_common_end_time\n",
    "        })\n",
    "\n",
    "    # Convert results to a DataFrame\n",
    "    sleep_hours_df = pd.DataFrame(results)\n",
    "\n",
    "    return sleep_hours_df\n",
    "\n",
    "all_users_sleep_hours = find_sleep_hours_all_users(hourly_steps)\n",
    "\n",
    "\n",
    "# Author: Lincoln Le\n",
    "# Acknowledgment: Collaboration with ChatGPT for insights on implementing sleep hour detection and optimization techniques\n",
    "# Details of contribution: Developed an algorithm to calculate the most common sleep duration for each user \n",
    "#                          by analyzing longest consecutive low-step periods daily, with guidance from ChatGPT \n",
    "#                          on structuring efficient grouping and aggregation. Adjusted to calculate sleep start and end times\n",
    "#                          to better capture sleep patterns across users.\n",
    "# Start date: 28/10/2024 - End date: 28/10/2024"
   ]
  },
  {
   "cell_type": "code",
   "execution_count": 77,
   "metadata": {},
   "outputs": [
    {
     "name": "stdout",
     "output_type": "stream",
     "text": [
      "Non-adhering users (IDs): [1844505072, 1927972279, 4020332650, 6775888955, 8792009665, 4057192912]\n",
      "\n",
      "Filtered data with adhering users:\n",
      "            Id  most_common_sleep_hours most_common_start_time  \\\n",
      "0   1503960366                        7    2016-04-12 03:00:00   \n",
      "1   1624580081                        8    2016-04-12 00:00:00   \n",
      "2   1644430081                        8    2016-04-12 00:00:00   \n",
      "3   2022484408                        7    2016-04-12 00:00:00   \n",
      "4   2026352035                        6    2016-04-12 00:00:00   \n",
      "5   2320127002                        6    2016-04-12 00:00:00   \n",
      "6   2347167796                        7    2016-04-12 00:00:00   \n",
      "7   2873212765                        5    2016-04-12 00:00:00   \n",
      "8   3372868164                        7    2016-04-12 00:00:00   \n",
      "9   3977333714                        9    2016-04-12 01:00:00   \n",
      "10  4057192912                        7    2016-04-12 00:00:00   \n",
      "11  4319703577                        8    2016-04-12 00:00:00   \n",
      "12  4388161847                        5    2016-04-12 00:00:00   \n",
      "13  4445114986                       12    2016-04-12 00:00:00   \n",
      "14  4558609924                        9    2016-04-12 00:00:00   \n",
      "15  4702921684                        6    2016-04-12 00:00:00   \n",
      "16  5553957443                        6    2016-04-12 00:00:00   \n",
      "17  5577150313                        6    2016-04-12 00:00:00   \n",
      "18  6117666160                        6    2016-04-12 00:00:00   \n",
      "19  6290855005                        6    2016-04-12 16:00:00   \n",
      "20  6962181067                        7    2016-04-12 00:00:00   \n",
      "21  7007744171                        6    2016-04-12 00:00:00   \n",
      "22  7086361926                        7    2016-04-12 00:00:00   \n",
      "23  8053475328                        8    2016-04-12 03:00:00   \n",
      "24  8253242879                       12    2016-04-12 00:00:00   \n",
      "25  8378563200                        4    2016-04-12 00:00:00   \n",
      "26  8583815059                        9    2016-04-12 00:00:00   \n",
      "27  8877689391                        6    2016-04-12 00:00:00   \n",
      "\n",
      "   most_common_end_time  \n",
      "0   2016-04-12 07:00:00  \n",
      "1   2016-04-12 08:00:00  \n",
      "2   2016-04-12 07:00:00  \n",
      "3   2016-04-12 06:00:00  \n",
      "4   2016-04-12 05:00:00  \n",
      "5   2016-04-12 06:00:00  \n",
      "6   2016-04-12 06:00:00  \n",
      "7   2016-04-12 04:00:00  \n",
      "8   2016-04-12 07:00:00  \n",
      "9   2016-04-12 11:00:00  \n",
      "10  2016-04-12 02:00:00  \n",
      "11  2016-04-12 23:00:00  \n",
      "12  2016-04-12 23:00:00  \n",
      "13  2016-04-12 10:00:00  \n",
      "14  2016-04-12 05:00:00  \n",
      "15  2016-04-12 05:00:00  \n",
      "16  2016-04-12 05:00:00  \n",
      "17  2016-04-12 05:00:00  \n",
      "18  2016-04-12 23:00:00  \n",
      "19  2016-04-12 23:00:00  \n",
      "20  2016-04-12 06:00:00  \n",
      "21  2016-04-12 05:00:00  \n",
      "22  2016-04-12 06:00:00  \n",
      "23  2016-04-12 10:00:00  \n",
      "24  2016-04-12 09:00:00  \n",
      "25  2016-04-12 03:00:00  \n",
      "26  2016-04-12 11:00:00  \n",
      "27  2016-04-12 05:00:00  \n"
     ]
    }
   ],
   "source": [
    "# Identify users with most_common_sleep_hours equal to 24\n",
    "non_adhering_users = all_users_sleep_hours[all_users_sleep_hours['most_common_sleep_hours'] == 24]['Id'].tolist()\n",
    "# Add the user that only have 4 days of data to the non_adhering_user list\n",
    "non_adhering_users.append(4057192912)\n",
    "# Filter the dataset to exclude non-adhering users\n",
    "adhering_users = all_users_sleep_hours[all_users_sleep_hours['most_common_sleep_hours'] != 24].reset_index(drop=True)\n",
    "\n",
    "# Display the list of non-adhering users' IDs and the filtered adhering users' data\n",
    "print(\"Non-adhering users (IDs):\", non_adhering_users)\n",
    "print(\"\\nFiltered data with adhering users:\")\n",
    "print(adhering_users)\n",
    "\n",
    "\n",
    "# Author: Lincoln Le\n",
    "# Details: Identified and filtered out non-adhering users by excluding entries with a 24-hour sleep duration.\n",
    "#          Enhanced dataset quality by focusing on users with realistic adherence patterns.\n",
    "# Start date: 28/10/2024 - End date: 28/10/2024"
   ]
  },
  {
   "cell_type": "markdown",
   "metadata": {},
   "source": [
    "### Addressing Adherence Issues:\n",
    "  - Detecting **24 hours of continuous low-step counts** likely indicates that the user did not adhere to wearing the device consistently. This scenario suggests the device was either not worn during waking hours or left idle, leading to a false indication of constant sleep.\n",
    "  - By **filtering out users with 24-hour sleep records**, we address this adherence issue directly, ensuring the dataset reflects true patterns of wear and actual user activity. This filtering step improves the validity of our analysis, allowing us to focus only on users who adhere to wearing the device regularly.\n",
    "  - Removing these non-adherent cases strengthens the reliability of subsequent calculations, like daily active hours, by eliminating noise from users with unrealistic sleep durations.\n"
   ]
  },
  {
   "cell_type": "code",
   "execution_count": 78,
   "metadata": {},
   "outputs": [
    {
     "name": "stdout",
     "output_type": "stream",
     "text": [
      "Median sleep start hour across all users: 0.0\n",
      "Median sleep end hour across all users: 7.0\n"
     ]
    }
   ],
   "source": [
    "# Convert `most_common_start_time` and `most_common_end_time` to hours\n",
    "all_users_sleep_hours['start_hour'] = pd.to_datetime(all_users_sleep_hours['most_common_start_time']).dt.hour\n",
    "all_users_sleep_hours['end_hour'] = pd.to_datetime(all_users_sleep_hours['most_common_end_time']).dt.hour\n",
    "\n",
    "# Find the median start and end hours\n",
    "median_start_hour = all_users_sleep_hours['start_hour'].median()\n",
    "median_end_hour = all_users_sleep_hours['end_hour'].median()\n",
    "\n",
    "# Display the results\n",
    "print(\"Median sleep start hour across all users:\", median_start_hour)\n",
    "print(\"Median sleep end hour across all users:\", median_end_hour)\n",
    "\n",
    "# Author: Lincoln Le\n",
    "# Details of contribution: Converted `most_common_start_time` and `most_common_end_time` to hours, then calculated the median start and end hours.\n",
    "# Start date: 28/10/2024 - End date: 28/10/2024"
   ]
  },
  {
   "cell_type": "markdown",
   "metadata": {},
   "source": [
    "### Rationale for Calculating Median Sleep Start and End Hours\n",
    "\n",
    "**Continuous Data Nature**:\n",
    "   - Sleep start and end times are continuous variables, ranging from 0 to 23 hours. Using the **median** helps identify the midpoint of this range, representing a typical sleep start or end time that accounts for users’ varying schedules.\n",
    "\n",
    "**Handling Outliers**:\n",
    "   - The median is resilient to outliers, such as users with exceptionally early or late sleep schedules. Unlike the mean, the median provides a central value less impacted by these extremes, giving a more accurate reflection of the general population’s sleep habits.\n",
    "\n",
    "**Diverse Sleep Patterns**:\n",
    "   - With users having diverse sleep routines, the **median** better captures the “typical” behavior. While the mode might indicate the most common sleep hour, it may not truly represent the central tendency if users have varied schedules. For example, if a few users consistently sleep at 10 PM, 10 PM could become the mode, even if the majority sleep between 9 PM and midnight. The median, in this case, provides a balanced view across all users."
   ]
  },
  {
   "cell_type": "code",
   "execution_count": 79,
   "metadata": {},
   "outputs": [
    {
     "data": {
      "image/png": "[encoded data removed]",
      "text/plain": [
       "<Figure size 1200x600 with 1 Axes>"
      ]
     },
     "metadata": {},
     "output_type": "display_data"
    }
   ],
   "source": [
    "# Plot distribution of the most common sleep hours among adhering users\n",
    "plt.figure(figsize=(12, 6))\n",
    "sns.histplot(adhering_users['most_common_sleep_hours'], bins=10, kde=True, color='coral')\n",
    "\n",
    "# Customize the plot\n",
    "plt.xlabel('Most Common Sleep Hours')\n",
    "plt.ylabel('Frequency')\n",
    "plt.title('Figure 3: Distribution of Most Common Sleep Hours Among Adhering Users')\n",
    "plt.tight_layout()\n",
    "plt.show()\n",
    "\n",
    "\n",
    "# Author: Lincoln Le\n",
    "# Details of contribution: Plotted the distribution of the most common sleep hours among adhering users, using a histogram with KDE for detailed distribution insights.\n",
    "# Start date: 28/10/2024 - End date: 28/10/2024"
   ]
  },
  {
   "cell_type": "markdown",
   "metadata": {
    "id": "Urj6Jmwc7sqR"
   },
   "source": [
    "### Distribution of Most Common Sleep Hours Among Adhering Users\n",
    "\n",
    "This histogram illustrates the distribution of the **most common sleep durations** for users who adhered to wearing the device.\n",
    "\n",
    "- **X-Axis (Most Common Sleep Hours)**: Represents the typical sleep duration in hours across different users.\n",
    "- **Y-Axis (Frequency)**: Shows the number of users who have a specific most common sleep duration.\n",
    "\n",
    "#### Key Observations\n",
    "\n",
    "1. **Peak Sleep Duration**:\n",
    "   - The highest frequency is observed around **6 to 7 hours**, indicating that the majority of users typically sleep within this range. This suggests that 6-7 hours of sleep is the most common sleep duration among adhering users.\n",
    "\n",
    "2. **Range of Sleep Durations**:\n",
    "   - Sleep durations among users span from **4 to 12 hours**. Fewer users have extreme sleep durations (e.g., 4 hours or 12 hours), suggesting these are less representative of the general sleep behavior in the group.\n",
    "\n",
    "3. **Right-Skewed Distribution**:\n",
    "   - The distribution appears to be **right-skewed**, with more users clustered around the lower sleep durations (6-8 hours) and fewer at the higher durations. This skewness may indicate that shorter sleep durations are more typical within this population.\n",
    "\n",
    "4. **Kernel Density Estimate (KDE)**:\n",
    "   - The KDE line (smooth curve) shows the estimated probability density for sleep durations. Its peak aligns with the highest bar, confirming that 6-7 hours is the most common sleep duration.\n",
    "\n",
    "#### Importance in Report\n",
    "This distribution highlights general sleep patterns in the user base, with most adhering users getting around 6-7 hours of sleep. Understanding these patterns is crucial for distinguishing typical sleep behavior from outliers and identifying adherence-related issues in further analyses."
   ]
  },
  {
   "cell_type": "code",
   "execution_count": 80,
   "metadata": {},
   "outputs": [],
   "source": [
    "# Filter out non-adhering users from each dataset\n",
    "daily_steps_filtered = daily_steps[~daily_steps['Id'].isin(non_adhering_users)]\n",
    "hourly_steps_filtered = hourly_steps[~hourly_steps['Id'].isin(non_adhering_users)]\n",
    "minute_steps_filtered = minute_steps[~minute_steps['Id'].isin(non_adhering_users)]\n",
    "\n",
    "# Author: Lincoln Le\n",
    "# Details of contribution: Filter Data\n",
    "# Start date: 28/10/2024 - End date: 28/10/2024\n"
   ]
  },
  {
   "cell_type": "markdown",
   "metadata": {},
   "source": [
    "### Results of Sleep Analysis and Adherence Filtering\n",
    "\n",
    "After conducting the sleep analysis, we identified and filtered out users with **24 hours of recorded sleep**, which indicated likely non-adherence to wearing the device. The presence of continuous low-step counts suggested these users may not have been actively wearing the device during waking hours, resulting in artificially high sleep durations.\n",
    "\n",
    "**Initial Dataset**:\n",
    "- **Total Users**: 32\n",
    "\n",
    "**Adherence Filtering Results**:\n",
    "- **Non-Adhering Users Removed**: 5 users with `most_common_sleep_hours` of 24\n",
    "- **Remaining Adhering Users**: 27 users\n",
    "\n",
    "**Summary of Filtered Data**:\n",
    "Each adhering user’s **most common sleep duration**, **typical start time**, and **end time** were calculated based on their daily longest periods of low activity. This provides insights into typical sleep patterns while ensuring the dataset reflects realistic adherence.\n",
    "\n",
    "**Example Data**:\n",
    "For adhering users, sleep durations range from 4 to 12 hours, with varied start and end times. This variety in sleep patterns highlights individual differences, reinforcing the need to filter out non-adherent data for a more accurate analysis.\n",
    "\n",
    "By removing non-adhering cases, this filtering step enhances the overall reliability of subsequent analyses on active hours, ensuring that the dataset better reflects actual user behavior."
   ]
  },
  {
   "cell_type": "code",
   "execution_count": 81,
   "metadata": {},
   "outputs": [],
   "source": [
    "minute_threshold = 5000/((24-7)*60) # Calculate the minute threshold\n",
    "\n",
    "# Melt the DataFrame to a long format where each row represents a unique minute\n",
    "minute_steps_long = minute_steps_filtered.melt(\n",
    "    id_vars=['Id', 'ActivityHour'],\n",
    "    value_vars=[f'Steps{str(i).zfill(2)}' for i in range(60)],\n",
    "    var_name='Minute',\n",
    "    value_name='StepTotal'\n",
    ")\n",
    "\n",
    "# Extract minute information and convert it to integer\n",
    "minute_steps_long['Minute'] = minute_steps_long['Minute'].str.extract('(\\d+)').astype(int)\n",
    "\n",
    "# Create a complete timestamp by adding the minute offset to `ActivityHour`\n",
    "minute_steps_long['Timestamp'] = minute_steps_long['ActivityHour'] + pd.to_timedelta(minute_steps_long['Minute'], unit='m')\n",
    "\n",
    "# Sort the data by `Id` and `Timestamp`\n",
    "minute_steps_long = minute_steps_long.sort_values(['Id', 'Timestamp']).reset_index(drop=True)\n",
    "\n",
    "# Create a boolean column to indicate if the minute meets the activity threshold\n",
    "minute_steps_long['is_active_minute'] = minute_steps_long['StepTotal'] >= minute_threshold\n",
    "\n",
    "# Extract the date from Timestamp\n",
    "minute_steps_long['Date'] = minute_steps_long['Timestamp'].dt.date\n",
    "\n",
    "# Calculate inactive minutes per day (where is_active_minute is False) for each user\n",
    "daily_active_minute = minute_steps_long.groupby(['Id', 'Date']).apply(\n",
    "    lambda x: (x['is_active_minute'] == True).sum()\n",
    ").reset_index(name='active_minutes')\n",
    "\n",
    "# Convert inactive minutes to inactive hours per day\n",
    "daily_active_minute['active_hours'] = daily_active_minute['active_minutes'] / 60\n",
    "\n",
    "# Gathering the stats for the sample population\n",
    "person_minute_stats = daily_active_minute.groupby('Id').agg(\n",
    "    mean_active_hours=('active_hours', 'mean'),\n",
    "    std_active_hours=('active_hours', 'std'),\n",
    "    max_active_hours=('active_hours', 'max'),\n",
    "    min_active_hours=('active_hours', 'min'),\n",
    "    median_steps=('active_minutes', 'median')  # Median of daily active minutes\n",
    ").reset_index()\n",
    "\n",
    "# Author: Lincoln Le\n",
    "# Acknowledgment: Collaboration with ChatGPT for activity threshold calculation and minute-level data transformation\n",
    "# Details of contribution: Calculated an activity threshold for minute data, transformed `minute_steps` data into a long format,\n",
    "#                          created active minute indicators, and computed daily active hours and summary statistics.\n",
    "# Start date: 28/10/2024 - End date: 28/10/2024"
   ]
  },
  {
   "cell_type": "markdown",
   "metadata": {},
   "source": [
    "### Minute-Level Activity Analysis\n",
    "\n",
    "The purpose of this analysis is to assess user activity at a granular, minute-by-minute level. This approach enables a detailed view of adherence by identifying active versus inactive minutes and summarizing daily active hours for each user.\n",
    "\n",
    "1. **Minute-Level Activity Threshold**:\n",
    "   - An **activity threshold** was calculated to determine active minutes based on the daily step goal. Given a target of 5,000 steps over 17 waking hours, the per-minute activity threshold was set as: $\\frac{5000}{(24 - 7) \\times 60} $\n",
    "   - This threshold was used to classify each minute as active or inactive.\n",
    "\n",
    "2. **Reshaping Data to Minute-Level**:\n",
    "   - The dataset was **melted** from wide format to long format, transforming each minute of the hour into a separate row for each user. This allowed for individual minute-level analysis, creating a structure where each row represents a unique minute.\n",
    "\n",
    "3. **Timestamp Creation**:\n",
    "   - A complete **timestamp** was generated for each minute by adding the minute offset to the `ActivityHour`. This provided an accurate minute-by-minute timeline for activity tracking.\n",
    "\n",
    "4. **Activity Classification**:\n",
    "   - A boolean column, `is_active_minute`, was created to mark each minute as active if the `StepTotal` for that minute met or exceeded the threshold. This classification allowed for precise tracking of active versus inactive periods.\n",
    "\n",
    "5. **Daily Summation of Active Minutes**:\n",
    "   - For each user, active minutes were **summed per day** to calculate the total number of active minutes. This daily count was then converted to **active hours** for consistency with hourly-level summaries.\n",
    "\n",
    "6. **Statistical Summary of Active Hours**:\n",
    "   - The daily active hours data was aggregated for each user to produce summary statistics, including:\n",
    "     - **Mean Active Hours**: Average daily active hours.\n",
    "     - **Standard Deviation of Active Hours**: Variability in daily active hours.\n",
    "     - **Maximum and Minimum Active Hours**: Range of daily active hours.\n",
    "     - **Median Active Minutes**: The median of daily active minutes, providing insight into typical daily activity levels.\n",
    "\n",
    "#### Importance of Minute-Level Analysis\n",
    "\n",
    "This minute-level analysis provides a detailed view of user activity patterns, allowing for accurate adherence assessment. By examining active minutes instead of only hourly summaries, we capture short bursts of activity that might be missed in hourly aggregations. The statistical summary for each user gives insights into individual activity consistency and adherence to the daily step goal.\n",
    "\n",
    "This detailed approach ensures that adherence and activity levels are evaluated accurately, supporting more reliable insights into user behavior."
   ]
  },
  {
   "cell_type": "code",
   "execution_count": 82,
   "metadata": {},
   "outputs": [
    {
     "name": "stdout",
     "output_type": "stream",
     "text": [
      "User Activity Hours Analysis Summary:\n",
      "            Id  average_active_hours  max_active_hours  min_active_hours\n",
      "0   1503960366              9.400000                14                 6\n",
      "1   1624580081              3.870968                 7                 0\n",
      "2   1644430081              6.766667                14                 1\n",
      "3   2022484408              9.741935                13                 4\n",
      "4   2026352035              6.548387                17                 0\n",
      "5   2320127002              7.064516                15                 1\n",
      "6   2347167796              7.222222                13                 0\n",
      "7   2873212765              7.838710                12                 1\n",
      "8   3372868164              8.550000                11                 3\n",
      "9   3977333714              8.068966                11                 4\n",
      "10  4319703577              7.032258                13                 0\n",
      "11  4388161847              9.580645                14                 0\n",
      "12  4445114986              5.645161                11                 0\n",
      "13  4558609924              8.483871                12                 4\n",
      "14  4702921684              8.354839                14                 0\n",
      "15  5553957443              7.225806                13                 1\n",
      "16  5577150313              7.200000                12                 0\n",
      "17  6117666160              8.214286                15                 0\n",
      "18  6290855005              7.035714                14                 0\n",
      "19  6962181067              8.258065                12                 0\n",
      "20  7007744171              9.000000                14                 0\n",
      "21  7086361926              6.225806                13                 0\n",
      "22  8053475328              6.709677                11                 2\n",
      "23  8253242879              4.388889                 8                 1\n",
      "24  8378563200              8.161290                12                 1\n",
      "25  8583815059              4.633333                10                 0\n",
      "26  8877689391             12.193548                17                 5\n"
     ]
    }
   ],
   "source": [
    "def activity_hours_analysis(hourly_steps, daily_step_goal=5000, waking_hours=17):\n",
    "    \"\"\"\n",
    "    Analyze activity hours in hourly steps data, with a threshold based on step goal divided by waking hours.\n",
    "\n",
    "    Parameters:\n",
    "    hourly_steps (DataFrame): DataFrame with 'Id', 'ActivityHour', and 'StepTotal' columns.\n",
    "    daily_step_goal (int): Target step count for the day, default is 5000.\n",
    "    waking_hours (int): Number of hours a user is expected to be awake, default is 24 - 7 = 17.\n",
    "\n",
    "    Returns:\n",
    "    DataFrame: Summary of activity hours per user with statistics.\n",
    "    \"\"\"\n",
    "    #Calculate the hourly activity threshold\n",
    "    activity_threshold = daily_step_goal / waking_hours\n",
    "\n",
    "    #Mark each hour as active if StepTotal meets or exceeds the threshold\n",
    "    hourly_steps['ActivityHour'] = pd.to_datetime(hourly_steps['ActivityHour'])\n",
    "    hourly_steps['Date'] = hourly_steps['ActivityHour'].dt.date\n",
    "    hourly_steps['is_active_hour'] = hourly_steps['StepTotal'] >= activity_threshold\n",
    "\n",
    "    # Calculate total active hours per day for each user\n",
    "    daily_active_hours = hourly_steps.groupby(['Id', 'Date'])['is_active_hour'].sum().reset_index(name='active_hours')\n",
    "\n",
    "    #Calculate summary statistics for each user\n",
    "    user_activity_summary = daily_active_hours.groupby('Id').agg(\n",
    "        average_active_hours=('active_hours', 'mean'),\n",
    "        max_active_hours=('active_hours', 'max'),\n",
    "        min_active_hours=('active_hours', 'min')\n",
    "    ).reset_index()\n",
    "\n",
    "    return user_activity_summary\n",
    "\n",
    "user_activity_summary = activity_hours_analysis(hourly_steps_filtered)\n",
    "print(\"User Activity Hours Analysis Summary:\")\n",
    "print(user_activity_summary)\n",
    "\n",
    "\n",
    "# Author: Lincoln Le\n",
    "# Acknowledgment: Developed in collaboration with ChatGPT to implement an activity hours analysis function.\n",
    "# Details of contribution: Analyzed activity levels in hourly step data based on a calculated activity threshold,\n",
    "#                          derived from a target daily step goal and estimated waking hours. Aggregated daily active hours\n",
    "#                          per user and calculated summary statistics including average, maximum, and minimum active hours.\n",
    "#                          ChatGPT assisted in structuring the aggregation process for efficiency and clarity.\n",
    "# Start date: 28/10/2024 - End date: 28/10/2024"
   ]
  },
  {
   "cell_type": "markdown",
   "metadata": {},
   "source": [
    "### Hourly Activity Analysis\n",
    "\n",
    "To determine each user’s daily active hours based on hourly step counts and assess overall adherence to a daily activity target.\n",
    "\n",
    "1. **Hourly Activity Threshold Calculation**:\n",
    "   - A per-hour **activity threshold** was set to identify active hours. This threshold was based on a daily step goal of 5,000 steps spread across 17 waking hours: $\\frac{5000}{24 - 7}$\n",
    "   - Any hour where the user’s steps met or exceeded this threshold was marked as an \"active hour.\"\n",
    "\n",
    "2. **Marking Active Hours**:\n",
    "   - Each hour was labeled as either active or inactive based on whether the `StepTotal` met the calculated activity threshold.\n",
    "   - To facilitate daily analysis, a `Date` column was created by extracting the date component from the `ActivityHour` timestamp.\n",
    "\n",
    "3. **Daily Active Hours Calculation**:\n",
    "   - For each user, the **total number of active hours per day** was calculated by summing all active hours within each day. This provided a daily count of hours during which the user was sufficiently active.\n",
    "\n",
    "4. **Summary Statistics**:\n",
    "   - The daily active hours data was aggregated for each user to compute summary statistics:\n",
    "     - **Average Active Hours**: The mean daily active hours across all recorded days.\n",
    "     - **Maximum Active Hours**: The highest daily active hour count observed for each user.\n",
    "     - **Minimum Active Hours**: The lowest daily active hour count observed for each user.\n",
    "   - These metrics provided insights into each user’s general activity level and consistency."
   ]
  },
  {
   "cell_type": "code",
   "execution_count": 83,
   "metadata": {},
   "outputs": [
    {
     "name": "stdout",
     "output_type": "stream",
     "text": [
      "Final Analysis DataFrame with Descriptive Index and Column Names:\n",
      "            Avg Active Hours (Hourly)  Max Active Hours (Hourly)  \\\n",
      "User ID                                                            \n",
      "1503960366                   9.400000                         14   \n",
      "1624580081                   3.870968                          7   \n",
      "1644430081                   6.766667                         14   \n",
      "2022484408                   9.741935                         13   \n",
      "2026352035                   6.548387                         17   \n",
      "\n",
      "            Min Active Hours (Hourly)  Mean Active Hours (Minute)  \\\n",
      "User ID                                                             \n",
      "1503960366                          6                    4.428889   \n",
      "1624580081                          0                    1.946774   \n",
      "1644430081                          1                    3.011494   \n",
      "2022484408                          4                    4.814516   \n",
      "2026352035                          0                    4.086022   \n",
      "\n",
      "            Std Dev Active Hours (Minute)  Max Active Hours (Minute)  \\\n",
      "User ID                                                                \n",
      "1503960366                       0.854882                   5.466667   \n",
      "1624580081                       0.957354                   5.683333   \n",
      "1644430081                       1.742678                   7.800000   \n",
      "2022484408                       1.207015                   6.400000   \n",
      "2026352035                       1.983208                   8.933333   \n",
      "\n",
      "            Min Active Hours (Minute)  Median Steps (Minute)  \n",
      "User ID                                                       \n",
      "1503960366                   1.033333                  264.5  \n",
      "1624580081                   0.050000                  114.0  \n",
      "1644430081                   0.616667                  171.0  \n",
      "2022484408                   0.716667                  308.0  \n",
      "2026352035                   0.283333                  234.0  \n"
     ]
    }
   ],
   "source": [
    "# Merge hourly and minute data on 'Id' with meaningful column names\n",
    "final_analysis_df = pd.merge(user_activity_summary, person_minute_stats, on='Id', how='inner')\n",
    "\n",
    "# Rename columns to make them more descriptive\n",
    "final_analysis_df.rename(columns={\n",
    "    'Id': 'User ID',\n",
    "    'average_active_hours': 'Avg Active Hours (Hourly)',\n",
    "    'max_active_hours_x': 'Max Active Hours (Hourly)',\n",
    "    'min_active_hours_x': 'Min Active Hours (Hourly)',\n",
    "    'mean_active_hours': 'Mean Active Hours (Minute)',\n",
    "    'std_active_hours': 'Std Dev Active Hours (Minute)',\n",
    "    'max_active_hours_y': 'Max Active Hours (Minute)',\n",
    "    'min_active_hours_y': 'Min Active Hours (Minute)',\n",
    "    'median_steps': 'Median Steps (Minute)'\n",
    "}, inplace=True)\n",
    "\n",
    "# Set 'User ID' as the index for easier reference\n",
    "final_analysis_df.set_index('User ID', inplace=True)\n",
    "\n",
    "# Display the combined and renamed DataFrame\n",
    "print(\"Final Analysis DataFrame with Descriptive Index and Column Names:\")\n",
    "print(final_analysis_df.head())\n",
    "\n",
    "# Author: Lincoln Le\n",
    "# Acknowledgment: Collaboration with ChatGPT to optimize merging and renaming for clarity in the combined analysis DataFrame.\n",
    "# Details of contribution: Merged hourly and minute-level data on user ID and renamed columns to enhance readability. \n",
    "#                          Set 'User ID' as the index for easier reference in further analysis. ChatGPT provided guidance on\n",
    "#                          structuring the merge and creating descriptive column names.\n",
    "# Start date: 28/10/2024 - End date: 28/10/2024\n",
    "\n",
    "# Merge hourly and minute data, rename columns for clarity, and set 'User ID' as index\n"
   ]
  },
  {
   "cell_type": "code",
   "execution_count": 84,
   "metadata": {},
   "outputs": [
    {
     "data": {
      "image/png": "[encoded data removed]",
      "text/plain": [
       "<Figure size 1400x800 with 1 Axes>"
      ]
     },
     "metadata": {},
     "output_type": "display_data"
    }
   ],
   "source": [
    "# Melt the DataFrame to create a structure suitable for side-by-side bars\n",
    "melted_df = final_analysis_df[['Avg Active Hours (Hourly)', 'Mean Active Hours (Minute)']].reset_index()\n",
    "melted_df = melted_df.melt(id_vars='User ID', var_name='Type', value_name='Active Hours')\n",
    "\n",
    "# Plot side-by-side bars for each User ID\n",
    "plt.figure(figsize=(14, 8))\n",
    "sns.barplot(x='User ID', y='Active Hours', hue='Type', data=melted_df, palette=['skyblue', 'coral'])\n",
    "\n",
    "# Add the 10-hour threshold line\n",
    "plt.axhline(y=10, color='red', linestyle='--', label='10-Hour Threshold')\n",
    "\n",
    "# Customize the plot\n",
    "plt.xticks(rotation=90)\n",
    "plt.xlabel('User ID')\n",
    "plt.ylabel('Active Hours')\n",
    "plt.title('Figure 4: Comparison of Avg Active Hours (Hourly) vs Avg Active Hours (Minute) per User')\n",
    "plt.legend(title='Type')\n",
    "plt.tight_layout()\n",
    "plt.show()\n",
    "\n",
    "\n",
    "# Author: Lincoln Le\n",
    "# Acknowledgment: Collaboration with ChatGPT for structuring the data visualization and normality testing.\n",
    "# Details of contribution: Melted the combined DataFrame to create a suitable structure for side-by-side bar plots, \n",
    "#                          visualized comparison of Avg Active Hours (Hourly) vs Mean Active Hours (Minute) per user, \n",
    "#                          and incorporated a 10-hour threshold line to highlight adherence levels. \n",
    "#                          ChatGPT provided guidance on data reshaping and visualization techniques.\n",
    "# Start date: 28/10/2024 - End date: 28/10/2024"
   ]
  },
  {
   "cell_type": "code",
   "execution_count": 85,
   "metadata": {},
   "outputs": [
    {
     "name": "stdout",
     "output_type": "stream",
     "text": [
      "Shapiro-Wilk Test for Hourly Data\n",
      "Statistic: 0.9659215845811658\n",
      "p-value: 0.49848446265395296\n",
      "\n",
      "Shapiro-Wilk Test for Minute Data\n",
      "Statistic: 0.9583556012383513\n",
      "p-value: 0.33882754696481165\n"
     ]
    }
   ],
   "source": [
    "\n",
    "# Separate the 'Avg Active Hours (Hourly)' and 'Mean Active Hours (Minute)' data from melted_df for testing\n",
    "hourly_data = melted_df[melted_df['Type'] == 'Avg Active Hours (Hourly)']['Active Hours']\n",
    "minute_data = melted_df[melted_df['Type'] == 'Mean Active Hours (Minute)']['Active Hours']\n",
    "\n",
    "# Perform Shapiro-Wilk test for normality on both datasets\n",
    "shapiro_hourly_stat, shapiro_hourly_p = shapiro(hourly_data)\n",
    "shapiro_minute_stat, shapiro_minute_p = shapiro(minute_data)\n",
    "\n",
    "# Display results\n",
    "print(\"Shapiro-Wilk Test for Hourly Data\")\n",
    "print(\"Statistic:\", shapiro_hourly_stat)\n",
    "print(\"p-value:\", shapiro_hourly_p)\n",
    "\n",
    "print(\"\\nShapiro-Wilk Test for Minute Data\")\n",
    "print(\"Statistic:\", shapiro_minute_stat)\n",
    "print(\"p-value:\", shapiro_minute_p)\n",
    "\n",
    "# Author: Lincoln Le\n",
    "# Details of contribution: Conduct Shapiro-Wilk normality tests on hourly and minute activity data \n",
    "#                 and interpret results. This ensures compatibility with parametric tests.Extracted\n",
    "#                Avg Active Hours (Hourly) and Mean Active Hours (Minute) from melted DataFrame,\n",
    "#                performed Shapiro-Wilk tests on both data sets to assess normality, and displayed test results.\n",
    "# Start date: 28/10/2024 - End date: 28/10/2024"
   ]
  },
  {
   "cell_type": "code",
   "execution_count": 86,
   "metadata": {},
   "outputs": [
    {
     "name": "stdout",
     "output_type": "stream",
     "text": [
      "One-Sample One-Tailed t-Test for Hourly Data:\n",
      "T-Statistic: -7.258157964738722\n",
      "P-Value (One-Tailed): 0.9999999478389572\n",
      "Fail to reject the null hypothesis (p >= 0.05). Hourly active hours are not significantly greater than or equal to 10 hours.\n",
      "\n",
      "One-Sample One-Tailed t-Test for Minute Data:\n",
      "T-Statistic: -37.43059906701807\n",
      "P-Value (One-Tailed): 1.0\n",
      "Fail to reject the null hypothesis (p >= 0.05). Minute active hours are not significantly greater than or equal to 10 hours.\n"
     ]
    }
   ],
   "source": [
    "\n",
    "# Define the target mean for active hours\n",
    "target_hours = 10\n",
    "\n",
    "# Separate the data for hourly and minute active hours\n",
    "hourly_data = melted_df[melted_df['Type'] == 'Avg Active Hours (Hourly)']['Active Hours']\n",
    "minute_data = melted_df[melted_df['Type'] == 'Mean Active Hours (Minute)']['Active Hours']\n",
    "\n",
    "# Perform one-sample t-test for hourly data (one-tailed)\n",
    "t_stat_hourly, p_value_hourly = ttest_1samp(hourly_data, target_hours)\n",
    "p_value_hourly /= 2  # Adjust for one-tailed test\n",
    "if t_stat_hourly < 0:\n",
    "    p_value_hourly = 1 - p_value_hourly  # Set p-value to 1 if test statistic is negative\n",
    "\n",
    "# Perform one-sample t-test for minute data (one-tailed)\n",
    "t_stat_minute, p_value_minute = ttest_1samp(minute_data, target_hours)\n",
    "p_value_minute /= 2  # Adjust for one-tailed test\n",
    "if t_stat_minute < 0:\n",
    "    p_value_minute = 1 - p_value_minute  # Set p-value to 1 if test statistic is negative\n",
    "\n",
    "# Set significance level\n",
    "alpha = 0.05\n",
    "\n",
    "# Print results for hourly data\n",
    "print(\"One-Sample One-Tailed t-Test for Hourly Data:\")\n",
    "print(\"T-Statistic:\", t_stat_hourly)\n",
    "print(\"P-Value (One-Tailed):\", p_value_hourly)\n",
    "if p_value_hourly < alpha:\n",
    "    print(f\"Reject the null hypothesis (p < {alpha}). Hourly active hours are significantly greater than or equal to {target_hours} hours.\")\n",
    "else:\n",
    "    print(f\"Fail to reject the null hypothesis (p >= {alpha}). Hourly active hours are not significantly greater than or equal to {target_hours} hours.\")\n",
    "\n",
    "# Print results for minute data\n",
    "print(\"\\nOne-Sample One-Tailed t-Test for Minute Data:\")\n",
    "print(\"T-Statistic:\", t_stat_minute)\n",
    "print(\"P-Value (One-Tailed):\", p_value_minute)\n",
    "if p_value_minute < alpha:\n",
    "    print(f\"Reject the null hypothesis (p < {alpha}). Minute active hours are significantly greater than or equal to {target_hours} hours.\")\n",
    "else:\n",
    "    print(f\"Fail to reject the null hypothesis (p >= {alpha}). Minute active hours are not significantly greater than or equal to {target_hours} hours.\")\n",
    "\n",
    "\n",
    "# Author: Lincoln Le\n",
    "# Acknowledgment: Collaboration with ChatGPT for structuring one-sample, one-tailed t-tests to evaluate activity levels.\n",
    "# Details of contribution: Conducted hypothesis testing to determine if average active hours for both hourly and minute data \n",
    "#                          met or exceeded a 10-hour threshold. Used one-tailed one-sample t-tests to compare observed \n",
    "#                          mean active hours against the target value, with guidance from ChatGPT on p-value adjustments \n",
    "#                          for one-tailed testing and interpretation of results.\n",
    "# Start date: 28/10/2024 - End date: 28/10/2024\n"
   ]
  },
  {
   "cell_type": "markdown",
   "metadata": {},
   "source": [
    "### Hypothesis Testing\n",
    "\n",
    "#### Purpose of the Shapiro-Wilk Test\n",
    "\n",
    "- **Objective**: Before conducting hypothesis testing, it’s important to assess if the data follows a **normal distribution** because certain statistical tests, like the t-test, assume normality.\n",
    "- **Why Shapiro-Wilk**: The **Shapiro-Wilk test** was used to test for normality in both hourly and minute-level activity data. This test is commonly used for small to moderate sample sizes and provides a robust measure of normality by assessing whether the sample distribution deviates from a normal distribution.\n",
    "- **Results**:\n",
    "  - **Hourly Data**: The p-value is 0.636, which is greater than the 0.05 significance level. This indicates that we fail to reject the null hypothesis of the Shapiro-Wilk test, suggesting that the hourly data is normally distributed.\n",
    "  - **Minute Data**: The p-value is 0.173, also greater than 0.05, leading us to fail to reject the null hypothesis for normality. This suggests that the minute-level data is approximately normally distributed.\n",
    "- **Conclusion**: Since both datasets are approximately normally distributed, we can proceed with parametric testing using a t-test.\n",
    "\n",
    "#### One-Sample One-Tailed t-Test\n",
    "\n",
    "- The goal of the t-test is to determine if the **mean active hours per day** for both hourly and minute-level data meets or exceeds a target threshold of **10 hours**. This helps assess whether users were sufficiently active throughout the day.\n",
    "\n",
    "#### Rationale for Using the T-Test\n",
    "\n",
    "1. **Small Sample Size**:\n",
    "   - The sample size for our dataset is relatively small (fewer than 30 users), making the t-test a suitable choice for hypothesis testing. The t-test is specifically designed for smaller samples, unlike the z-test, which is better suited for larger sample sizes.\n",
    "\n",
    "2. **Normal Distribution**:\n",
    "   - The Shapiro-Wilk test confirmed that both the hourly and minute-level activity data approximate a **normal distribution** (p-values > 0.05). The t-test assumes that the data is normally distributed, and with our normality assumption validated, the t-test becomes an appropriate tool for analysis.\n",
    "\n",
    "3. **Testing Against a Known Value (10-Hour Threshold)**:\n",
    "   - A **one-sample t-test** allows us to compare the mean of our sample data (mean active hours) to a specified value (in this case, the 10-hour activity threshold).\n",
    "   - This approach helps us determine if the observed mean active hours significantly meet or exceed this threshold, providing insights into adherence to the activity goal.\n",
    "\n",
    "4. **One-Tailed Test for Directional Hypothesis**:\n",
    "   - Since our hypothesis focuses on whether users are active for **10 hours or more per day**, we used a **one-tailed t-test**. This directional test is ideal because we are not interested in values significantly less than 10 hours but rather in determining if users meet or exeeds 10 hours.\n",
    "\n",
    "\n",
    "- **Results**:\n",
    "  - **Hourly Data**:\n",
    "    - **T-Statistic**: -7.55\n",
    "    - **P-Value (One-Tailed)**: 0.9999, which is much greater than 0.05.\n",
    "    - **Interpretation**: We fail to reject the null hypothesis, meaning there is insufficient evidence to conclude that hourly active hours meet or exceed 10 hours.\n",
    "  - **Minute Data**:\n",
    "    - **T-Statistic**: -34.50\n",
    "    - **P-Value (One-Tailed)**: 1.0, also much greater than 0.05.\n",
    "    - **Interpretation**: Similarly, we fail to reject the null hypothesis, indicating that minute-level active hours do not meet or exceed the 10-hour threshold.\n",
    "\n",
    "#### Summary of Hypothesis Testing Results\n",
    "\n",
    "The t-test results indicate that, for both hourly and minute data, the mean active hours do not meet the target of 10 hours per day. This suggests that users generally fall short of the daily activity goal. The Shapiro-Wilk test confirmed that both datasets are approximately normally distributed, validating our choice of the t-test for hypothesis testing."
   ]
  },
  {
   "cell_type": "markdown",
   "metadata": {},
   "source": [
    "## Discussion"
   ]
  },
  {
   "cell_type": "markdown",
   "metadata": {},
   "source": [
    "### Answer to Driving Question\n",
    "The results of the t-test reveal a statistically significant difference, indicating that, on average, participants **do not meet** the 10-hour threshold for avoiding inactivity. This outcome implies that most participants spend fewer than 10 hours in active states, suggesting a tendency toward inactivity. The statistical significance in our findings confirms that these activity patterns are unlikely to be due to random variation."
   ]
  },
  {
   "cell_type": "markdown",
   "metadata": {},
   "source": [
    "### Implications for Stakeholders\n",
    "Our findings, showing that individuals generally do not stay active for at least 10 hours each day., carry important implications for **individual participants** and **government and health officials**. For *individual users*, these results suggest a need to increase daily movement to address inactivity, which could mitigate health risks tied to sedentary behavior. The data provides a clear basis for individuals to make *informed adjustments* that could enhance their long-term wellness.\n",
    "\n",
    "For **government and health officials**, the high levels of inactivity observed point to a potential *public health concern*. This insight can guide the development of targeted campaigns or policies aimed at increasing physical activity within the community. By understanding where inactivity is widespread, health agencies can prioritize interventions and allocate resources effectively to support *more active lifestyles* at a population level."
   ]
  },
  {
   "cell_type": "markdown",
   "metadata": {},
   "source": [
    "### Limitations\n",
    "Our analysis includes several **limitations** affecting the accuracy and generalizability of our findings. A primary limitation lies in **threshold selection**. The fixed 10-hour inactivity threshold assumes uniform applicability but may not accurately distinguish between **low activity**, **sleep**, or **non-wear periods** for all users. Dynamic or individualized thresholds could better capture these distinctions by adapting to each user’s unique behavior patterns.\n",
    "\n",
    "**Uniform thresholds across users** also limit our analysis, as applying the same activity threshold to all participants overlooks individual differences in **sleep and activity routines**. Customizing thresholds per user or using a range for different activity levels could enhance classification accuracy, improving inactivity assessments by addressing personal variability.\n",
    "\n",
    "**Handling consecutive low activity periods** is another challenge. Short bursts of movement within otherwise prolonged inactive periods can disrupt accurate classification of sleep or non-wear times, leading to misclassification. Setting a minimum duration requirement for classifying sleep or inactivity could improve robustness, ensuring that only sustained activity or inactivity is recorded as such.\n",
    "\n",
    "Our dataset also assumes that **step counts reflect total activity levels**, though wearables may not capture other forms of physical activity, like cycling or swimming, possibly underestimating true engagement. Moreover, step data does not account for **movement intensity**, which varies across individuals. This limitation reduces our insight into true activity levels, especially for those with high-intensity, low-step activities.\n",
    "\n",
    "Lastly, **device adherence** remains a concern. While we filtered out instances of 24-hour low-step counts to address non-adherence, temporary device removal could still introduce inconsistencies. Non-wear times could occur at certain times of day more than others, potentially skewing the data.\n",
    "\n",
    "These limitations highlight areas for cautious interpretation and suggest improvements for future studies. Incorporating dynamic or personalized thresholds, refining activity classification methods, and expanding activity measurements could yield more accurate and representative insights."
   ]
  },
  {
   "cell_type": "markdown",
   "metadata": {},
   "source": [
    "### Critical Evaluation\n",
    "\n",
    "Our analysis relies on assumptions and limitations that impact its overall robustness. The use of a **fixed threshold** for inactivity assumes *homogeneity* in user behavior, which may misrepresent individual activity patterns. Uniform thresholds also overlook personal variations in **activity routines**, limiting the *generalizability* of our findings. Misclassifications are further introduced by short movements within low-activity periods, challenging the accuracy of **sleep and inactivity measures**.\n",
    "\n",
    "The assumption that **step counts fully capture physical activity** omits non-step activities, like cycling or intensity variations, which can understate actual activity levels. **Device adherence** is another potential source of inaccuracy, as temporary device removal creates inconsistencies that may affect *reliability*.\n",
    "\n",
    "These factors collectively constrain the *precision* of our results. Addressing these limitations through **customized thresholds**, refined classification methods, and **broader activity metrics** would enhance the reliability and applicability of future analyses."
   ]
  },
  {
   "cell_type": "markdown",
   "metadata": {
    "id": "PKbRFew7ewC2"
   },
   "source": [
    "## Conclusion\n",
    "This analysis provides valuable insights into the inactivity levels of participants. Our study has answered the driving question of whether they avoid prolonged inactivity for at least 10 hours a day. Our findings indicate that, on average, participants fall short of this threshold. This result suggests a prevalent pattern of inactivity. This suggests the need for interventions. This could come through individual lifestyle adjustments or public health initiatives that aims to encourage more consistent daily movement.\n",
    "\n",
    "Our study also highlights the importance of refining **thresholds** and **activity metrics** in future research. Improvements could include dynamic thresholds tailored to individual routines and a broader range of physical activity measures. An *optimal research design* would integrate varied activity types and personalized thresholds to enhance the accuracy of inactivity assessments. This ensures that the analysis captures the full spectrum of participants' physical engagement.\n",
    "\n",
    "Future studies can provide a more nuanced understanding of activity levels by addressing these aspects. This contributes to more targeted health recommendations and interventions that support long-term well-being across a diverse demographic of users."
   ]
  },
  {
   "cell_type": "markdown",
   "metadata": {},
   "source": [
    "### References\n",
    "\n",
    "1. OpenAI. (2024). Assistance provided by GPT-4 language model. Retrieved from https://chat.openai.com/\n",
    "\n",
    "2. Tudor-Locke, C., Craig, C. L., Thyfault, J. P., & Spence, J. C. (2013). A step-defined sedentary lifestyle index: <5000 steps/day. *Applied Physiology, Nutrition, and Metabolism, 38*(2), 100–114. https://doi.org/10.1139/apnm-2012-0235"
   ]
  }
 ],
 "metadata": {
  "colab": {
   "provenance": []
  },
  "kernelspec": {
   "display_name": "Python 3",
   "language": "python",
   "name": "python3"
  },
  "language_info": {
   "codemirror_mode": {
    "name": "ipython",
    "version": 3
   },
   "file_extension": ".py",
   "mimetype": "text/x-python",
   "name": "python",
   "nbconvert_exporter": "python",
   "pygments_lexer": "ipython3",
   "version": "3.10.11"
  }
 },
 "nbformat": 4,
 "nbformat_minor": 4
}
