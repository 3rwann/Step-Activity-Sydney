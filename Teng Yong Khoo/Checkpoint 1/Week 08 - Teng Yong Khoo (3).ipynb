{
 "cells": [
  {
   "cell_type": "markdown",
   "id": "3c0cfe76",
   "metadata": {},
   "source": [
    "# Week 08 - Teng Yong Khoo \n",
    "\n",
    "# Personal data exploration of literate Jupyter Notebook on the data for the three people agreed within the group\n",
    "\n",
    "# The total time taken to complete this checkpoint is 8 hours 19 minutes."
   ]
  },
  {
   "cell_type": "markdown",
   "id": "ca4a7433",
   "metadata": {},
   "source": [
    "## Section 1: Gaining Familiarity with our data"
   ]
  },
  {
   "cell_type": "markdown",
   "id": "2c4846b5",
   "metadata": {},
   "source": [
    "### Background & Purpose of the Analysis"
   ]
  },
  {
   "cell_type": "markdown",
   "id": "040442ca",
   "metadata": {},
   "source": [
    "Heart disease is the number one killer in Australia for decades. One of the many reasons why heart attack occurs is a lack of physical activity. Being inactive for a substantial period of time can cause fatty material building up in the individual's arteries. If these arteries which carries blood to the heart get clogged, it can lead to a heart attack which could have fatal consequences. \n",
    "\n",
    "In this analysis, we will be exploring on whether Fitbit users that are included in the dataset avoid inactivity in at least 10 hours a day. \n",
    "\n",
    "(Beginning of Work: 13th September 2024, End of Work: 13th September 2024)"
   ]
  },
  {
   "cell_type": "markdown",
   "id": "6cd21964",
   "metadata": {},
   "source": [
    "### Loading the Packages"
   ]
  },
  {
   "cell_type": "code",
   "execution_count": 1,
   "id": "cebc5e2b",
   "metadata": {},
   "outputs": [],
   "source": [
    "# Importing the packages\n",
    "import pandas as pd\n",
    "import numpy as np\n",
    "import matplotlib.pyplot as plt\n",
    "\n",
    "# (Beginning of Work: 13th September 2024, End of Work: 13th September 2024)"
   ]
  },
  {
   "cell_type": "markdown",
   "id": "3cd6d5ad",
   "metadata": {},
   "source": [
    "### Loading the Dataset\n",
    "\n",
    "Let us load the packages that are neccessary to conduct the analysis!"
   ]
  },
  {
   "cell_type": "markdown",
   "id": "f8fb71b6",
   "metadata": {},
   "source": [
    "Now, let us load the 2 datasets using the pandas read_csv function that contains the dataset the shows the step count per day and per hour for each individual:"
   ]
  },
  {
   "cell_type": "markdown",
   "id": "b70d70c2",
   "metadata": {},
   "source": [
    "This dataset displays the step count per day for each individual:\n",
    "\n",
    "(Beginning of Work: 13th September 2024, End of Work: 13th September 2024)"
   ]
  },
  {
   "cell_type": "code",
   "execution_count": 2,
   "id": "12d4a06e",
   "metadata": {},
   "outputs": [
    {
     "data": {
      "text/html": [
       "<div>\n",
       "<style scoped>\n",
       "    .dataframe tbody tr th:only-of-type {\n",
       "        vertical-align: middle;\n",
       "    }\n",
       "\n",
       "    .dataframe tbody tr th {\n",
       "        vertical-align: top;\n",
       "    }\n",
       "\n",
       "    .dataframe thead th {\n",
       "        text-align: right;\n",
       "    }\n",
       "</style>\n",
       "<table border=\"1\" class=\"dataframe\">\n",
       "  <thead>\n",
       "    <tr style=\"text-align: right;\">\n",
       "      <th></th>\n",
       "      <th>Id</th>\n",
       "      <th>ActivityDay</th>\n",
       "      <th>StepTotal</th>\n",
       "    </tr>\n",
       "  </thead>\n",
       "  <tbody>\n",
       "    <tr>\n",
       "      <th>0</th>\n",
       "      <td>1503960366</td>\n",
       "      <td>4/12/2016</td>\n",
       "      <td>13162</td>\n",
       "    </tr>\n",
       "    <tr>\n",
       "      <th>1</th>\n",
       "      <td>1503960366</td>\n",
       "      <td>4/13/2016</td>\n",
       "      <td>10735</td>\n",
       "    </tr>\n",
       "    <tr>\n",
       "      <th>2</th>\n",
       "      <td>1503960366</td>\n",
       "      <td>4/14/2016</td>\n",
       "      <td>10460</td>\n",
       "    </tr>\n",
       "    <tr>\n",
       "      <th>3</th>\n",
       "      <td>1503960366</td>\n",
       "      <td>4/15/2016</td>\n",
       "      <td>9762</td>\n",
       "    </tr>\n",
       "    <tr>\n",
       "      <th>4</th>\n",
       "      <td>1503960366</td>\n",
       "      <td>4/16/2016</td>\n",
       "      <td>12669</td>\n",
       "    </tr>\n",
       "    <tr>\n",
       "      <th>...</th>\n",
       "      <td>...</td>\n",
       "      <td>...</td>\n",
       "      <td>...</td>\n",
       "    </tr>\n",
       "    <tr>\n",
       "      <th>935</th>\n",
       "      <td>8877689391</td>\n",
       "      <td>5/8/2016</td>\n",
       "      <td>10686</td>\n",
       "    </tr>\n",
       "    <tr>\n",
       "      <th>936</th>\n",
       "      <td>8877689391</td>\n",
       "      <td>5/9/2016</td>\n",
       "      <td>20226</td>\n",
       "    </tr>\n",
       "    <tr>\n",
       "      <th>937</th>\n",
       "      <td>8877689391</td>\n",
       "      <td>5/10/2016</td>\n",
       "      <td>10733</td>\n",
       "    </tr>\n",
       "    <tr>\n",
       "      <th>938</th>\n",
       "      <td>8877689391</td>\n",
       "      <td>5/11/2016</td>\n",
       "      <td>21420</td>\n",
       "    </tr>\n",
       "    <tr>\n",
       "      <th>939</th>\n",
       "      <td>8877689391</td>\n",
       "      <td>5/12/2016</td>\n",
       "      <td>8064</td>\n",
       "    </tr>\n",
       "  </tbody>\n",
       "</table>\n",
       "<p>940 rows × 3 columns</p>\n",
       "</div>"
      ],
      "text/plain": [
       "             Id ActivityDay  StepTotal\n",
       "0    1503960366   4/12/2016      13162\n",
       "1    1503960366   4/13/2016      10735\n",
       "2    1503960366   4/14/2016      10460\n",
       "3    1503960366   4/15/2016       9762\n",
       "4    1503960366   4/16/2016      12669\n",
       "..          ...         ...        ...\n",
       "935  8877689391    5/8/2016      10686\n",
       "936  8877689391    5/9/2016      20226\n",
       "937  8877689391   5/10/2016      10733\n",
       "938  8877689391   5/11/2016      21420\n",
       "939  8877689391   5/12/2016       8064\n",
       "\n",
       "[940 rows x 3 columns]"
      ]
     },
     "execution_count": 2,
     "metadata": {},
     "output_type": "execute_result"
    }
   ],
   "source": [
    "# Loading the dataset\n",
    "df_day = pd.read_csv(\"dailySteps_merged.csv\")\n",
    "\n",
    "# Displaying the dataset\n",
    "df_day\n",
    "\n",
    "# (Beginning of Work: 13th September 2024, End of Work: 13th September 2024)"
   ]
  },
  {
   "cell_type": "markdown",
   "id": "0f721307",
   "metadata": {},
   "source": [
    "This dataset displays the step count per hour for each individual:"
   ]
  },
  {
   "cell_type": "code",
   "execution_count": 3,
   "id": "456fc843",
   "metadata": {},
   "outputs": [
    {
     "data": {
      "text/html": [
       "<div>\n",
       "<style scoped>\n",
       "    .dataframe tbody tr th:only-of-type {\n",
       "        vertical-align: middle;\n",
       "    }\n",
       "\n",
       "    .dataframe tbody tr th {\n",
       "        vertical-align: top;\n",
       "    }\n",
       "\n",
       "    .dataframe thead th {\n",
       "        text-align: right;\n",
       "    }\n",
       "</style>\n",
       "<table border=\"1\" class=\"dataframe\">\n",
       "  <thead>\n",
       "    <tr style=\"text-align: right;\">\n",
       "      <th></th>\n",
       "      <th>Id</th>\n",
       "      <th>ActivityHour</th>\n",
       "      <th>Steps00</th>\n",
       "      <th>Steps01</th>\n",
       "      <th>Steps02</th>\n",
       "      <th>Steps03</th>\n",
       "      <th>Steps04</th>\n",
       "      <th>Steps05</th>\n",
       "      <th>Steps06</th>\n",
       "      <th>Steps07</th>\n",
       "      <th>...</th>\n",
       "      <th>Steps50</th>\n",
       "      <th>Steps51</th>\n",
       "      <th>Steps52</th>\n",
       "      <th>Steps53</th>\n",
       "      <th>Steps54</th>\n",
       "      <th>Steps55</th>\n",
       "      <th>Steps56</th>\n",
       "      <th>Steps57</th>\n",
       "      <th>Steps58</th>\n",
       "      <th>Steps59</th>\n",
       "    </tr>\n",
       "  </thead>\n",
       "  <tbody>\n",
       "    <tr>\n",
       "      <th>0</th>\n",
       "      <td>1503960366</td>\n",
       "      <td>4/13/2016 12:00:00 AM</td>\n",
       "      <td>4</td>\n",
       "      <td>16</td>\n",
       "      <td>0</td>\n",
       "      <td>0</td>\n",
       "      <td>0</td>\n",
       "      <td>9</td>\n",
       "      <td>0</td>\n",
       "      <td>17</td>\n",
       "      <td>...</td>\n",
       "      <td>0</td>\n",
       "      <td>9</td>\n",
       "      <td>8</td>\n",
       "      <td>0</td>\n",
       "      <td>20</td>\n",
       "      <td>1</td>\n",
       "      <td>0</td>\n",
       "      <td>0</td>\n",
       "      <td>0</td>\n",
       "      <td>0</td>\n",
       "    </tr>\n",
       "    <tr>\n",
       "      <th>1</th>\n",
       "      <td>1503960366</td>\n",
       "      <td>4/13/2016 1:00:00 AM</td>\n",
       "      <td>0</td>\n",
       "      <td>0</td>\n",
       "      <td>0</td>\n",
       "      <td>0</td>\n",
       "      <td>0</td>\n",
       "      <td>0</td>\n",
       "      <td>0</td>\n",
       "      <td>0</td>\n",
       "      <td>...</td>\n",
       "      <td>0</td>\n",
       "      <td>0</td>\n",
       "      <td>0</td>\n",
       "      <td>0</td>\n",
       "      <td>0</td>\n",
       "      <td>0</td>\n",
       "      <td>0</td>\n",
       "      <td>0</td>\n",
       "      <td>0</td>\n",
       "      <td>0</td>\n",
       "    </tr>\n",
       "    <tr>\n",
       "      <th>2</th>\n",
       "      <td>1503960366</td>\n",
       "      <td>4/13/2016 2:00:00 AM</td>\n",
       "      <td>0</td>\n",
       "      <td>0</td>\n",
       "      <td>0</td>\n",
       "      <td>0</td>\n",
       "      <td>0</td>\n",
       "      <td>0</td>\n",
       "      <td>0</td>\n",
       "      <td>0</td>\n",
       "      <td>...</td>\n",
       "      <td>0</td>\n",
       "      <td>0</td>\n",
       "      <td>0</td>\n",
       "      <td>0</td>\n",
       "      <td>0</td>\n",
       "      <td>0</td>\n",
       "      <td>0</td>\n",
       "      <td>0</td>\n",
       "      <td>0</td>\n",
       "      <td>0</td>\n",
       "    </tr>\n",
       "    <tr>\n",
       "      <th>3</th>\n",
       "      <td>1503960366</td>\n",
       "      <td>4/13/2016 3:00:00 AM</td>\n",
       "      <td>0</td>\n",
       "      <td>0</td>\n",
       "      <td>0</td>\n",
       "      <td>0</td>\n",
       "      <td>0</td>\n",
       "      <td>0</td>\n",
       "      <td>0</td>\n",
       "      <td>0</td>\n",
       "      <td>...</td>\n",
       "      <td>0</td>\n",
       "      <td>0</td>\n",
       "      <td>0</td>\n",
       "      <td>0</td>\n",
       "      <td>0</td>\n",
       "      <td>0</td>\n",
       "      <td>0</td>\n",
       "      <td>0</td>\n",
       "      <td>0</td>\n",
       "      <td>0</td>\n",
       "    </tr>\n",
       "    <tr>\n",
       "      <th>4</th>\n",
       "      <td>1503960366</td>\n",
       "      <td>4/13/2016 4:00:00 AM</td>\n",
       "      <td>0</td>\n",
       "      <td>0</td>\n",
       "      <td>0</td>\n",
       "      <td>0</td>\n",
       "      <td>0</td>\n",
       "      <td>0</td>\n",
       "      <td>0</td>\n",
       "      <td>0</td>\n",
       "      <td>...</td>\n",
       "      <td>0</td>\n",
       "      <td>0</td>\n",
       "      <td>0</td>\n",
       "      <td>0</td>\n",
       "      <td>0</td>\n",
       "      <td>0</td>\n",
       "      <td>0</td>\n",
       "      <td>0</td>\n",
       "      <td>0</td>\n",
       "      <td>0</td>\n",
       "    </tr>\n",
       "    <tr>\n",
       "      <th>...</th>\n",
       "      <td>...</td>\n",
       "      <td>...</td>\n",
       "      <td>...</td>\n",
       "      <td>...</td>\n",
       "      <td>...</td>\n",
       "      <td>...</td>\n",
       "      <td>...</td>\n",
       "      <td>...</td>\n",
       "      <td>...</td>\n",
       "      <td>...</td>\n",
       "      <td>...</td>\n",
       "      <td>...</td>\n",
       "      <td>...</td>\n",
       "      <td>...</td>\n",
       "      <td>...</td>\n",
       "      <td>...</td>\n",
       "      <td>...</td>\n",
       "      <td>...</td>\n",
       "      <td>...</td>\n",
       "      <td>...</td>\n",
       "      <td>...</td>\n",
       "    </tr>\n",
       "    <tr>\n",
       "      <th>21640</th>\n",
       "      <td>8877689391</td>\n",
       "      <td>5/13/2016 3:00:00 AM</td>\n",
       "      <td>0</td>\n",
       "      <td>0</td>\n",
       "      <td>0</td>\n",
       "      <td>0</td>\n",
       "      <td>0</td>\n",
       "      <td>0</td>\n",
       "      <td>0</td>\n",
       "      <td>0</td>\n",
       "      <td>...</td>\n",
       "      <td>0</td>\n",
       "      <td>0</td>\n",
       "      <td>0</td>\n",
       "      <td>0</td>\n",
       "      <td>0</td>\n",
       "      <td>0</td>\n",
       "      <td>0</td>\n",
       "      <td>0</td>\n",
       "      <td>0</td>\n",
       "      <td>0</td>\n",
       "    </tr>\n",
       "    <tr>\n",
       "      <th>21641</th>\n",
       "      <td>8877689391</td>\n",
       "      <td>5/13/2016 4:00:00 AM</td>\n",
       "      <td>0</td>\n",
       "      <td>0</td>\n",
       "      <td>0</td>\n",
       "      <td>0</td>\n",
       "      <td>0</td>\n",
       "      <td>0</td>\n",
       "      <td>0</td>\n",
       "      <td>0</td>\n",
       "      <td>...</td>\n",
       "      <td>0</td>\n",
       "      <td>0</td>\n",
       "      <td>0</td>\n",
       "      <td>0</td>\n",
       "      <td>0</td>\n",
       "      <td>0</td>\n",
       "      <td>0</td>\n",
       "      <td>0</td>\n",
       "      <td>0</td>\n",
       "      <td>0</td>\n",
       "    </tr>\n",
       "    <tr>\n",
       "      <th>21642</th>\n",
       "      <td>8877689391</td>\n",
       "      <td>5/13/2016 5:00:00 AM</td>\n",
       "      <td>0</td>\n",
       "      <td>0</td>\n",
       "      <td>0</td>\n",
       "      <td>0</td>\n",
       "      <td>0</td>\n",
       "      <td>0</td>\n",
       "      <td>0</td>\n",
       "      <td>0</td>\n",
       "      <td>...</td>\n",
       "      <td>0</td>\n",
       "      <td>0</td>\n",
       "      <td>0</td>\n",
       "      <td>0</td>\n",
       "      <td>0</td>\n",
       "      <td>0</td>\n",
       "      <td>0</td>\n",
       "      <td>0</td>\n",
       "      <td>0</td>\n",
       "      <td>0</td>\n",
       "    </tr>\n",
       "    <tr>\n",
       "      <th>21643</th>\n",
       "      <td>8877689391</td>\n",
       "      <td>5/13/2016 6:00:00 AM</td>\n",
       "      <td>0</td>\n",
       "      <td>0</td>\n",
       "      <td>0</td>\n",
       "      <td>0</td>\n",
       "      <td>0</td>\n",
       "      <td>0</td>\n",
       "      <td>0</td>\n",
       "      <td>0</td>\n",
       "      <td>...</td>\n",
       "      <td>21</td>\n",
       "      <td>22</td>\n",
       "      <td>33</td>\n",
       "      <td>17</td>\n",
       "      <td>24</td>\n",
       "      <td>0</td>\n",
       "      <td>0</td>\n",
       "      <td>20</td>\n",
       "      <td>38</td>\n",
       "      <td>16</td>\n",
       "    </tr>\n",
       "    <tr>\n",
       "      <th>21644</th>\n",
       "      <td>8877689391</td>\n",
       "      <td>5/13/2016 7:00:00 AM</td>\n",
       "      <td>35</td>\n",
       "      <td>21</td>\n",
       "      <td>44</td>\n",
       "      <td>0</td>\n",
       "      <td>6</td>\n",
       "      <td>0</td>\n",
       "      <td>0</td>\n",
       "      <td>0</td>\n",
       "      <td>...</td>\n",
       "      <td>0</td>\n",
       "      <td>0</td>\n",
       "      <td>0</td>\n",
       "      <td>0</td>\n",
       "      <td>0</td>\n",
       "      <td>0</td>\n",
       "      <td>0</td>\n",
       "      <td>0</td>\n",
       "      <td>0</td>\n",
       "      <td>0</td>\n",
       "    </tr>\n",
       "  </tbody>\n",
       "</table>\n",
       "<p>21645 rows × 62 columns</p>\n",
       "</div>"
      ],
      "text/plain": [
       "               Id           ActivityHour  Steps00  Steps01  Steps02  Steps03  \\\n",
       "0      1503960366  4/13/2016 12:00:00 AM        4       16        0        0   \n",
       "1      1503960366   4/13/2016 1:00:00 AM        0        0        0        0   \n",
       "2      1503960366   4/13/2016 2:00:00 AM        0        0        0        0   \n",
       "3      1503960366   4/13/2016 3:00:00 AM        0        0        0        0   \n",
       "4      1503960366   4/13/2016 4:00:00 AM        0        0        0        0   \n",
       "...           ...                    ...      ...      ...      ...      ...   \n",
       "21640  8877689391   5/13/2016 3:00:00 AM        0        0        0        0   \n",
       "21641  8877689391   5/13/2016 4:00:00 AM        0        0        0        0   \n",
       "21642  8877689391   5/13/2016 5:00:00 AM        0        0        0        0   \n",
       "21643  8877689391   5/13/2016 6:00:00 AM        0        0        0        0   \n",
       "21644  8877689391   5/13/2016 7:00:00 AM       35       21       44        0   \n",
       "\n",
       "       Steps04  Steps05  Steps06  Steps07  ...  Steps50  Steps51  Steps52  \\\n",
       "0            0        9        0       17  ...        0        9        8   \n",
       "1            0        0        0        0  ...        0        0        0   \n",
       "2            0        0        0        0  ...        0        0        0   \n",
       "3            0        0        0        0  ...        0        0        0   \n",
       "4            0        0        0        0  ...        0        0        0   \n",
       "...        ...      ...      ...      ...  ...      ...      ...      ...   \n",
       "21640        0        0        0        0  ...        0        0        0   \n",
       "21641        0        0        0        0  ...        0        0        0   \n",
       "21642        0        0        0        0  ...        0        0        0   \n",
       "21643        0        0        0        0  ...       21       22       33   \n",
       "21644        6        0        0        0  ...        0        0        0   \n",
       "\n",
       "       Steps53  Steps54  Steps55  Steps56  Steps57  Steps58  Steps59  \n",
       "0            0       20        1        0        0        0        0  \n",
       "1            0        0        0        0        0        0        0  \n",
       "2            0        0        0        0        0        0        0  \n",
       "3            0        0        0        0        0        0        0  \n",
       "4            0        0        0        0        0        0        0  \n",
       "...        ...      ...      ...      ...      ...      ...      ...  \n",
       "21640        0        0        0        0        0        0        0  \n",
       "21641        0        0        0        0        0        0        0  \n",
       "21642        0        0        0        0        0        0        0  \n",
       "21643       17       24        0        0       20       38       16  \n",
       "21644        0        0        0        0        0        0        0  \n",
       "\n",
       "[21645 rows x 62 columns]"
      ]
     },
     "execution_count": 3,
     "metadata": {},
     "output_type": "execute_result"
    }
   ],
   "source": [
    "# Loading the dataset\n",
    "df_min = pd.read_csv(\"minuteStepsWide_merged.csv\")\n",
    "\n",
    "# Displaying the dataset\n",
    "df_min\n",
    "\n",
    "# (Beginning of Work: 13th September 2024, End of Work: 13th September 2024)"
   ]
  },
  {
   "cell_type": "markdown",
   "id": "0f31e12f",
   "metadata": {},
   "source": [
    "We are specifically interested in knowing the summary statistics of just 3 individuals. Note in both datasets, the user IDs are being repeated for each individual based on the day and minute. \n",
    "\n",
    "The Python function unique() will filter out the duplicates and extract just one unique user ID for each datapoint in ActivityDay and ActivityHour. For this analysis, we will be extracting users from rows 7 to 9. \n",
    "\n",
    "(Beginning of Work: 13th September 2024, End of Work: 13th September 2024)"
   ]
  },
  {
   "cell_type": "code",
   "execution_count": 4,
   "id": "6de6933b",
   "metadata": {},
   "outputs": [
    {
     "name": "stdout",
     "output_type": "stream",
     "text": [
      "The User ID is: 2026352035 2320127002 2347167796\n",
      "The User ID is: 2026352035 2320127002 2347167796\n"
     ]
    }
   ],
   "source": [
    "# Filtering duplicate user IDs using unique()\n",
    "indexday = df_day[\"Id\"].unique()\n",
    "\n",
    "# Printing the ID\n",
    "print(\"The User ID is:\", indexday[6], indexday[7], indexday[8])\n",
    "\n",
    "# Filtering duplicate user IDs using unique()\n",
    "indexminute = df_min[\"Id\"].unique()\n",
    "\n",
    "# Printing the ID\n",
    "print(\"The User ID is:\", indexminute[6], indexminute[7], indexminute[8])\n",
    "\n",
    "# (Beginning of Work: 13th September 2024, End of Work: 13th September 2024)"
   ]
  },
  {
   "cell_type": "markdown",
   "id": "73a12c20",
   "metadata": {},
   "source": [
    "As you can see from the above, the user ID for both datasets appears to be similar, which tells us the unique() function has done its part to only select one unique user ID for each datapoint in ActivityDay and ActivityHour.\n",
    "\n",
    "(Beginning of Work: 13th September 2024, End of Work: 13th September 2024)"
   ]
  },
  {
   "cell_type": "markdown",
   "id": "dfa31c93",
   "metadata": {},
   "source": [
    "### Initial Assumptions\n",
    "- There are no NAN for both datasets.\n",
    "\n",
    "- The number of days of data for both datasets for each unique ID is the same. \n",
    "\n",
    "**These assumptions are essential, so that the final results would not be biased and inconsistent.**\n",
    "\n",
    "(Beginning of Work: 13th September 2024, End of Work: 16th September 2024)"
   ]
  },
  {
   "cell_type": "markdown",
   "id": "6262904b",
   "metadata": {},
   "source": [
    "### Initial Predictions\n",
    "\n",
    "As there are a substantial number of zeros in both datasets, it might not capture the true number of steps taken for each of the 3 individuals, and the steps count would be lower than expected.\n",
    "\n",
    "(Beginning of Work: 16th September 2024, End of Work: 16th September 2024)"
   ]
  },
  {
   "cell_type": "markdown",
   "id": "c1666b62",
   "metadata": {},
   "source": [
    "# Section 2: Exploratory Data Analysis (EDA)"
   ]
  },
  {
   "cell_type": "markdown",
   "id": "9e4da19c",
   "metadata": {},
   "source": [
    "### Data Cleaning"
   ]
  },
  {
   "cell_type": "markdown",
   "id": "87811f18",
   "metadata": {},
   "source": [
    "Before we begin our EDA, it is crucial to ensure that both datasets do not contain any outliers or NAN values which can affect the overall result for the analysis. \n",
    "\n",
    "First, we will be using the isna().sum() function to detect whether there are any NAN values in for the daily step count dataset for column \"ActivityDay\". As for the steps per minute dataset, we will use the function isna().sum().sum() for such wide dataset. The additional sum() at the end of the first sim() adds up the total number of missing values for each minute of step count. \n",
    "\n",
    "We will also be counting how many data points are recorded as zeros for the daily step count dataset. A calculation of the number of zero data points for the minute data set is not needed as it is crystal clear for the dataset that is loaded above, a substantial number of zero data points are present. \n",
    "\n",
    "(Beginning of Work: 13th September 2024, End of Work: 13th September 2024)"
   ]
  },
  {
   "cell_type": "code",
   "execution_count": 5,
   "id": "f51369d5",
   "metadata": {},
   "outputs": [
    {
     "data": {
      "text/plain": [
       "0"
      ]
     },
     "execution_count": 5,
     "metadata": {},
     "output_type": "execute_result"
    }
   ],
   "source": [
    "# Using isna().sum to detect if there's any NAN values in the ActivityDay column\n",
    "nanday = df_day[\"ActivityDay\"].isna().sum()\n",
    "\n",
    "# Print the result\n",
    "nanday\n",
    "\n",
    "# (Beginning of Work: 13th September 2024, End of Work: 13th September 2024)"
   ]
  },
  {
   "cell_type": "code",
   "execution_count": 6,
   "id": "c78312c4",
   "metadata": {},
   "outputs": [
    {
     "data": {
      "text/plain": [
       "0"
      ]
     },
     "execution_count": 6,
     "metadata": {},
     "output_type": "execute_result"
    }
   ],
   "source": [
    "# Using isna().sum().sum() to detect if there's any NAN values in the entire dataset \n",
    "nanmin = df_min.isna().sum().sum()\n",
    "\n",
    "# Print the result\n",
    "nanmin\n",
    "\n",
    "# (Beginning of Work: 13th September 2024, End of Work: 13th September 2024)"
   ]
  },
  {
   "cell_type": "code",
   "execution_count": 29,
   "id": "c4042f80",
   "metadata": {},
   "outputs": [
    {
     "data": {
      "text/plain": [
       "77"
      ]
     },
     "execution_count": 29,
     "metadata": {},
     "output_type": "execute_result"
    }
   ],
   "source": [
    "# Counting the number of zeros data points for the daily step count dataset. \n",
    "zero = (df_day['StepTotal'] == 0).sum()\n",
    "\n",
    "# Print the result\n",
    "zero\n",
    "\n",
    "# (Beginning of Work: 16th September 2024, End of Work: 16th September 2024)"
   ]
  },
  {
   "cell_type": "markdown",
   "id": "379b9fda",
   "metadata": {},
   "source": [
    "It seems like there are no missing values for both datasets, which means the assumption of no NAN values is fulfilled. \n",
    "\n",
    "There are 77 zero data points in the daily step count dataset, as well as a visual observation from the minute step count dataset which shows multiple zero data points. This may indicate that users may have forgotten to wear their tracking devices, or did not turn it on when walking, or they simply just do not walk.\n",
    "\n",
    "(Beginning of Work: 13th September 2024, End of Work: 16th September 2024)"
   ]
  },
  {
   "cell_type": "markdown",
   "id": "50fc1e6d",
   "metadata": {},
   "source": [
    "### Number of Days of Data - Daily Step Count Dataset"
   ]
  },
  {
   "cell_type": "markdown",
   "id": "871df7d7",
   "metadata": {},
   "source": [
    "We are now ready to perform our EDA. First, we will display the number of days of data for each of the 3 individuals.\n",
    "\n",
    "We will first use the pandas \"to_datetime\" function to convert the column ActivityDay column to a datetime format. This operation because it provides a more accurate counting of the days of the data for each of the 3 individuals. We will then create a list to indicate which are the 3 users that we want to analyse, then use the isin() function to filter the dataframe such that it only contains information for these 3 individuals.\n",
    "\n",
    "To avoid duplicates, we will be using the function .nunique() to indicate to Python to only count the unique number of days, meaning if there are multiple same dates for the particular user, Python will only count as 1 day. \n",
    "\n",
    "(Beginning of Work: 15th September 2024, End of Work: 16th September 2024)"
   ]
  },
  {
   "cell_type": "code",
   "execution_count": 7,
   "id": "9d21945b",
   "metadata": {},
   "outputs": [
    {
     "name": "stdout",
     "output_type": "stream",
     "text": [
      "Id\n",
      "2026352035    31\n",
      "2320127002    31\n",
      "2347167796    18\n",
      "Name: ActivityDay, dtype: int64\n"
     ]
    }
   ],
   "source": [
    "# Convert 'ActivityDay' to datetime format\n",
    "df_day['ActivityDay'] = pd.to_datetime(df_day['ActivityDay'], format='%m/%d/%Y')\n",
    "\n",
    "# The 3 user IDs to analyze\n",
    "userid = [2026352035, 2320127002, 2347167796]\n",
    "\n",
    "# Filter the dataframe to only include the 3 user IDs by creating a new variable dfnew1\n",
    "dfnew1 = df_day[df_day['Id'].isin(userid)]\n",
    "\n",
    "# Count the number of unique days for each user ID using .nunique()\n",
    "result = dfnew1.groupby('Id')['ActivityDay'].nunique()\n",
    "\n",
    "# Printing the results \n",
    "print(result)\n",
    "\n",
    "# (Beginning of Work: 15th September 2024, End of Work: 16th September 2024)"
   ]
  },
  {
   "cell_type": "markdown",
   "id": "28beda2d",
   "metadata": {},
   "source": [
    "### Number of Days of Data - Minute Step Count Dataset"
   ]
  },
  {
   "cell_type": "markdown",
   "id": "8b10e8ad",
   "metadata": {},
   "source": [
    "Since the minute step count dataset is in a wide format where there are multiple dates that are similar for each row, we need to perform one addtional step, which is to create an additional column \"ActivityDate\" such that all the information about the number of minutes of step count for each individual are aggregated into one single date. \n",
    "\n",
    "The purpose of the function dt.date is to extract the date part of the datetime.\n",
    "\n",
    "(Beginning of Work: 15th September 2024, End of Work: 15th September 2024)"
   ]
  },
  {
   "cell_type": "code",
   "execution_count": null,
   "id": "f82c1368",
   "metadata": {},
   "outputs": [],
   "source": [
    "# First, extract the date from the 'ActivityHour' column\n",
    "df_min['ActivityDate'] = pd.to_datetime(df_min['ActivityHour']).dt.date\n",
    "\n",
    "# Filter DataFrame for the specified User IDs\n",
    "dfnew2 = df_min[df_min['Id'].isin(userid)]\n",
    "\n",
    "result2 = dfnew2.groupby('Id')['ActivityDate'].nunique()\n",
    "\n",
    "# Printing the result\n",
    "print(result2)\n",
    "\n",
    "# (Beginning of Work: 15th September 2024, End of Work: 16th September 2024)"
   ]
  },
  {
   "cell_type": "markdown",
   "id": "71c3dcad",
   "metadata": {},
   "source": [
    "For the daily step count dataset, user ID 2026352035 and 2320127002 have a total of 31 days of data. While for user ID 2347167796, there are 18 days of data. \n",
    "\n",
    "As for the minute step count dataset, user ID 2026352035 and 2320127002 have a total of 31 days of data. While for user ID 2347167796, there are only 17 days of data, one short of the daily step count dataset.\n",
    "\n",
    "**Note: This is contrary to the initial assumption where we assume that the number of days of data are the same for each user IDs for both datasets.**\n",
    "\n",
    "(Beginning of Work: 16th September 2024, End of Work: 16th September 2024)"
   ]
  },
  {
   "cell_type": "markdown",
   "id": "83fae43d",
   "metadata": {},
   "source": [
    "### Daily Step Count Information"
   ]
  },
  {
   "cell_type": "markdown",
   "id": "04b9ca3a",
   "metadata": {},
   "source": [
    "We are interested in knowing the daily step count information for each of the 3 individuals. To do this we will be creating a function using \"def\" to avoid any repetitive code. For the following code, we will be defining our function as \"dailyinfo\". This function takes in two arguments, df_day and userid. \"df_day\" is a dataframe that contains information within the daily step count dataset, while \"userid\" compiles the list of the users that will be used for this analysis.\n",
    "\n",
    "The function isin() would filter our analysis for the 3 individuals only as mentioned earlier. We will then get the average step count per day using the function mean(), the maximum step count using max(), the minimum step count using min(), and one additional observation which is the standard deviation using std(). \n",
    "\n",
    "We will then use 'return' to tell Python to send back the results to the function that was defined earlier. \n",
    "\n",
    "(Beginning of Work: 16th September 2024, End of Work: 16th September 2024)"
   ]
  },
  {
   "cell_type": "code",
   "execution_count": 17,
   "id": "19c95b1e",
   "metadata": {},
   "outputs": [],
   "source": [
    "# Defining a function that takes in the 2 arguments: \"df_day\" & \"userid\"\n",
    "def dailyinfo(df_day, userid):\n",
    "    # Using the isin() function to filter users within the list that was mentioned earlier\n",
    "    dfnew1 = df_day[df_day['Id'].isin(userid)] \n",
    "    \n",
    "    averageday = dfnew1.groupby('Id')['StepTotal'].mean() # Average step counts per day\n",
    "    maxday = dfnew1.groupby('Id')['StepTotal'].max() # Maximum step count\n",
    "    minday = dfnew1.groupby('Id')['StepTotal'].min() # Minimum step count\n",
    "    stdday = dfnew1.groupby('Id')['StepTotal'].std() # Standard Deviation \n",
    "    \n",
    "    # Sending back the results to the function \n",
    "    return averageday, maxday, minday, stdday\n",
    "\n",
    "# (Beginning of Work: 16th September 2024, End of Work: 16th September 2024)"
   ]
  },
  {
   "cell_type": "code",
   "execution_count": 18,
   "id": "a4599bc0",
   "metadata": {},
   "outputs": [
    {
     "name": "stdout",
     "output_type": "stream",
     "text": [
      "Average Step Count per Day:\n",
      " Id\n",
      "2026352035    5566.870968\n",
      "2320127002    4716.870968\n",
      "2347167796    9519.666667\n",
      "Name: StepTotal, dtype: float64\n",
      "Maximum Step Count per Day:\n",
      " Id\n",
      "2026352035    12357\n",
      "2320127002    10725\n",
      "2347167796    22244\n",
      "Name: StepTotal, dtype: int64\n",
      "Minimum Step Count per Day:\n",
      " Id\n",
      "2026352035    254\n",
      "2320127002    772\n",
      "2347167796     42\n",
      "Name: StepTotal, dtype: int64\n",
      "Standard Deviation of Step Count:\n",
      " Id\n",
      "2026352035    2977.834815\n",
      "2320127002    2254.614642\n",
      "2347167796    4682.093700\n",
      "Name: StepTotal, dtype: float64\n"
     ]
    }
   ],
   "source": [
    "# Receiving the results\n",
    "averageday, maxday, minday, stdday = dailyinfo(df_day, userid)\n",
    "\n",
    "# Printing the information\n",
    "print(\"Average Step Count per Day:\\n\", averageday)\n",
    "\n",
    "print(\"Maximum Step Count per Day:\\n\", maxday)\n",
    "\n",
    "print(\"Minimum Step Count per Day:\\n\", minday)\n",
    "\n",
    "print(\"Standard Deviation of Step Count:\\n\", stdday)\n",
    "\n",
    "# (Beginning of Work: 16th September 2024, End of Work: 16th September 2024)"
   ]
  },
  {
   "cell_type": "markdown",
   "id": "d9f81136",
   "metadata": {},
   "source": [
    "The summary statistics for each user ID are as follows:\n",
    "\n",
    "**User ID: 2026352035**\n",
    "\n",
    "- Average Step Count Per Day: Approximately 5567 steps\n",
    "- Maximum Step Count: 12357 steps\n",
    "- Minimum Step Count: 254 steps\n",
    "- Standard Deviation of Step Count: 2977.83\n",
    "\n",
    "Observation: It looks like this person is fairly active with a average step count of just over 5000 steps, with their most active day recorded with 12357 steps. \n",
    "\n",
    "**User ID: 2320127002**\n",
    "\n",
    "- Average Step Count Per Day: Approximately 4717 steps\n",
    "- Maximum Step Count: 10725 steps\n",
    "- Minimum Step Count: 772 steps\n",
    "- Standard Deviation of Step Count: 2254.61\n",
    "\n",
    "Observation: This person could be more active as their average step count is just below 5000, at 4717 steps. \n",
    "\n",
    "**User ID: 2347167796**\n",
    "\n",
    "- Average Step Count Per Day: Approximately 9520 steps\n",
    "- Maximum Step Count: 22244 steps\n",
    "- Minimum Step Count: 42 steps\n",
    "- Standard Deviation of Step Count: 4682.09\n",
    "\n",
    "Observation: This person is very active with an average step count per day of 9520 steps, which is just a few hundred steps short of 10,000 steps as recommended by many health experts. The standard deviation for user ID: 2347167796 is high, which suggests that it fluctuates quite a lot compared to other 2 individuals which have lesser variation. \n",
    "\n",
    "(Beginning of Work: 16th September 2024, End of Work: 16th September 2024)"
   ]
  },
  {
   "cell_type": "markdown",
   "id": "4cede5c1",
   "metadata": {},
   "source": [
    "### Minute Step Count Information"
   ]
  },
  {
   "cell_type": "markdown",
   "id": "83274a1e",
   "metadata": {},
   "source": [
    "Previously, we have converted our the ActivityDay column into datetime for a more accurate counting of the number of days in the dataset. We now need to reverse this action as Python is unable to compare things like > 0 between datetime values and integers. We will then reload the minute step count dataset and define a new variable df_min2. \n",
    "\n",
    "The process to obtain information of the average steps per minute, and the maximum and minimum steps are similar to the daily step count dataset, with the exception of that the commands such as .mean() are repeated again to use all the information for each minute in each column to calculate the relevant statistics. \n",
    "\n",
    "As the relevant data starts from column 3, we will use the function iloc[:, 2:] to inidicate that we want to generate the statistics from column 3 onwards. We will then return the function for each user individually and print the results in 3 seperate code blocks. \n",
    "\n",
    "The one additional observation that I've made for each person is the total number of minutes that the user is active. This figure will give me a preliminary insight on how active each of the 3 individuals are. \n",
    "\n",
    "(Beginning of Work: 16th September 2024, End of Work: 16th September 2024)"
   ]
  },
  {
   "cell_type": "code",
   "execution_count": 52,
   "id": "5cbeb924",
   "metadata": {},
   "outputs": [
    {
     "name": "stdout",
     "output_type": "stream",
     "text": [
      "User ID: 2026352035\n",
      "\n",
      "Non-zero minutes: 8022\n",
      "Average steps per minute: 3.9721307727480566\n",
      "Maximum Step Count Per Minute: 125\n",
      "Minimum Step Count Per Minute: 0\n",
      "Missing Data Points: 0\n",
      "Total active minutes: 8022\n"
     ]
    }
   ],
   "source": [
    "# Loading the dataset\n",
    "df_min2 = pd.read_csv(\"minuteStepsWide_merged.csv\")\n",
    "\n",
    "# Displaying the dataset\n",
    "df_min2\n",
    "\n",
    "# Defining the function \n",
    "def minuteinfo(df_min2, user_id):\n",
    "    dfnew2 = df_min2[df_min2['Id'] == user_id]\n",
    "    \n",
    "    nonzero = (dfnew2.iloc[:, 2:] > 0).sum().sum() # Number of non-zero minutes\n",
    "    averageminute = dfnew2.iloc[:, 2:].mean().mean() # Average steps per minute \n",
    "    maxminute = dfnew2.iloc[:, 2:].max().max() # Maximum number of steps\n",
    "    minminute = dfnew2.iloc[:, 2:].min().min() # Minimum number of steps\n",
    "    missing = dfnew2.isna().sum().sum() # The number of missing data\n",
    "    totalminute = (dfnew2.iloc[:, 2:] > 0).sum().sum() # The total number of minutes that the user is active\n",
    "    \n",
    "    # Returning the results to the function\n",
    "    return nonzero, averageminute, maxminute, minminute, missing, totalminute\n",
    "\n",
    "# Returning the results for User ID: 2026352035\n",
    "nonzero1, averageminute1, maxminute1, minminute1, missing1, totalminute1 = minuteinfo(df_min2, 2026352035)\n",
    "\n",
    "print(\"User ID: 2026352035\\n\")\n",
    "print(\"Non-zero minutes:\", nonzero1)\n",
    "print(\"Average steps per minute:\", averageminute1)\n",
    "print(\"Maximum Step Count Per Minute:\", maxminute1)\n",
    "print(\"Minimum Step Count Per Minute:\", minminute1)\n",
    "print(\"Missing Data Points:\", missing1)\n",
    "print(\"Total active minutes:\", totalminute1)\n",
    "\n",
    "# (Beginning of Work: 16th September 2024, End of Work: 16th September 2024)"
   ]
  },
  {
   "cell_type": "code",
   "execution_count": 54,
   "id": "4f4c7786",
   "metadata": {},
   "outputs": [
    {
     "name": "stdout",
     "output_type": "stream",
     "text": [
      "User ID: 2320127002\n",
      "\n",
      "Non-zero minutes: 6079\n",
      "Average steps per minute: 3.1616140832190216\n",
      "Maximum Step Count Per Minute: 123\n",
      "Minimum Step Count Per Minute: 0\n",
      "Missing Data Points: 0\n",
      "Total active minutes: 6079\n"
     ]
    }
   ],
   "source": [
    "# Returning the results for User ID: 2320127002\n",
    "nonzero2, averageminute2, maxminute2, minminute2, missing2, totalminute2 = minuteinfo(df_min2, 2320127002)\n",
    "\n",
    "print(\"User ID: 2320127002\\n\")\n",
    "print(\"Non-zero minutes:\", nonzero2)\n",
    "print(\"Average steps per minute:\", averageminute2)\n",
    "print(\"Maximum Step Count Per Minute:\", maxminute2)\n",
    "print(\"Minimum Step Count Per Minute:\", minminute2)\n",
    "print(\"Missing Data Points:\", missing2)\n",
    "print(\"Total active minutes:\", totalminute2)\n",
    "\n",
    "# (Beginning of Work: 16th September 2024, End of Work: 16th September 2024)"
   ]
  },
  {
   "cell_type": "code",
   "execution_count": 55,
   "id": "0610582f",
   "metadata": {},
   "outputs": [
    {
     "name": "stdout",
     "output_type": "stream",
     "text": [
      "User ID: 2347167796\n",
      "\n",
      "Non-zero minutes: 4580\n",
      "Average steps per minute: 6.889914529914529\n",
      "Maximum Step Count Per Minute: 167\n",
      "Minimum Step Count Per Minute: 0\n",
      "Missing Data Points: 0\n",
      "Total active minutes: 4580\n"
     ]
    }
   ],
   "source": [
    "# Returning the results for User ID: 2347167796\n",
    "nonzero3, averageminute3, maxminute3, minminute3, missing3, totalminute3 = minuteinfo(df_min2, 2347167796)\n",
    "\n",
    "print(\"User ID: 2347167796\\n\")\n",
    "print(\"Non-zero minutes:\", nonzero3)\n",
    "print(\"Average steps per minute:\", averageminute3)\n",
    "print(\"Maximum Step Count Per Minute:\", maxminute3)\n",
    "print(\"Minimum Step Count Per Minute:\", minminute3)\n",
    "print(\"Missing Data Points:\", missing3)\n",
    "print(\"Total active minutes:\", totalminute3)\n",
    "\n",
    "# (Beginning of Work: 16th September 2024, End of Work: 16th September 2024)"
   ]
  },
  {
   "cell_type": "markdown",
   "id": "63ef8402",
   "metadata": {},
   "source": [
    "Observation: \n",
    "\n",
    "User ID 2347167796 seems to be the most active as analysed from the minute step count dataset where they have recorded approximately 7 steps per minute. This finding is consistent with the daily step count data. Moreover, there are no missing data points which is also consistent with our previous finding.\n",
    "\n",
    "It's interesting to see that while user ID 2347167796 does not have the highest number of minutes active (in fact the lowest). However, they have the highest average steps per minute which is a far more accurate representation of being active. \n",
    "\n",
    "(Beginning of Work: 16th September 2024, End of Work: 16th September 2024)"
   ]
  },
  {
   "cell_type": "markdown",
   "id": "d2b23dde",
   "metadata": {},
   "source": [
    "### Final Statement & Relationship to the Driving Problem"
   ]
  },
  {
   "cell_type": "markdown",
   "id": "8623c4b1",
   "metadata": {},
   "source": [
    "From the data exploration, I've learnt that the majority of the users here are not really walking actively as their step counts are significantly below the recommended number of steps to walk per day by health experts. However, it is important to note that with such a small sample size, it is naive to deduce the fact that the users in the entire dataset are not actively walking.\n",
    "\n",
    "The analysis performed above relates to the driving problem well, especially the part where zero values and NAN values are being checked. Having zero values in the dataset is something that we need to be aware of. Sometimes it may indicate the user might forgot the wear their devices when walking, but there are also times where the user simply do not walk. This is a crucial finding for further stages of the analysis, and this is something that needs to be taken into account when conducting further analysis. \n",
    "\n",
    "Finally, while user ID no. 2347167796 seems to be most active according to the summary statistics, it is not possible to conclude at this stage that this user is an active individual, due to the earlier assumption violation. This problem will need to be addressed at later stages. \n",
    "\n",
    "(Beginning of Work: 16th September 2024, End of Work: 16th September 2024)"
   ]
  },
  {
   "cell_type": "markdown",
   "id": "dbba5bb7",
   "metadata": {},
   "source": [
    "## References"
   ]
  },
  {
   "cell_type": "markdown",
   "id": "64297c52",
   "metadata": {},
   "source": [
    "Alexander, T. 2024. COSC2902: Computational Modelling (Advanced). The University of Sydney\n",
    "Available at: https://canvas.sydney.edu.au/courses/56907/pages/week-2-simulating-randomness?module_item_id=2196702\n",
    "\n",
    "Poon, J. 2023. DATA1902: Informatics: Data and Computation (Advanced). The University of Sydney\n",
    "Available at: https://edstem.org/au/courses/12221/lessons/38247/slides/265109\n",
    "\n",
    "(Beginning of Work: 16th September 2024, End of Work: 16th September 2024)"
   ]
  },
  {
   "cell_type": "markdown",
   "id": "349a0742",
   "metadata": {},
   "source": [
    "## Acknowledgement of the use of AI"
   ]
  },
  {
   "cell_type": "markdown",
   "id": "8049131f",
   "metadata": {},
   "source": [
    "The code was generated using generative AI (GAI), specifically Open AI ChatGPT. The prompts used and the the time of content generated are as follows:\n",
    "\n",
    "- \"Provide one other information other than the mean, maximum and minimum step count for the steps per day dataset\" (Generated at: 2:24pm, 16th September 2024).\n",
    "\n",
    "\n",
    "- \"Provide one other information other than the mean, maximum and minimum step count, non-zero minutes, and missing data for the steps per minute dataset\" (Generated at: 4:08pm, 16th September 2024). \n",
    "\n",
    "\n",
    "- \"How should I filter the users defined above as \"userid = [2026352035, 2320127002, 2347167796]\". (Generated at: 9:34pm, 15th September 2024). \n",
    "\n",
    "\n",
    "- \"How should I generate the mean, maximum and minimum step count and non-zero minutes for the steps per minute dataset for each user ID\". (Generated at: 2:56pm, 16th September 2024). \n",
    "\n",
    "\n",
    "There was a mixutre of codes that was used directly, that is for the first 2 commands. While for the last 2 commands, some parts of codes generated by AI were used, with some modifications made using concepts from DATA1902, and COSC2902. Specifically, the parts of code used from AI is where I applied used the function \"iloc\", and also the part where I want to generate the statistics by user ID.\n",
    "\n",
    "(Beginning of Work: 16th September 2024, End of Work: 16th September 2024)"
   ]
  }
 ],
 "metadata": {
  "kernelspec": {
   "display_name": "Python 3 (ipykernel)",
   "language": "python",
   "name": "python3"
  },
  "language_info": {
   "codemirror_mode": {
    "name": "ipython",
    "version": 3
   },
   "file_extension": ".py",
   "mimetype": "text/x-python",
   "name": "python",
   "nbconvert_exporter": "python",
   "pygments_lexer": "ipython3",
   "version": "3.11.4"
  }
 },
 "nbformat": 4,
 "nbformat_minor": 5
}
