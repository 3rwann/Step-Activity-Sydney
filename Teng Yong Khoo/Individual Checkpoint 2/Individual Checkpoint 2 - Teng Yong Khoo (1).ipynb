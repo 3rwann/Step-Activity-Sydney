{
 "cells": [
  {
   "cell_type": "markdown",
   "id": "df6f2748",
   "metadata": {},
   "source": [
    "# Assignment 2 - Individual Checkpoint 2\n",
    "\n",
    "## Group ID: CC08-3\n",
    "\n",
    "## Driving Problem: Do they avoid inactivity in at least 10 hours a day?\n",
    "\n",
    "## Link to Personal Planning and Progress Github wiki page: \n",
    "\n",
    "https://github.sydney.edu.au/jlin4572/2024-DATA3406-CC08-Group03/wiki/Teng-Yong-Khoo's-Page\n",
    "\n",
    "## List of Database ID of the three people explored in Checkpoint 1: 2026352035, 2320127002, 2347167796\n",
    "\n",
    "## ID to be reported in Checkpoint 2: 2026352035\n",
    "\n",
    "### Method of Conducting the Analysis for this person's data: \n",
    "\n",
    "### 1. Determining whether to keep or discard the zeros in the dataset by visualizing a boxplot that displays the distribution of the sum of zeros for each hour in the dataset. \n",
    "\n",
    "### 2. After deciding whether to keep or discard the zeros, we will generate a boxplot with a threshold of 5000 steps per day (equivalent to 208 steps per hour), and observe if the majority of the portion of boxplot falls below or above the threshold."
   ]
  },
  {
   "cell_type": "markdown",
   "id": "ce592838",
   "metadata": {},
   "source": [
    "## Section 1: Gaining Familarity with the Data "
   ]
  },
  {
   "cell_type": "markdown",
   "id": "6fdff46d",
   "metadata": {},
   "source": [
    "### Background & Purpose of the Analysis"
   ]
  },
  {
   "cell_type": "markdown",
   "id": "013221c2",
   "metadata": {},
   "source": [
    "In Individual Checkpoint 1, we have noticed that there are a substantial number of zeros that has appeared in the hourly step count dataset through preliminary observations. It was believed that some of these might be potential outliers that should be excluded from performing the analysis. \n",
    "\n",
    "As such, we need to conduct a thorough analysis to decide whether or not to keep the zeros or discard them. This can be done by visualizing a boxplot the shows the distribution of the sum of zeros for each hour in the dataset. \n",
    "\n",
    "We will also be visualizing a boxplot\n",
    "\n",
    "(Beginning of Work: 1st October 2024, End of Work: 8th October 2024)"
   ]
  },
  {
   "cell_type": "markdown",
   "id": "9e58d609",
   "metadata": {},
   "source": [
    "### Loading the Packages"
   ]
  },
  {
   "cell_type": "markdown",
   "id": "99ad7d91",
   "metadata": {},
   "source": [
    "Let's load the neccessary packages in Python to conduct the analysis for Individual Checkpoint 2!\n",
    "\n",
    "(Beginning of Work: 1st October 2024, End of Work: 1st October 2024)"
   ]
  },
  {
   "cell_type": "code",
   "execution_count": 1,
   "id": "a7f7b4aa",
   "metadata": {},
   "outputs": [],
   "source": [
    "# Importing the neccessary packages\n",
    "import pandas as pd \n",
    "import numpy as np\n",
    "import matplotlib.pyplot as plt\n",
    "import plotly.express as px\n",
    "import plotly.graph_objects as go\n",
    "\n",
    "# (Beginning of Work: 1st October 2024, End of Work: 1st October 2024)"
   ]
  },
  {
   "cell_type": "markdown",
   "id": "8687984e",
   "metadata": {},
   "source": [
    "### Loading the Dataset"
   ]
  },
  {
   "cell_type": "markdown",
   "id": "53e6dfdf",
   "metadata": {},
   "source": [
    "For this analysis for Individual Checkpoint 2, we will be specifically focusing on the hourly step count dataset. We would load the dataset by using the pd.read_csv function from pandas.\n",
    "\n",
    "(Beginning of Work: 1st October 2024, End of Work: 1st October 2024)"
   ]
  },
  {
   "cell_type": "code",
   "execution_count": 2,
   "id": "e4efd640",
   "metadata": {},
   "outputs": [
    {
     "data": {
      "text/html": [
       "<div>\n",
       "<style scoped>\n",
       "    .dataframe tbody tr th:only-of-type {\n",
       "        vertical-align: middle;\n",
       "    }\n",
       "\n",
       "    .dataframe tbody tr th {\n",
       "        vertical-align: top;\n",
       "    }\n",
       "\n",
       "    .dataframe thead th {\n",
       "        text-align: right;\n",
       "    }\n",
       "</style>\n",
       "<table border=\"1\" class=\"dataframe\">\n",
       "  <thead>\n",
       "    <tr style=\"text-align: right;\">\n",
       "      <th></th>\n",
       "      <th>Id</th>\n",
       "      <th>ActivityHour</th>\n",
       "      <th>StepTotal</th>\n",
       "    </tr>\n",
       "  </thead>\n",
       "  <tbody>\n",
       "    <tr>\n",
       "      <th>0</th>\n",
       "      <td>1503960366</td>\n",
       "      <td>4/12/2016 12:00:00 AM</td>\n",
       "      <td>373</td>\n",
       "    </tr>\n",
       "    <tr>\n",
       "      <th>1</th>\n",
       "      <td>1503960366</td>\n",
       "      <td>4/12/2016 1:00:00 AM</td>\n",
       "      <td>160</td>\n",
       "    </tr>\n",
       "    <tr>\n",
       "      <th>2</th>\n",
       "      <td>1503960366</td>\n",
       "      <td>4/12/2016 2:00:00 AM</td>\n",
       "      <td>151</td>\n",
       "    </tr>\n",
       "    <tr>\n",
       "      <th>3</th>\n",
       "      <td>1503960366</td>\n",
       "      <td>4/12/2016 3:00:00 AM</td>\n",
       "      <td>0</td>\n",
       "    </tr>\n",
       "    <tr>\n",
       "      <th>4</th>\n",
       "      <td>1503960366</td>\n",
       "      <td>4/12/2016 4:00:00 AM</td>\n",
       "      <td>0</td>\n",
       "    </tr>\n",
       "    <tr>\n",
       "      <th>...</th>\n",
       "      <td>...</td>\n",
       "      <td>...</td>\n",
       "      <td>...</td>\n",
       "    </tr>\n",
       "    <tr>\n",
       "      <th>22094</th>\n",
       "      <td>8877689391</td>\n",
       "      <td>5/12/2016 10:00:00 AM</td>\n",
       "      <td>514</td>\n",
       "    </tr>\n",
       "    <tr>\n",
       "      <th>22095</th>\n",
       "      <td>8877689391</td>\n",
       "      <td>5/12/2016 11:00:00 AM</td>\n",
       "      <td>1407</td>\n",
       "    </tr>\n",
       "    <tr>\n",
       "      <th>22096</th>\n",
       "      <td>8877689391</td>\n",
       "      <td>5/12/2016 12:00:00 PM</td>\n",
       "      <td>3135</td>\n",
       "    </tr>\n",
       "    <tr>\n",
       "      <th>22097</th>\n",
       "      <td>8877689391</td>\n",
       "      <td>5/12/2016 1:00:00 PM</td>\n",
       "      <td>307</td>\n",
       "    </tr>\n",
       "    <tr>\n",
       "      <th>22098</th>\n",
       "      <td>8877689391</td>\n",
       "      <td>5/12/2016 2:00:00 PM</td>\n",
       "      <td>457</td>\n",
       "    </tr>\n",
       "  </tbody>\n",
       "</table>\n",
       "<p>22099 rows × 3 columns</p>\n",
       "</div>"
      ],
      "text/plain": [
       "               Id           ActivityHour  StepTotal\n",
       "0      1503960366  4/12/2016 12:00:00 AM        373\n",
       "1      1503960366   4/12/2016 1:00:00 AM        160\n",
       "2      1503960366   4/12/2016 2:00:00 AM        151\n",
       "3      1503960366   4/12/2016 3:00:00 AM          0\n",
       "4      1503960366   4/12/2016 4:00:00 AM          0\n",
       "...           ...                    ...        ...\n",
       "22094  8877689391  5/12/2016 10:00:00 AM        514\n",
       "22095  8877689391  5/12/2016 11:00:00 AM       1407\n",
       "22096  8877689391  5/12/2016 12:00:00 PM       3135\n",
       "22097  8877689391   5/12/2016 1:00:00 PM        307\n",
       "22098  8877689391   5/12/2016 2:00:00 PM        457\n",
       "\n",
       "[22099 rows x 3 columns]"
      ]
     },
     "execution_count": 2,
     "metadata": {},
     "output_type": "execute_result"
    }
   ],
   "source": [
    "# Loading the dataset\n",
    "df_hour = pd.read_csv(\"hourlySteps_merged.csv\")\n",
    "\n",
    "# Displaying the dataset\n",
    "df_hour\n",
    "\n",
    "# (Beginning of Work: 1st October 2024, End of Work: 1st October 2024)"
   ]
  },
  {
   "cell_type": "markdown",
   "id": "452f0732",
   "metadata": {},
   "source": [
    "In Individual Checkpoint 1, we've focused on three different individuals to analyse and conduct our analysis. The following block of code would display the user IDs of the three individuals that were analysed in Individual Checkpoint 1."
   ]
  },
  {
   "cell_type": "code",
   "execution_count": 3,
   "id": "1e4971f9",
   "metadata": {},
   "outputs": [
    {
     "name": "stdout",
     "output_type": "stream",
     "text": [
      "The three User ID's in Individual Checkpoint 1 is: 2026352035 2320127002 2347167796\n"
     ]
    }
   ],
   "source": [
    "# Filtering duplicate user IDs using unique()\n",
    "indexhour = df_hour[\"Id\"].unique()\n",
    "\n",
    "# Printing the ID\n",
    "print(\"The three User ID's in Individual Checkpoint 1 is:\", indexhour[6], indexhour[7], indexhour[8])\n",
    "\n",
    "# (Beginning of Work: 1st October 2024, End of Work: 1st October 2024)"
   ]
  },
  {
   "cell_type": "markdown",
   "id": "ffb78084",
   "metadata": {},
   "source": [
    "### One Selected ID"
   ]
  },
  {
   "cell_type": "markdown",
   "id": "a1b2fd48",
   "metadata": {},
   "source": [
    "For Individual Checkpoint 2, we will be focusing on just one student ID. The ID that is being selected for this checkpoint is **2026352035**. \n",
    "\n",
    "This ID was selected on the basis that it has the highest standard deviation among the 2 IDs that have the same number of days of data for all datasets which provides more clues on the patterns and behaviours. ID number 2347167796 was filtered out because it does not have the same number of days of data which violates the assumption of having the same of number of days for Individual Checkpoint 1.\n",
    "\n",
    "Even though only the hourly dataset is being used in this checkpoint, it is still sensible to filter out ID number 2347167796, as inconsistencies in the number of days in different datasets tells us that an omission might be possible for this particular ID which could affect the overall reliability of the analysis.\n",
    "\n",
    "The code below shows how to select the relevant ID from the 'ID' column of the hourly step count dataset.\n",
    "\n",
    "(Beginning of Work: 1st October 2024, End of Work: 1st October 2024)"
   ]
  },
  {
   "cell_type": "code",
   "execution_count": 4,
   "id": "b0f61bb5",
   "metadata": {},
   "outputs": [],
   "source": [
    "oneid = df_hour[df_hour['Id'] == 2026352035]"
   ]
  },
  {
   "cell_type": "markdown",
   "id": "c85e7c5b",
   "metadata": {},
   "source": [
    "### Initial Assumptions"
   ]
  },
  {
   "cell_type": "markdown",
   "id": "1e208b0f",
   "metadata": {},
   "source": [
    "- Each individual has 6 hours of sleep between 12am - 6am (where zero values are valid)\n",
    "\n",
    "- There are no missing values\n",
    "\n",
    "(Beginning of Work: 2nd October 2024, End of Work: 2nd October 2024)"
   ]
  },
  {
   "cell_type": "markdown",
   "id": "f2f5b317",
   "metadata": {},
   "source": [
    "### Initial Predictions"
   ]
  },
  {
   "cell_type": "markdown",
   "id": "b01a819c",
   "metadata": {},
   "source": [
    "- The zeros are indeed as a result of natural inactivity. As mentioned above, most of the zeros seem to occur during a period where most individuals are asleep, which are between 12am - 6am. This supports the initial prediction that the zeros truly represents the number of step counts for this individual.\n",
    "\n",
    "(Beginning of Work: 2nd October 2024, End of Work: 2nd October 2024)"
   ]
  },
  {
   "cell_type": "markdown",
   "id": "00d38311",
   "metadata": {},
   "source": [
    "## Section 2: Exploratory Data Analysis (EDA)"
   ]
  },
  {
   "cell_type": "markdown",
   "id": "8a8c72af",
   "metadata": {},
   "source": [
    "Before we begin the EDA, we will need to ensure that the dataset does not contain any missing values, as this would affect the overall credibility of the analysis. \n",
    "\n",
    "We will be using the isna.sum() function to detect whether there are any NAN values in the hourly step count dataset for the column \"StepTotal\". \n",
    "\n",
    "(Beginning of Work: 2nd October 2024, End of Work: 2nd October 2024)"
   ]
  },
  {
   "cell_type": "code",
   "execution_count": 5,
   "id": "633e47ea",
   "metadata": {},
   "outputs": [
    {
     "data": {
      "text/plain": [
       "0"
      ]
     },
     "execution_count": 5,
     "metadata": {},
     "output_type": "execute_result"
    }
   ],
   "source": [
    "# Using the isna.sum() function to determine if there's any NAN values in the \"StepTotal\" column\n",
    "nanhour = df_hour[\"StepTotal\"].isna().sum()\n",
    "\n",
    "# Print the result\n",
    "nanhour\n",
    "\n",
    "# (Beginning of Work: 2nd October 2024, End of Work: 2nd October 2024)"
   ]
  },
  {
   "cell_type": "markdown",
   "id": "0106504e",
   "metadata": {},
   "source": [
    "Looks like there's some good news! There are no NAN values in the \"StepTotal\" column in the hourly step count dataset which means the assumption of no missing values is fulfilled, and we can proceed with the analysis as usual.\n",
    "\n",
    "(Beginning of Work: 2nd October 2024, End of Work: 2nd October 2024)"
   ]
  },
  {
   "cell_type": "markdown",
   "id": "0bf01137",
   "metadata": {},
   "source": [
    "## Section 3: Data Visualization"
   ]
  },
  {
   "cell_type": "markdown",
   "id": "6bf5f012",
   "metadata": {},
   "source": [
    "### Bar Plot"
   ]
  },
  {
   "cell_type": "markdown",
   "id": "0cfe22c1",
   "metadata": {},
   "source": [
    "We will first generate a **barplot** to determine whether to keep or discard the zeros. We are specifically interested in looking whether or not the majority of the zeros are concentrated between 12am - 6am. This would tell us that zeros are very likely to be valid as we would expect no footsteps to be recorded when the individual is sleeping, and that it should be kept. \n",
    "\n",
    "To make our plots interactive such that users are able use interactive features like hovering or zoom in and out if they wish, we will be using the Plotly package to generate the visualization.\n",
    "\n",
    "(Beginning of Work: 5th October 2024, End of Work: 8th October 2024)"
   ]
  },
  {
   "cell_type": "code",
   "execution_count": null,
   "id": "3abed0d8",
   "metadata": {},
   "outputs": [],
   "source": [
    "# Convert ActivityHour into datetime format\n",
    "df_hour['ActivityHour'] = pd.to_datetime(df_hour['ActivityHour'])\n",
    "\n",
    "# Extracting Hour for the column 'ActivityHour' in the dataset\n",
    "df_hour['Hour'] = df_hour['ActivityHour'].dt.hour\n",
    "\n",
    "# Selecting the user that we are interested\n",
    "oneid = df_hour[df_hour['Id'] == 2026352035]\n",
    "\n",
    "# Filter the data to only select rows where StepTotal is zero\n",
    "idzeros = oneid[oneid['StepTotal'] == 0]\n",
    "\n",
    "# Group by hour to count the number of zeros at each hour\n",
    "# reset_index() would reset to the default integer, as groupby() operations may have been modified\n",
    "zerohour = idzeros.groupby('Hour')['StepTotal'].count().reset_index() \n",
    "\n",
    "# Renaming the columns \n",
    "zerohour.columns = ['Hour', 'Number of Zeros']\n",
    "\n",
    "# Plotting the distribution of the zeros by hour with a barplot. \n",
    "viz1 = px.bar(zerohour, x = 'Hour', y = 'Number of Zeros',\n",
    "             title = f'The Distribution of Zeros by Hour of the Day for User ID: 2026352035',\n",
    "             labels = {'Number of Zeros': 'Number of Zeros', 'Hour': 'Hour of the Day'},\n",
    "             text = 'Number of Zeros')\n",
    "\n",
    "# Updating the colour of the plot using update_traces from the Plotly package to red\n",
    "viz1.update_traces(marker_color = 'red')\n",
    "\n",
    "# Show the interactive plot\n",
    "viz1.show()\n",
    "\n",
    "# (Beginning of Work: 5th October 2024, End of Work: 5th October 2024)"
   ]
  },
  {
   "attachments": {
    "newplot.png": {
     "image/png": "[encoded data removed]"
    }
   },
   "cell_type": "markdown",
   "id": "303ddb55",
   "metadata": {},
   "source": [
    "![newplot.png](attachment:newplot.png)"
   ]
  },
  {
   "cell_type": "markdown",
   "id": "03920e0a",
   "metadata": {},
   "source": [
    "### Interpretation of the Plot"
   ]
  },
  {
   "cell_type": "markdown",
   "id": "f147d485",
   "metadata": {},
   "source": [
    "The 0th hour of the day represent 12am for any given day, and the 1st hour being 1am, 2nd hour being 2am and etc. The numbers displayed on each hour of the barplot are the cumulative sum of the number of zeros for all the days contained in the hourly step count dataset for each hour. \n",
    "\n",
    "There are a total of 199 zeros that are recorded in the dataset. Notice that 151 of those zeros (which represents 75.88% of the total number of zeros) are concentrated in the first 6 hours, which are between 12am - 6am. \n",
    "\n",
    "Since most of the zeros are during an individual's sleep time (between 12am - 6am), we would **keep** the zeros in our dataset, and conclude that they are not outliers, and therefore should be included to approach other issues done by other group members for the driving problem. \n",
    "\n",
    "(Beginning of Work: 5th October 2024, End of Work: 5th October 2024)"
   ]
  },
  {
   "cell_type": "markdown",
   "id": "2257d3eb",
   "metadata": {},
   "source": [
    "### Boxplot"
   ]
  },
  {
   "cell_type": "markdown",
   "id": "642a0771",
   "metadata": {},
   "source": [
    "Now that we have determined that we should include the zeros when performing the analysis, let's observe if the user selected avoids inactivity for at least 10 hours a day. \n",
    "\n",
    "A threshold for being inactive is 5,000 steps per day which equates to approximately 208 steps per hour. \n",
    "\n",
    "The calculation are as follows: 5000/24 = 208.33 steps. We are being conservative here by rounding down to 208, as we consider .33 a incomplete step.\n",
    "\n",
    "We will generate a boxplot that shows the median, first quartile, and third quartile. If the majority of the data is below the 10 active hour threshold where the user take less than 208 steps per hour (that is indicated by a red line), then the user does not generally avoid inactivity. \n",
    "\n",
    "(Beginning of Work: 8th October 2024, End of Work: 8th October 2024)"
   ]
  },
  {
   "cell_type": "code",
   "execution_count": null,
   "id": "8c30f680",
   "metadata": {},
   "outputs": [],
   "source": [
    "# Adding a 'Date' column to the data\n",
    "oneid['Date'] = oneid['ActivityHour'].dt.date\n",
    "\n",
    "# Groupby the date to calculate the number of active hours with a threshold of 208 steps per hour\n",
    "# reset_index() would reset to the default integer, as groupby() operations may have been modified\n",
    "activehour = oneid.groupby('Date').apply(lambda x: (x['StepTotal'] >= 208).sum()).reset_index(name='ActiveHours')\n",
    "\n",
    "# Creating the interactive boxplot with Plotly \n",
    "viz2 = px.box(activehour, y = 'ActiveHours', points = \"all\", \n",
    "             title = 'Distribution of Active Hours Per Day (Red Line = Threshold of 208 steps per hour)',\n",
    "             labels = {'ActiveHours': 'Number of Active Hours'})\n",
    "\n",
    "# Add a horizontal line to indicate the 10-hour target\n",
    "viz2.add_shape(type = \"line\", x0 = 0, x1 = 1, y0 = 10, y1 = 10, line=dict(color = \"Red\", width = 2, dash = \"dash\"), \n",
    "              xref = 'paper', yref = 'y')\n",
    "\n",
    "# Updating the colour of the plot using update_traces from the Plotly package to red\n",
    "viz2.update_traces(marker_color = 'green')\n",
    "\n",
    "# Show the plot\n",
    "viz2.show()\n",
    "\n",
    "# (Beginning of Work: 8th October 2024, End of Work: 8th October 2024)"
   ]
  },
  {
   "attachments": {
    "newplot%20%283%29.png": {
     "image/png": "[encoded data removed]"
    }
   },
   "cell_type": "markdown",
   "id": "d66454ef",
   "metadata": {},
   "source": [
    "![newplot%20%283%29.png](attachment:newplot%20%283%29.png)"
   ]
  },
  {
   "cell_type": "markdown",
   "id": "01e82988",
   "metadata": {},
   "source": [
    "### Interpretation of the Plot"
   ]
  },
  {
   "cell_type": "markdown",
   "id": "acd3a8ef",
   "metadata": {},
   "source": [
    "By looking at this boxplot, we observe some outliers that indicates very low active hours. However, we will not remove them as we previously determined from the barplot that the data is believed to be a true representation of the person's activeness level.\n",
    "\n",
    "The red line indicates the 10 active hours threshold, where the user is considered active if the users walks at least 208 steps per hour. The median appears to be exactly 10 hours, however we noticed that the majority of the portion of the boxplot is below the red line which indicates that the user falls below the 10 active hours per day target for most of the time. \n",
    "\n",
    "**Therefore, we conclude that this user does not avoid inactivity for at least 10 hours a day.**\n",
    "\n",
    "(Beginning of Work: 8th October 2024, End of Work: 8th October 2024)"
   ]
  },
  {
   "cell_type": "markdown",
   "id": "f436d486",
   "metadata": {},
   "source": [
    "## Final Statement & Relationship to the Driving Problem\n",
    "\n",
    "Initially, we were worried that the large number of zeros in the dataset could mean there is a considerable chance that there are potential outliers in the dataset that should be excluded from performing the analysis. However, after doing a thorough analysis of this dataset regarding whether or not to keep the zeros, it was concluded that the zeros are not outliers, but rather a true representation of the user's activity status, where the vast majoirty of them are probably sleeping.\n",
    "\n",
    "The analysis above could greatly assist my other group members to answer the driving problem. There were several arguments on whether or not to include this period of time where the vast majority of users are sleeping, with only a few awake for late night shifts such as security guards. \n",
    "\n",
    "After this analysis, I have come to a conclusion that while I recognise there are some people who are working late and therefore should have steps recorded. I'm satisfied that the zeros recorded are a true representation of the data, as the vast majority of them would be in bed and have no steps recorded. \n",
    "\n",
    "The earlier prediction is therefore found out to be true, and I will be presenting this finding to my other group members and make a recommendation to include the zeros in our final analysis, so as to prevent any omissions which could lead to inaccurate results.\n",
    "\n",
    "The boxplot has shown that the user has not avoided inactivieness for at least 10 hours a day, as the majority of the portion of the boxplot falls below the red line which indicates the threshold. Although only one user is being analysed, this finding is still useful for the group project, and will assist in answering the driving problem.\n",
    "\n",
    "(Beginning of Work: 7th October 2024, End of Work: 8th October 2024)"
   ]
  },
  {
   "cell_type": "markdown",
   "id": "b8478dca",
   "metadata": {},
   "source": [
    "## Acknowledgement of the use of AI"
   ]
  },
  {
   "cell_type": "markdown",
   "id": "18281cf7",
   "metadata": {},
   "source": [
    "The code was generated using generative AI (GAI), specifically Open AI ChatGPT. The prompts used and the the time of content generated are as follows:\n",
    "\n",
    "- \"Generate a Plotly barplot to show the number of zeros for each hour in the hourly step count dataset\" (Generated at: 3:37pm, 5th October 2024)\n",
    "\n",
    "- \"Generate a Plotly boxplot to show the active number of hours per day with a threshold of 208 steps per hour in the hourly step count dataset\" (Generated at: 11:00pm, 8th October 2024)\n",
    "\n",
    "I've had modified certain parts of code generated by GAI including the title of the plot, and some variable names. The initial output for both plots was quite repetitive, as such I've simplified the code which is shorter than what it originally was. The comments within the code block were mostly my own work, with a few adapated from GAI. The code to load the packages for Plotly are directly used from the output of GAI. \n",
    "\n",
    "(Beginning of Work: 7th October 2024, End of Work: 8th October 2024)"
   ]
  }
 ],
 "metadata": {
  "kernelspec": {
   "display_name": "Python 3 (ipykernel)",
   "language": "python",
   "name": "python3"
  },
  "language_info": {
   "codemirror_mode": {
    "name": "ipython",
    "version": 3
   },
   "file_extension": ".py",
   "mimetype": "text/x-python",
   "name": "python",
   "nbconvert_exporter": "python",
   "pygments_lexer": "ipython3",
   "version": "3.11.4"
  }
 },
 "nbformat": 4,
 "nbformat_minor": 5
}
