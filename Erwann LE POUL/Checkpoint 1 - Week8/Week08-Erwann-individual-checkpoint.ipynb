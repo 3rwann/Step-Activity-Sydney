{
 "cells": [
  {
   "cell_type": "markdown",
   "id": "0eab3c63-454f-4a73-b4f4-9ed419924989",
   "metadata": {},
   "source": [
    "# Individual Checkpoint 1: Personal data exploration\n",
    "Author: Erwann LE POUL\n",
    "Group ID: CC08-03\n",
    "\n",
    "Overview of the notebook:\n",
    "In this notebook we will be analysing 3 individuals in the following datasets:dailySteps_merged, hourlySteps_merged and minuteStepsWide_merged. We will explore the data for the participants chosen (The User ID are: 2873212765 3372868164 3977333714) and report some statistical summaries. This step in the data exploration will further help us in the completion of our assignment 2, with our driving problem being \"Do they avoid inactivity in at least 10 hours a day?\".\n",
    "\n",
    "Initial assumptions and predictions:\n",
    "1. Data integrity\n",
    "2. Representativeness\n",
    "3. Independence of observations\n",
    "4. No external influences\n",
    "5. Consistent measuring\n",
    "6. Absence of outliers\n",
    "7. Absence of null values"
   ]
  },
  {
   "cell_type": "markdown",
   "id": "6d4de5bb-391d-4da0-bd82-5a37eb4cbaaa",
   "metadata": {},
   "source": [
    "## Exploraty Data Analysis\n",
    "### Loading the packages\n",
    "Beginning of Work: 13th September 2024, End of Work: 13th September 2024"
   ]
  },
  {
   "cell_type": "code",
   "execution_count": 5,
   "id": "1088c019-0d2d-48b5-83fb-734d7bbcab81",
   "metadata": {},
   "outputs": [],
   "source": [
    "# Importing the packages\n",
    "import pandas as pd\n",
    "import numpy as np\n",
    "import matplotlib.pyplot as plt\n"
   ]
  },
  {
   "cell_type": "markdown",
   "id": "6b54af1f-b840-409b-9783-ca80d5458dae",
   "metadata": {},
   "source": [
    "### Loading the dataset, Cleaning the data and determining the Individuals for checkpoint\n",
    "Beginning of Work: 15th September 2024, End of Work: 15th September 2024"
   ]
  },
  {
   "cell_type": "code",
   "execution_count": 8,
   "id": "504a96a5-661c-4569-8261-238f13142fc1",
   "metadata": {},
   "outputs": [],
   "source": [
    "# Load and inspect step count data across different time intervals\n",
    "# The dataset includes step data collected at daily, hourly, and minute intervals\n",
    "\n",
    "# Loading the daily, hourly, and minute datasets\n",
    "df_day = pd.read_csv(\"dailySteps_merged.csv\")\n",
    "df_hour = pd.read_csv(\"hourlySteps_merged.csv\")\n",
    "df_minute = pd.read_csv(\"minuteStepsWide_merged.csv\")"
   ]
  },
  {
   "cell_type": "markdown",
   "id": "8c3b9edf-83c3-4c61-ae68-536561e15bed",
   "metadata": {},
   "source": [
    "The 3 datasets are now loaded and we can move on to cleaning the data."
   ]
  },
  {
   "cell_type": "code",
   "execution_count": 11,
   "id": "3bda38fa-d085-427f-b613-84f1e077fd7e",
   "metadata": {},
   "outputs": [
    {
     "name": "stdout",
     "output_type": "stream",
     "text": [
      "Checking for missing values in daily data: Id             False\n",
      "ActivityDay    False\n",
      "StepTotal      False\n",
      "dtype: bool\n",
      "Checking for missing values in hourly data: Id              False\n",
      "ActivityHour    False\n",
      "StepTotal       False\n",
      "dtype: bool\n",
      "Checking for missing values in minute data: Id              False\n",
      "ActivityHour    False\n",
      "Steps00         False\n",
      "Steps01         False\n",
      "Steps02         False\n",
      "                ...  \n",
      "Steps55         False\n",
      "Steps56         False\n",
      "Steps57         False\n",
      "Steps58         False\n",
      "Steps59         False\n",
      "Length: 62, dtype: bool\n"
     ]
    }
   ],
   "source": [
    "# Check for missing values in each dataset to ensure data quality\n",
    "# isnull().any() will return True for columns with missing data\n",
    "print(\"Checking for missing values in daily data:\", df_day.isnull().any())\n",
    "print(\"Checking for missing values in hourly data:\", df_hour.isnull().any())\n",
    "print(\"Checking for missing values in minute data:\", df_minute.isnull().any())"
   ]
  },
  {
   "cell_type": "markdown",
   "id": "0e16e4a8-c1a3-40e1-ae8b-45d2742792d7",
   "metadata": {},
   "source": [
    "In each dataset that was loaded none of them had null values thus we can move on to determining the individuals chosen for this checkpoint. Note: the individuals I chose for this checkpoint was agreed during the thursday tutorial."
   ]
  },
  {
   "cell_type": "code",
   "execution_count": 14,
   "id": "55cf8734-37bd-412f-b3df-9af521d1175c",
   "metadata": {},
   "outputs": [
    {
     "name": "stdout",
     "output_type": "stream",
     "text": [
      "Selected user IDs from daily data: 2873212765 3372868164 3977333714\n",
      "Selected user IDs from hourly data: 2873212765 3372868164 3977333714\n",
      "Selected user IDs from minute data: 2873212765 3372868164 3977333714\n"
     ]
    }
   ],
   "source": [
    "# Extracting unique user IDs to avoid duplicates in analysis\n",
    "# This helps focus on distinct users\n",
    "unique_day_ids = df_day[\"Id\"].unique()\n",
    "unique_hour_ids = df_hour[\"Id\"].unique()\n",
    "unique_minute_ids = df_minute[\"Id\"].unique()\n",
    "\n",
    "# Displaying three specific user IDs (index 9, 10, 11) from each dataset\n",
    "# These IDs will be used for further analysis\n",
    "print(\"Selected user IDs from daily data:\", unique_day_ids[9], unique_day_ids[10], unique_day_ids[11])\n",
    "print(\"Selected user IDs from hourly data:\", unique_hour_ids[9], unique_hour_ids[10], unique_hour_ids[11])\n",
    "print(\"Selected user IDs from minute data:\", unique_minute_ids[9], unique_minute_ids[10], unique_minute_ids[11])\n",
    "\n",
    "# Assigning selected user IDs to variables for ease of use in future steps\n",
    "id9 = unique_day_ids[9]\n",
    "id10 = unique_day_ids[10]\n",
    "id11 = unique_day_ids[11]\n",
    "\n",
    "# Now, id9, id10, and id11 represent the three unique user IDs across all datasets"
   ]
  },
  {
   "cell_type": "markdown",
   "id": "8dafdf97-74df-4ead-8b3d-5d9f283c32be",
   "metadata": {},
   "source": [
    "### Daily Steps Analysis:\n",
    "Beginning of Work: 13th September 2024, End of Work: 13th September 2024\n",
    "We will now analyse the usage of the fitness watch by determining the number of days each individual used the device based on their unique IDs.\n"
   ]
  },
  {
   "cell_type": "code",
   "execution_count": 17,
   "id": "139e5752-63a5-4b44-aeaa-52145737cdbc",
   "metadata": {},
   "outputs": [
    {
     "name": "stdout",
     "output_type": "stream",
     "text": [
      "The IDs of the individuals selected: 2873212765 3372868164 3977333714\n",
      "The number of active days for these individuals (in the same order): 31 20 30\n"
     ]
    }
   ],
   "source": [
    "# Filtering activity data for each user by their ID\n",
    "# The 'isin()' function helps to select rows where the 'Id' matches the specified user IDs\n",
    "# Extracting 'ActivityDay' for each individual (id9, id10, id11)\n",
    "\n",
    "id9_activity_day = df_day[df_day['Id'].isin([id9])]['ActivityDay']\n",
    "id10_activity_day = df_day[df_day['Id'].isin([id10])]['ActivityDay']\n",
    "id11_activity_day = df_day[df_day['Id'].isin([id11])]['ActivityDay']\n",
    "\n",
    "# Determining the number of unique days each individual was active (used the device)\n",
    "# We use 'unique()' on the 'ActivityDay' column to find the distinct days and then count them with len()\n",
    "id9_nb_days = len(id9_activity_day.unique())\n",
    "id10_nb_days = len(id10_activity_day.unique())\n",
    "id11_nb_days = len(id11_activity_day.unique())\n",
    "\n",
    "# Displaying the selected user IDs and their corresponding active days\n",
    "print(\"The IDs of the individuals selected:\", id9, id10, id11)\n",
    "print(\"The number of active days for these individuals (in the same order):\", id9_nb_days, id10_nb_days, id11_nb_days)\n",
    "\n",
    "# Summary:\n",
    "# id9_nb_days, id10_nb_days, and id11_nb_days now contain the number of unique days\n",
    "# each individual used the device. This can provide insights into user engagement over time."
   ]
  },
  {
   "cell_type": "markdown",
   "id": "c1eb6ec5-a9fb-498c-b4f7-c56c5cd18dd1",
   "metadata": {},
   "source": [
    "We can see that some indiduals missed a few days when wearing the device (Index 10 and 11) but that should not have major effect on the exploration of the data and statistical summaries. After completing this, we can now move on to the statistical summaries for this dataset.\n",
    "\n",
    "Beginning of Work: 15th September 2024, End of Work: 15th September 2024"
   ]
  },
  {
   "cell_type": "code",
   "execution_count": 20,
   "id": "c6f39072-b4c5-4754-a7a8-f387a36fd8f1",
   "metadata": {},
   "outputs": [
    {
     "name": "stdout",
     "output_type": "stream",
     "text": [
      "           ID  Daily Min Steps  Daily Max Steps  Daily Median Steps  \\\n",
      "0  2873212765             2524             9685                7762   \n",
      "1  3372868164             3077             9715                7150   \n",
      "2  3977333714              746            16520               11604   \n",
      "\n",
      "   Daily Average Step  \n",
      "0                7555  \n",
      "1                6861  \n",
      "2               10984  \n"
     ]
    }
   ],
   "source": [
    "# Statistical summary for step count data of selected users\n",
    "# We aim to extract daily step totals and calculate key statistics (min, max, median, and mean) for three users\n",
    "\n",
    "# Extracting daily step totals for each user (id9, id10, id11) from the dataset\n",
    "id9_daily_step_total = df_day[df_day['Id'].isin([id9])]['StepTotal']\n",
    "id10_daily_step_total = df_day[df_day['Id'].isin([id10])]['StepTotal']\n",
    "id11_daily_step_total = df_day[df_day['Id'].isin([id11])]['StepTotal']\n",
    "\n",
    "# Calculating the minimum number of steps taken each day by the selected users\n",
    "# min() finds the lowest step count in the 'StepTotal' column for each user\n",
    "id9_min_step = int(id9_daily_step_total.min())\n",
    "id10_min_step = int(id10_daily_step_total.min())\n",
    "id11_min_step = int(id11_daily_step_total.min())\n",
    "\n",
    "# Calculating the maximum number of steps taken each day by the selected users\n",
    "# max() finds the highest step count in the 'StepTotal' column for each user\n",
    "id9_max_step = int(id9_daily_step_total.max())\n",
    "id10_max_step = int(id10_daily_step_total.max())\n",
    "id11_max_step = int(id11_daily_step_total.max())\n",
    "\n",
    "# Determining the median step count for each user\n",
    "# median() provides the middle value when the step counts are sorted, offering insight into typical daily activity\n",
    "id9_median_step = int(id9_daily_step_total.median())\n",
    "id10_median_step = int(id10_daily_step_total.median())\n",
    "id11_median_step = int(id11_daily_step_total.median())\n",
    "\n",
    "# Calculating the mean step count for each user\n",
    "# mean() returns the average step count, representing the overall activity level for each user\n",
    "id9_mean_step = int(id9_daily_step_total.mean())\n",
    "id10_mean_step = int(id10_daily_step_total.mean())\n",
    "id11_mean_step = int(id11_daily_step_total.mean())\n",
    "\n",
    "# Organizing the statistical results into a dictionary for tabular display\n",
    "# Each key represents a column (e.g., 'ID', 'Daily Min Steps'), and values are the statistics for the selected users\n",
    "daily_stat = {\n",
    "    'ID': [id9, id10, id11],\n",
    "    'Daily Min Steps': [id9_min_step, id10_min_step, id11_min_step],\n",
    "    'Daily Max Steps': [id9_max_step, id10_max_step, id11_max_step],\n",
    "    'Daily Median Steps': [id9_median_step, id10_median_step, id11_median_step],\n",
    "    'Daily Average Step': [id9_mean_step, id10_mean_step, id11_mean_step]\n",
    "}\n",
    "\n",
    "# Creating a DataFrame to display the statistics in a structured table format\n",
    "table_day = pd.DataFrame(daily_stat)\n",
    "\n",
    "# Displaying the table with the calculated statistics for each user\n",
    "print(table_day)"
   ]
  },
  {
   "cell_type": "markdown",
   "id": "e2c5602f-ce5f-435d-96fb-0632d3ee81ad",
   "metadata": {},
   "source": [
    "From the table given above we can now have a look at the daily minimum, maximum, median and average step count. Here is what we can extract from the table:\n",
    "\n",
    "ID 2873212765:\n",
    "- The daily step count ranges between 2,524 and 9,685 steps.\n",
    "- The median step count is 7,762, indicating that half of the days this user took more than 7,762 steps.\n",
    "- The average daily step count is 7,555, showing consistent activity levels close to the median.\n",
    "\n",
    "ID 3372868164:\n",
    "- This user's step count ranges from 3,077 to 9,715 steps.\n",
    "- The median step count is 7,150, lower than the first user's, indicating somewhat less activity on half of the days.\n",
    "- The average step count of 6,861 is lower than the median, suggesting some days with significantly fewer steps than others.\n",
    "\n",
    "ID 3977333714:\n",
    "- This individual has the most variation in step count, ranging from as low as 746 steps to as high as 16,520.\n",
    "- A high median (11,604) and average (10,984) indicate that this user is consistently more active, despite occasional low activity days.\n",
    "\n",
    "#### Conclusion:\n",
    "The third individual (ID 3977333714) is the most active overall, with significantly higher median and average steps compared to the other two. The data suggests varying patterns of activity across all three users, with one user showing more consistent daily activity (ID 2873212765), while another (ID 3977333714) exhibits more fluctuation but generally higher step counts.\n",
    "\n",
    "### Hourly Steps Analysis:\n",
    "Beginning of Work: 15th September 2024, End of Work: 135h September 2024\n",
    "We will now analyse the data from the number of hours each individual used the devised based on their unique IDs and determine some statistical summaries."
   ]
  },
  {
   "cell_type": "code",
   "execution_count": 25,
   "id": "d0ebe032-3378-4157-b995-b2b74c0c67c2",
   "metadata": {},
   "outputs": [
    {
     "name": "stdout",
     "output_type": "stream",
     "text": [
      "           ID  Hourly Min Steps  Hourly Max Steps  Hourly Median Steps  \\\n",
      "0  2873212765                 0              4534                  125   \n",
      "1  3372868164                 0              3084                  147   \n",
      "2  3977333714                 0              5414                   79   \n",
      "\n",
      "   Hourly Average Step  \n",
      "0                  318  \n",
      "1                  290  \n",
      "2                  471  \n"
     ]
    }
   ],
   "source": [
    "# Exploratory Data Analysis: Hourly Step Count\n",
    "# This section analyzes step count data on an hourly basis for three specific users\n",
    "\n",
    "# Extracting hourly step data for the selected users (id9, id10, id11)\n",
    "# The 'isin()' function is used to filter the dataframe for these users, focusing on 'StepTotal'\n",
    "id9_hour_step_total = df_hour[df_hour['Id'].isin([id9])]['StepTotal']\n",
    "id10_hour_step_total = df_hour[df_hour['Id'].isin([id10])]['StepTotal']\n",
    "id11_hour_step_total = df_hour[df_hour['Id'].isin([id11])]['StepTotal']\n",
    "\n",
    "# Calculating the minimum number of steps each user took in any given hour\n",
    "# The min() function identifies the lowest value in the 'StepTotal' column\n",
    "id9_min_step = int(id9_hour_step_total.min())\n",
    "id10_min_step = int(id10_hour_step_total.min())\n",
    "id11_min_step = int(id11_hour_step_total.min())\n",
    "\n",
    "# Calculating the maximum number of steps taken in a single hour by each user\n",
    "# max() provides the highest step count recorded within an hour\n",
    "id9_max_step = int(id9_hour_step_total.max())\n",
    "id10_max_step = int(id10_hour_step_total.max())\n",
    "id11_max_step = int(id11_hour_step_total.max())\n",
    "\n",
    "# Computing the median number of steps taken per hour for each user\n",
    "# median() gives the middle value, which is useful for understanding typical hourly activity\n",
    "id9_median_step = int(id9_hour_step_total.median())\n",
    "id10_median_step = int(id10_hour_step_total.median())\n",
    "id11_median_step = int(id11_hour_step_total.median())\n",
    "\n",
    "# Determining the average hourly step count for each user\n",
    "# mean() calculates the average steps taken per hour, providing a general activity level\n",
    "id9_mean_step = int(id9_hour_step_total.mean())\n",
    "id10_mean_step = int(id10_hour_step_total.mean())\n",
    "id11_mean_step = int(id11_hour_step_total.mean())\n",
    "\n",
    "# Compiling the calculated statistics into a dictionary for a clearer presentation in tabular form\n",
    "hourly_stat = {\n",
    "    'ID': [id9, id10, id11],\n",
    "    'Hourly Min Steps': [id9_min_step, id10_min_step, id11_min_step],\n",
    "    'Hourly Max Steps': [id9_max_step, id10_max_step, id11_max_step],\n",
    "    'Hourly Median Steps': [id9_median_step, id10_median_step, id11_median_step],\n",
    "    'Hourly Average Step': [id9_mean_step, id10_mean_step, id11_mean_step]\n",
    "}\n",
    "\n",
    "# Create the dataframe for printing as a table\n",
    "table_hour = pd.DataFrame(hourly_stat)\n",
    "\n",
    "# Display the table\n",
    "print(table_hour)\n"
   ]
  },
  {
   "cell_type": "markdown",
   "id": "3269401f-04fe-4712-843e-7831bb660672",
   "metadata": {},
   "source": [
    "The table provides a summary of hourly step count statistics for three individuals. Here are the key insights:\n",
    "\n",
    "ID 2873212765:\n",
    "- The hourly step count ranges from 0 to 4,534 steps.\n",
    "- The median number of steps per hour is 125, meaning that in half the hours, this individual took fewer than 125 steps.\n",
    "- On average, the individual takes 318 steps per hour, suggesting relatively moderate activity levels, with some hours showing high step counts.\n",
    "  \n",
    "ID 3372868164:\n",
    "- This individual also has some inactive hours, with 0 steps recorded in certain hours and a maximum of 3,084 steps in the most active hour.\n",
    "- The median hourly step count is 147, slightly higher than the first user.\n",
    "- The average step count is 290 steps per hour, indicating a similar overall activity pattern to the first user but with slightly less variability.\n",
    "\n",
    "ID 3977333714:\n",
    "- The third individual exhibits more variability, with hourly steps ranging from 0 to 5,414 steps.\n",
    "- However, the median hourly step count is only 79, meaning that most hours are relatively inactive, though bursts of high activity are evident in some hours.\n",
    "- The average hourly step count is 471, which is significantly higher than the other two users, reflecting a more active lifestyle on average.\n",
    "\n",
    "#### Conclusion:\n",
    "The third individual (ID 3977333714) shows greater fluctuation in activity with higher overall average steps, while the first two users maintain more consistent but lower activity levels. All three individuals have periods of inactivity (0 steps), but the third individual tends to take more steps during active periods.\n",
    "\n",
    "### Minute Steps Analysis:\n",
    "Beginning of Work: 15th September 2024, End of Work: 135h September 2024\n",
    "We will now analyse the data from the number of minutes each individual used the devised based on their unique IDs and determine some statistical summaries."
   ]
  },
  {
   "cell_type": "code",
   "execution_count": 29,
   "id": "fc139597-270a-49d6-8479-4c6636c42a56",
   "metadata": {},
   "outputs": [
    {
     "name": "stdout",
     "output_type": "stream",
     "text": [
      "           ID  Non-Zero Minutes  Missing Minutes  Average Steps per Minute  \\\n",
      "0  2873212765              7052                0                         5   \n",
      "1  3372868164              4517                0                         4   \n",
      "2  3977333714              8033                0                         7   \n",
      "\n",
      "   Max Steps per Minute  Min Steps per Minute  \n",
      "0                   164                     0  \n",
      "1                   164                     0  \n",
      "2                   190                     0  \n"
     ]
    }
   ],
   "source": [
    "# Exploratory Data Analysis (EDA): Minute Step Count\n",
    "# This analysis focuses on evaluating step counts at the minute level for the selected individuals.\n",
    "\n",
    "# Statistical Summary for Minute Step Count:\n",
    "# Defining a function to count the number of non-zero minutes (minutes with steps recorded)\n",
    "def count_non_zero_minutes(df):\n",
    "    # Identify columns starting with 'Steps' (minute step counts)\n",
    "    step_columns = [col for col in df.columns if col.startswith('Steps')]\n",
    "    \n",
    "    # Sum non-zero values per row and aggregate across all rows\n",
    "    total_non_zero = (df[step_columns] > 0).sum().sum()\n",
    "    \n",
    "    # Return the total count of non-zero step values\n",
    "    return int(total_non_zero)\n",
    "\n",
    "# Defining a function to count missing values in step columns\n",
    "def count_missing_minutes(df):\n",
    "    # Identify 'Steps' columns for each minute\n",
    "    step_columns = [col for col in df.columns if col.startswith('Steps')]\n",
    "    \n",
    "    # Count missing values in these columns\n",
    "    total_missing = df[step_columns].isnull().sum().sum()\n",
    "    \n",
    "    # Return the count of missing values\n",
    "    return int(total_missing)\n",
    "\n",
    "# Defining a function to calculate the average number of steps per minute\n",
    "def calculate_avg_steps(df):\n",
    "    # Identify 'Steps' columns for minute step counts\n",
    "    step_columns = [col for col in df.columns if col.startswith('Steps')]\n",
    "    \n",
    "    # Calculate total step count and divide by the count of valid entries\n",
    "    average_steps = df[step_columns].sum().sum() / df[step_columns].count().sum()\n",
    "    \n",
    "    # Return the average step count as an integer\n",
    "    return int(average_steps)\n",
    "\n",
    "# Defining a function to find the maximum and minimum steps in any minute\n",
    "def calculate_max_min_steps(df):\n",
    "    # Identify 'Steps' columns for minute step counts\n",
    "    step_columns = [col for col in df.columns if col.startswith('Steps')]\n",
    "    \n",
    "    # Calculate maximum and minimum values across all step columns\n",
    "    max_steps = df[step_columns].max().max()\n",
    "    min_steps = df[step_columns].min().min()\n",
    "    \n",
    "    # Return both maximum and minimum step counts\n",
    "    return int(max_steps), int(min_steps)\n",
    "\n",
    "# Extracting minute-level step data for the selected users (ID9, ID10, ID11)\n",
    "id9_minute_data = df_minute[df_minute['Id'].isin([id9])]\n",
    "id10_minute_data = df_minute[df_minute['Id'].isin([id10])]\n",
    "id11_minute_data = df_minute[df_minute['Id'].isin([id11])]\n",
    "\n",
    "# Counting non-zero minutes for each user\n",
    "id9_non_zero_minutes = count_non_zero_minutes(id9_minute_data)\n",
    "id10_non_zero_minutes = count_non_zero_minutes(id10_minute_data)\n",
    "id11_non_zero_minutes = count_non_zero_minutes(id11_minute_data)\n",
    "\n",
    "# Counting missing minutes for each user\n",
    "id9_missing_minutes = count_missing_minutes(id9_minute_data)\n",
    "id10_missing_minutes = count_missing_minutes(id10_minute_data)\n",
    "id11_missing_minutes = count_missing_minutes(id11_minute_data)\n",
    "\n",
    "# Calculating the average steps per minute for each user\n",
    "id9_avg_steps = calculate_avg_steps(id9_minute_data)\n",
    "id10_avg_steps = calculate_avg_steps(id10_minute_data)\n",
    "id11_avg_steps = calculate_avg_steps(id11_minute_data)\n",
    "\n",
    "# Determining the maximum and minimum steps taken in any minute for each user\n",
    "id9_max_steps, id9_min_steps = calculate_max_min_steps(id9_minute_data)\n",
    "id10_max_steps, id10_min_steps = calculate_max_min_steps(id10_minute_data)\n",
    "id11_max_steps, id11_min_steps = calculate_max_min_steps(id11_minute_data)\n",
    "\n",
    "# Storing results in a dictionary to create a summary table\n",
    "minute_summary = {\n",
    "    'ID': [id9, id10, id11],\n",
    "    'Non-Zero Minutes': [id9_non_zero_minutes, id10_non_zero_minutes, id11_non_zero_minutes],\n",
    "    'Missing Minutes': [id9_missing_minutes, id10_missing_minutes, id11_missing_minutes],\n",
    "    'Average Steps per Minute': [id9_avg_steps, id10_avg_steps, id11_avg_steps],\n",
    "    'Max Steps per Minute': [id9_max_steps, id10_max_steps, id11_max_steps],\n",
    "    'Min Steps per Minute': [id9_min_steps, id10_min_steps, id11_min_steps]\n",
    "}\n",
    "\n",
    "# Creating a DataFrame to display the results\n",
    "table_minute = pd.DataFrame(minute_summary)\n",
    "\n",
    "# Displaying the summary table for minute step count analysis\n",
    "print(table_minute)\n"
   ]
  },
  {
   "cell_type": "markdown",
   "id": "1ebe9c3d-0448-4ca6-ab73-3a50c534b842",
   "metadata": {},
   "source": [
    "The table provides a detailed summary of minute-level step data for three individuals (ID9, ID10, and ID11).\n",
    "- Non-Zero Minutes: ID11 had the highest number of active minutes, with 8,033 minutes of recorded steps, followed by ID9 with 7,052 minutes. ID10 had the fewest active minutes at 4,517. This suggests that ID11 was the most consistently active, while ID10 had less overall movement.\n",
    "- Missing Minutes: None of the users had missing data, indicating complete step count recordings for all three individuals.\n",
    "- Average Steps per Minute: ID11 also had the highest average step count per minute, with 7 steps per minute, followed by ID9 with 5 steps per minute, and ID10 with 4 steps per minute. This highlights ID11's higher activity intensity compared to the other two users.\n",
    "- Max and Min Steps per Minute: The maximum step count in a single minute was 190 for ID11, slightly higher than ID9 and ID10, who both had a maximum of 164. The minimum steps per minute was 0 for all users, indicating periods of inactivity across all participants.\n",
    "\n",
    "In summary, ID11 was the most active in terms of both the duration and intensity of activity, while ID10 had the lowest activity levels overall.\n",
    "\n",
    "### Final Statement:\n",
    "Final statement about what I learnt from EDA and how it relates to the driving problem:\n",
    "\n",
    "From the Exploratory Data Analysis (EDA), I learned that individuals exhibit different patterns of physical activity based on step data at daily, hourly, and minute levels. Specifically:\n",
    "\n",
    "1. Activity Consistency vs. Variability: ID9 and ID10 tend to have more consistent but lower step counts, both daily and hourly, compared to ID11, who shows higher variability but also higher activity levels overall. This suggests that while ID9 and ID10 might avoid long periods of inactivity, they may not achieve high-intensity activity levels as frequently as ID11.\n",
    "\n",
    "2. Key Patterns of Inactivity: All users, particularly ID10, experienced periods of inactivity, as shown by zero-step minutes and lower step counts per minute. However, none of the users had missing data, indicating robust data collection throughout their monitored periods. This is crucial when assessing physical activity patterns over time.\n",
    "\n",
    "3. Relation to the Driving Problem: The driving problem focuses on understanding whether individuals avoid inactivity in at least 10 hours a day. Based on the analysis, ID11 is the most likely to avoid long periods of inactivity, with a high number of active minutes and consistent bursts of activity. ID9 also shows relatively high active minutes but to a lesser extent. In contrast, ID10 may face challenges in maintaining continuous activity due to a lower number of active minutes and a reduced average steps per minute.\n",
    "\n",
    "This analysis helps in identifying which individuals meet the threshold of avoiding inactivity and highlights the need for tailored interventions to increase physical activity, especially for those like ID10 who may require strategies to boost both activity levels and consistency.\n"
   ]
  }
 ],
 "metadata": {
  "kernelspec": {
   "display_name": "Python 3 (ipykernel)",
   "language": "python",
   "name": "python3"
  },
  "language_info": {
   "codemirror_mode": {
    "name": "ipython",
    "version": 3
   },
   "file_extension": ".py",
   "mimetype": "text/x-python",
   "name": "python",
   "nbconvert_exporter": "python",
   "pygments_lexer": "ipython3",
   "version": "3.12.4"
  }
 },
 "nbformat": 4,
 "nbformat_minor": 5
}
